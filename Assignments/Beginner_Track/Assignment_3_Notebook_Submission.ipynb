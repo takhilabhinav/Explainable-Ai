{
  "nbformat": 4,
  "nbformat_minor": 0,
  "metadata": {
    "kernelspec": {
      "display_name": "Python 3",
      "language": "python",
      "name": "python3"
    },
    "language_info": {
      "codemirror_mode": {
        "name": "ipython",
        "version": 3
      },
      "file_extension": ".py",
      "mimetype": "text/x-python",
      "name": "python",
      "nbconvert_exporter": "python",
      "pygments_lexer": "ipython3",
      "version": "3.8.3"
    },
    "colab": {
      "name": "Assignment 3: Notebook Submission.ipynb",
      "provenance": [],
      "collapsed_sections": [],
      "include_colab_link": true
    }
  },
  "cells": [
    {
      "cell_type": "markdown",
      "metadata": {
        "id": "view-in-github",
        "colab_type": "text"
      },
      "source": [
        "<a href=\"https://colab.research.google.com/github/dphi-official/Machine_Learning_Bootcamp/blob/master/Assignments/Beginner_Track/Assignment_3_Notebook_Submission.ipynb\" target=\"_parent\"><img src=\"https://colab.research.google.com/assets/colab-badge.svg\" alt=\"Open In Colab\"/></a>"
      ]
    },
    {
      "cell_type": "markdown",
      "metadata": {
        "id": "kAkDHG6SaWBb"
      },
      "source": [
        "## Datathon-2: Notebook Submission\n",
        "This is a template for Assignment 3 of Machine Learning Bootcamp. Please make sure you perform all tasks within the sections created. This ensures that your assignment is evaluated correctly. \n"
      ]
    },
    {
      "cell_type": "markdown",
      "metadata": {
        "id": "3TS_iDuCaWBc"
      },
      "source": [
        "## Task 1"
      ]
    },
    {
      "cell_type": "markdown",
      "metadata": {
        "id": "ads6yBtqaWBc"
      },
      "source": [
        "### Import Libraries"
      ]
    },
    {
      "cell_type": "code",
      "metadata": {
        "id": "0rGlRHBtaWBc"
      },
      "source": [
        ""
      ],
      "execution_count": null,
      "outputs": []
    },
    {
      "cell_type": "markdown",
      "metadata": {
        "id": "rEEA8eZRaWBd"
      },
      "source": [
        "### Load the data and display first 5 rows."
      ]
    },
    {
      "cell_type": "code",
      "metadata": {
        "id": "mF3Qi2tyaWBd"
      },
      "source": [
        ""
      ],
      "execution_count": null,
      "outputs": []
    },
    {
      "cell_type": "markdown",
      "metadata": {
        "id": "RHVlzyz6aWBd"
      },
      "source": [
        "### Perform Exploratory Data Analysis"
      ]
    },
    {
      "cell_type": "code",
      "metadata": {
        "id": "pNC0AQc6aWBd"
      },
      "source": [
        ""
      ],
      "execution_count": null,
      "outputs": []
    },
    {
      "cell_type": "markdown",
      "metadata": {
        "id": "-6Xcy9FeaWBd"
      },
      "source": [
        "### Separate the Input and Target Features of the data"
      ]
    },
    {
      "cell_type": "code",
      "metadata": {
        "id": "yxHNqG1PaWBd"
      },
      "source": [
        ""
      ],
      "execution_count": null,
      "outputs": []
    },
    {
      "cell_type": "markdown",
      "metadata": {
        "id": "Bsyki2hjaWBd"
      },
      "source": [
        "### Split the data into Train and Test Sets"
      ]
    },
    {
      "cell_type": "code",
      "metadata": {
        "id": "nMPnzPZ2aWBd"
      },
      "source": [
        ""
      ],
      "execution_count": null,
      "outputs": []
    },
    {
      "cell_type": "markdown",
      "metadata": {
        "id": "o5UZz7b9I9eJ"
      },
      "source": [
        "## Task 2"
      ]
    },
    {
      "cell_type": "markdown",
      "metadata": {
        "id": "kNuCKaCkaWBd"
      },
      "source": [
        "### Perform Data Preparation Steps"
      ]
    },
    {
      "cell_type": "code",
      "metadata": {
        "id": "5zj3nJaHaWBd"
      },
      "source": [
        ""
      ],
      "execution_count": null,
      "outputs": []
    },
    {
      "cell_type": "markdown",
      "metadata": {
        "id": "3homAQVbaWBd"
      },
      "source": [
        "## Task 3"
      ]
    },
    {
      "cell_type": "markdown",
      "metadata": {
        "id": "M3GISQkNaWBd"
      },
      "source": [
        "### Build any Machine Learning Model of your choice"
      ]
    },
    {
      "cell_type": "code",
      "metadata": {
        "id": "JlNJAYvdaWBd"
      },
      "source": [
        ""
      ],
      "execution_count": null,
      "outputs": []
    },
    {
      "cell_type": "markdown",
      "metadata": {
        "id": "GlytbSbgaWBd"
      },
      "source": [
        "### Evaluate your model with various Evaluation Metrics"
      ]
    },
    {
      "cell_type": "code",
      "metadata": {
        "id": "Jju88gE3aWBe"
      },
      "source": [
        ""
      ],
      "execution_count": null,
      "outputs": []
    },
    {
      "cell_type": "markdown",
      "metadata": {
        "id": "ZM1_hZ8PaWBe"
      },
      "source": [
        "### Try out other Machine Learning Models and Evaluate them"
      ]
    },
    {
      "cell_type": "code",
      "metadata": {
        "id": "WX8K9gDraWBe"
      },
      "source": [
        ""
      ],
      "execution_count": null,
      "outputs": []
    },
    {
      "cell_type": "markdown",
      "metadata": {
        "id": "eVHZUyJqaWBe"
      },
      "source": [
        "## Task 4"
      ]
    },
    {
      "cell_type": "markdown",
      "metadata": {
        "id": "HODz7FJtaWBe"
      },
      "source": [
        "### Perform Hyperparameter Tuning"
      ]
    },
    {
      "cell_type": "code",
      "metadata": {
        "id": "CJOuMecmaWBe"
      },
      "source": [
        ""
      ],
      "execution_count": null,
      "outputs": []
    },
    {
      "cell_type": "markdown",
      "metadata": {
        "id": "d28iH4_MaWBe"
      },
      "source": [
        "### Evaluate your model "
      ]
    },
    {
      "cell_type": "code",
      "metadata": {
        "id": "wKq_Rxl3aWBe"
      },
      "source": [
        ""
      ],
      "execution_count": null,
      "outputs": []
    },
    {
      "cell_type": "markdown",
      "metadata": {
        "id": "psVszfmDaWBe"
      },
      "source": [
        "## Task 5"
      ]
    },
    {
      "cell_type": "markdown",
      "metadata": {
        "id": "ZB-XnSkSaWBe"
      },
      "source": [
        "### Use any Feature Selection Technique and observe if the model created by selected features performs better than the previous model"
      ]
    },
    {
      "cell_type": "code",
      "metadata": {
        "id": "Tq9SRrQQKZUe"
      },
      "source": [
        ""
      ],
      "execution_count": null,
      "outputs": []
    },
    {
      "cell_type": "code",
      "metadata": {
        "id": "5JZJC9aPaWBe"
      },
      "source": [
        ""
      ],
      "execution_count": null,
      "outputs": []
    },
    {
      "cell_type": "markdown",
      "metadata": {
        "id": "Px3-FQRzaWBe"
      },
      "source": [
        "That is the end of this assignment. We hope you learnt a lot along the way. \n",
        "Make sure you complete the other 2 parts (leaderboard submission and quiz) as well.\n",
        "\n",
        "Now, download this notebook and submit it on the platform: https://dphi.tech/practice/challenge/52#notebooks \n"
      ]
    }
  ]
}