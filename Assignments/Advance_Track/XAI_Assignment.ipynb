{
  "nbformat": 4,
  "nbformat_minor": 0,
  "metadata": {
    "colab": {
      "name": "XAI_Assignment.ipynb",
      "provenance": [],
      "collapsed_sections": [],
      "include_colab_link": true
    },
    "kernelspec": {
      "name": "python3",
      "display_name": "Python 3"
    }
  },
  "cells": [
    {
      "cell_type": "markdown",
      "metadata": {
        "id": "view-in-github",
        "colab_type": "text"
      },
      "source": [
        "<a href=\"https://colab.research.google.com/github/dphi-official/Machine_Learning_Bootcamp/blob/master/Assignments/Advance_Track/XAI_Assignment.ipynb\" target=\"_parent\"><img src=\"https://colab.research.google.com/assets/colab-badge.svg\" alt=\"Open In Colab\"/></a>"
      ]
    },
    {
      "cell_type": "markdown",
      "metadata": {
        "id": "yBawZj05dfgc"
      },
      "source": [
        "# Explainable AI Assignment\n",
        "This is a template for Assignment 2 of Machine Learning Bootcamp. Please make sure you perform all tasks within the sections created. This ensures that your assignment is evaluated correctly. \n",
        "\n",
        "If you want to do something extra and show us your creativity, we have also created a space for it at the end!"
      ]
    },
    {
      "cell_type": "markdown",
      "metadata": {
        "id": "qSgbkmQVfe7q"
      },
      "source": [
        "# Task 1"
      ]
    },
    {
      "cell_type": "markdown",
      "metadata": {
        "id": "4u7RACdYeM9M"
      },
      "source": [
        "## Import Libraries"
      ]
    },
    {
      "cell_type": "code",
      "metadata": {
        "id": "IRfsBMYcdcNM"
      },
      "source": [
        ""
      ],
      "execution_count": null,
      "outputs": []
    },
    {
      "cell_type": "markdown",
      "metadata": {
        "id": "7m7jCFpbeReL"
      },
      "source": [
        "## Load the data\n",
        "Display the first 5 rows of the data after loading."
      ]
    },
    {
      "cell_type": "code",
      "metadata": {
        "id": "SIXawIsXecZ7"
      },
      "source": [
        ""
      ],
      "execution_count": null,
      "outputs": []
    },
    {
      "cell_type": "markdown",
      "metadata": {
        "id": "LPg8b8OKazuD"
      },
      "source": [
        "## Perform Basic Exploratory Data Analysis"
      ]
    },
    {
      "cell_type": "code",
      "metadata": {
        "id": "kvmiZiDBa3uT"
      },
      "source": [
        ""
      ],
      "execution_count": null,
      "outputs": []
    },
    {
      "cell_type": "markdown",
      "metadata": {
        "id": "y9BScIwwedAT"
      },
      "source": [
        "## Separate the Input and Target Features of the data"
      ]
    },
    {
      "cell_type": "code",
      "metadata": {
        "id": "ZuJ9GagifJEa"
      },
      "source": [
        ""
      ],
      "execution_count": null,
      "outputs": []
    },
    {
      "cell_type": "markdown",
      "metadata": {
        "id": "9eIeo9VmfKz8"
      },
      "source": [
        "## Split the data into Train and Test Sets\n",
        "The train to test ratio should be 80:20 and the random_state should be 0.\n"
      ]
    },
    {
      "cell_type": "code",
      "metadata": {
        "id": "LJBCPZeQfV1s"
      },
      "source": [
        ""
      ],
      "execution_count": null,
      "outputs": []
    },
    {
      "cell_type": "markdown",
      "metadata": {
        "id": "KAw1T0dpg-co"
      },
      "source": [
        "## Scale your data if required"
      ]
    },
    {
      "cell_type": "code",
      "metadata": {
        "id": "a8CA8U6RhWAW"
      },
      "source": [
        ""
      ],
      "execution_count": null,
      "outputs": []
    },
    {
      "cell_type": "markdown",
      "metadata": {
        "id": "o3rALxJNfjtq"
      },
      "source": [
        "# Task 2"
      ]
    },
    {
      "cell_type": "markdown",
      "metadata": {
        "id": "wrMSmzxrfbqs"
      },
      "source": [
        "## Build a Logistic Regression Model on train set"
      ]
    },
    {
      "cell_type": "code",
      "metadata": {
        "id": "8Wq4I8tQbDl0"
      },
      "source": [
        ""
      ],
      "execution_count": null,
      "outputs": []
    },
    {
      "cell_type": "markdown",
      "metadata": {
        "id": "oYmicAgEbEDc"
      },
      "source": [
        "## Evaluate the model using F1 Score"
      ]
    },
    {
      "cell_type": "code",
      "metadata": {
        "id": "-0okvhuAbGzS"
      },
      "source": [
        ""
      ],
      "execution_count": null,
      "outputs": []
    },
    {
      "cell_type": "markdown",
      "metadata": {
        "id": "p6lAgwqgbMKz"
      },
      "source": [
        "# Task 3"
      ]
    },
    {
      "cell_type": "markdown",
      "metadata": {
        "id": "4OmK-LwobHQj"
      },
      "source": [
        "##  Use a SHAP Explainer to derive SHAP Values for the logistic regression model."
      ]
    },
    {
      "cell_type": "code",
      "metadata": {
        "id": "DiFAhyZVbWgf"
      },
      "source": [
        ""
      ],
      "execution_count": null,
      "outputs": []
    },
    {
      "cell_type": "markdown",
      "metadata": {
        "id": "YOkmovCEeCY6"
      },
      "source": [
        "## Write your inferences from the generated plot."
      ]
    },
    {
      "cell_type": "markdown",
      "metadata": {
        "id": "Zj0vfz09eIX4"
      },
      "source": [
        ""
      ]
    },
    {
      "cell_type": "markdown",
      "metadata": {
        "id": "qFptCREabbFJ"
      },
      "source": [
        "# Task 4"
      ]
    },
    {
      "cell_type": "markdown",
      "metadata": {
        "id": "WX5lMJhcbgqD"
      },
      "source": [
        "## Plot a SHAP force plot for the first row of test data."
      ]
    },
    {
      "cell_type": "code",
      "metadata": {
        "id": "xl4sKAdLbdHl"
      },
      "source": [
        ""
      ],
      "execution_count": null,
      "outputs": []
    },
    {
      "cell_type": "markdown",
      "metadata": {
        "id": "OJltfhY1eKeY"
      },
      "source": [
        "## Write your inferences from the generated plot."
      ]
    },
    {
      "cell_type": "markdown",
      "metadata": {
        "id": "njI9qYbAeMxZ"
      },
      "source": [
        ""
      ]
    },
    {
      "cell_type": "markdown",
      "metadata": {
        "id": "C3I7LYpObtNS"
      },
      "source": [
        "# Task 5"
      ]
    },
    {
      "cell_type": "markdown",
      "metadata": {
        "id": "C-MfU71pbySa"
      },
      "source": [
        "## Plot a SHAP force plot for all the rows of the data"
      ]
    },
    {
      "cell_type": "code",
      "metadata": {
        "id": "mHrJjBVwbvLo"
      },
      "source": [
        ""
      ],
      "execution_count": null,
      "outputs": []
    },
    {
      "cell_type": "markdown",
      "metadata": {
        "id": "Iav4HfUxeODQ"
      },
      "source": [
        "## Write your inferences from the generated plot."
      ]
    },
    {
      "cell_type": "markdown",
      "metadata": {
        "id": "RC4HgS94eP1Y"
      },
      "source": [
        ""
      ]
    },
    {
      "cell_type": "markdown",
      "metadata": {
        "id": "4dW5kS8eb6RA"
      },
      "source": [
        "# Task 6"
      ]
    },
    {
      "cell_type": "markdown",
      "metadata": {
        "id": "b0CND_m2b-Fq"
      },
      "source": [
        "## Plot a SHAP summary plot using all the features in the data"
      ]
    },
    {
      "cell_type": "code",
      "metadata": {
        "id": "TIgjUACOb8Uo"
      },
      "source": [
        ""
      ],
      "execution_count": null,
      "outputs": []
    },
    {
      "cell_type": "markdown",
      "metadata": {
        "id": "VMYy2ZTPeQ-B"
      },
      "source": [
        "## Write your inferences from the generated plot."
      ]
    },
    {
      "cell_type": "markdown",
      "metadata": {
        "id": "b1GLgZ1rcJze"
      },
      "source": [
        "# Task 7"
      ]
    },
    {
      "cell_type": "markdown",
      "metadata": {
        "id": "VDYM969ccMbR"
      },
      "source": [
        "## Plot a dependence plot to show the effect of ‘chol’ across the whole dataset."
      ]
    },
    {
      "cell_type": "code",
      "metadata": {
        "id": "iP2njobrcLto"
      },
      "source": [
        ""
      ],
      "execution_count": null,
      "outputs": []
    },
    {
      "cell_type": "markdown",
      "metadata": {
        "id": "oW7SJXa3eSfi"
      },
      "source": [
        "## Write your inferences from the generated plot."
      ]
    },
    {
      "cell_type": "markdown",
      "metadata": {
        "id": "bwf2TZTfeYcn"
      },
      "source": [
        "# Task 8 (Optional)"
      ]
    },
    {
      "cell_type": "markdown",
      "metadata": {
        "id": "wm_QbqqwecbA"
      },
      "source": [
        "## Do anything and everything with SHAP\n",
        "This is the section to explore what more you can do with SHAP. Create some meaningful visualisations and write down what you can infer from them. \n",
        "\n",
        "Who knows, this section might carry some bonus points."
      ]
    },
    {
      "cell_type": "code",
      "metadata": {
        "id": "pWzHPd0fea8D"
      },
      "source": [
        ""
      ],
      "execution_count": null,
      "outputs": []
    },
    {
      "cell_type": "markdown",
      "metadata": {
        "id": "-gN8jCR5e0xZ"
      },
      "source": [
        "That is the end of this assignment. We hope you learnt a lot along the way. \n",
        "Make sure you complete the other 2 parts (leaderboard submission and quiz) as well.\n",
        "\n",
        "Now, rename this file as **firstname_lastname_XAI.ipynb**, Download it and submit it on the platform. "
      ]
    }
  ]
}