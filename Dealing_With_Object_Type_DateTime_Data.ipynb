{
  "nbformat": 4,
  "nbformat_minor": 0,
  "metadata": {
    "kernelspec": {
      "display_name": "Python 3",
      "language": "python",
      "name": "python3"
    },
    "language_info": {
      "codemirror_mode": {
        "name": "ipython",
        "version": 3
      },
      "file_extension": ".py",
      "mimetype": "text/x-python",
      "name": "python",
      "nbconvert_exporter": "python",
      "pygments_lexer": "ipython3",
      "version": "3.8.3"
    },
    "colab": {
      "name": "Dealing With Object Type DateTime Data.ipynb",
      "provenance": [],
      "include_colab_link": true
    }
  },
  "cells": [
    {
      "cell_type": "markdown",
      "metadata": {
        "id": "view-in-github",
        "colab_type": "text"
      },
      "source": [
        "<a href=\"https://colab.research.google.com/github/dphi-official/Machine_Learning_Bootcamp/blob/master/Dealing_With_Object_Type_DateTime_Data.ipynb\" target=\"_parent\"><img src=\"https://colab.research.google.com/assets/colab-badge.svg\" alt=\"Open In Colab\"/></a>"
      ]
    },
    {
      "cell_type": "markdown",
      "metadata": {
        "id": "blMDs2-s0osH"
      },
      "source": [
        "Exploring the datesets with dates and times are often very cumbersome. Python has a datatype specifically designed for dates and times called 'datetime'. But you will findy many datasets in which dates are represented as string (or object), which makes it more difficult to handle. So, in this tutorial you will how to convert the 'object' type date to 'datetime' format and also learn different methods and functions related to it."
      ]
    },
    {
      "cell_type": "markdown",
      "metadata": {
        "id": "JzYMgXBh0osH"
      },
      "source": [
        "We will use the dataset - 'Chicago Crime Detection'. There are 9 columns in this dataset.\n",
        "*  ID: Record Id\n",
        "*  Date: Date of Crime\n",
        "*  LocationDescription: Crime location\n",
        "*  Arrest: If an arrest was made for that crime or not\n",
        "*  Domestic: If the location is domestic or not\n",
        "*  Beat: The beat where the incident occurred.  A beat is the smallest police geographic area \n",
        "*  District: Indicates the police district where the incident occurred.\n",
        "*  CommunityArea: Indicates the community area where the incident occurred. Chicago has 77 community areas.\n",
        "*  Year: Year the incident occurred"
      ]
    },
    {
      "cell_type": "markdown",
      "metadata": {
        "id": "Dkh_7haf0osH"
      },
      "source": [
        "### Import Pandas Library and Load the Dataset"
      ]
    },
    {
      "cell_type": "code",
      "metadata": {
        "id": "fFiXT7lo0osH"
      },
      "source": [
        "import pandas as pd"
      ],
      "execution_count": null,
      "outputs": []
    },
    {
      "cell_type": "code",
      "metadata": {
        "id": "beAZOYpn0osI"
      },
      "source": [
        "data = pd.read_csv(\"https://raw.githubusercontent.com/dphi-official/Datasets/master/Chicago_Crime_Detective.csv\", nrows=2000)"
      ],
      "execution_count": null,
      "outputs": []
    },
    {
      "cell_type": "code",
      "metadata": {
        "id": "bBv_yKrg0osI",
        "outputId": "b938c18e-f380-4b85-d29a-f1cef386d443"
      },
      "source": [
        "data.head()"
      ],
      "execution_count": null,
      "outputs": [
        {
          "output_type": "execute_result",
          "data": {
            "text/html": [
              "<div>\n",
              "<style scoped>\n",
              "    .dataframe tbody tr th:only-of-type {\n",
              "        vertical-align: middle;\n",
              "    }\n",
              "\n",
              "    .dataframe tbody tr th {\n",
              "        vertical-align: top;\n",
              "    }\n",
              "\n",
              "    .dataframe thead th {\n",
              "        text-align: right;\n",
              "    }\n",
              "</style>\n",
              "<table border=\"1\" class=\"dataframe\">\n",
              "  <thead>\n",
              "    <tr style=\"text-align: right;\">\n",
              "      <th></th>\n",
              "      <th>Unnamed: 0</th>\n",
              "      <th>ID</th>\n",
              "      <th>Date</th>\n",
              "      <th>LocationDescription</th>\n",
              "      <th>Arrest</th>\n",
              "      <th>Domestic</th>\n",
              "      <th>Beat</th>\n",
              "      <th>District</th>\n",
              "      <th>CommunityArea</th>\n",
              "      <th>Year</th>\n",
              "    </tr>\n",
              "  </thead>\n",
              "  <tbody>\n",
              "    <tr>\n",
              "      <th>0</th>\n",
              "      <td>0</td>\n",
              "      <td>8951354</td>\n",
              "      <td>12/31/12 23:15</td>\n",
              "      <td>STREET</td>\n",
              "      <td>False</td>\n",
              "      <td>False</td>\n",
              "      <td>623</td>\n",
              "      <td>6.0</td>\n",
              "      <td>69</td>\n",
              "      <td>2012</td>\n",
              "    </tr>\n",
              "    <tr>\n",
              "      <th>1</th>\n",
              "      <td>1</td>\n",
              "      <td>8951141</td>\n",
              "      <td>12/31/12 22:00</td>\n",
              "      <td>STREET</td>\n",
              "      <td>False</td>\n",
              "      <td>False</td>\n",
              "      <td>1213</td>\n",
              "      <td>12.0</td>\n",
              "      <td>24</td>\n",
              "      <td>2012</td>\n",
              "    </tr>\n",
              "    <tr>\n",
              "      <th>2</th>\n",
              "      <td>2</td>\n",
              "      <td>8952745</td>\n",
              "      <td>12/31/12 22:00</td>\n",
              "      <td>RESIDENTIAL YARD (FRONT/BACK)</td>\n",
              "      <td>False</td>\n",
              "      <td>False</td>\n",
              "      <td>1622</td>\n",
              "      <td>16.0</td>\n",
              "      <td>11</td>\n",
              "      <td>2012</td>\n",
              "    </tr>\n",
              "    <tr>\n",
              "      <th>3</th>\n",
              "      <td>3</td>\n",
              "      <td>8952223</td>\n",
              "      <td>12/31/12 22:00</td>\n",
              "      <td>STREET</td>\n",
              "      <td>False</td>\n",
              "      <td>False</td>\n",
              "      <td>724</td>\n",
              "      <td>7.0</td>\n",
              "      <td>67</td>\n",
              "      <td>2012</td>\n",
              "    </tr>\n",
              "    <tr>\n",
              "      <th>4</th>\n",
              "      <td>4</td>\n",
              "      <td>8951608</td>\n",
              "      <td>12/31/12 21:30</td>\n",
              "      <td>STREET</td>\n",
              "      <td>False</td>\n",
              "      <td>False</td>\n",
              "      <td>211</td>\n",
              "      <td>2.0</td>\n",
              "      <td>35</td>\n",
              "      <td>2012</td>\n",
              "    </tr>\n",
              "  </tbody>\n",
              "</table>\n",
              "</div>"
            ],
            "text/plain": [
              "   Unnamed: 0       ID            Date            LocationDescription  Arrest  \\\n",
              "0           0  8951354  12/31/12 23:15                         STREET   False   \n",
              "1           1  8951141  12/31/12 22:00                         STREET   False   \n",
              "2           2  8952745  12/31/12 22:00  RESIDENTIAL YARD (FRONT/BACK)   False   \n",
              "3           3  8952223  12/31/12 22:00                         STREET   False   \n",
              "4           4  8951608  12/31/12 21:30                         STREET   False   \n",
              "\n",
              "   Domestic  Beat  District  CommunityArea  Year  \n",
              "0     False   623       6.0             69  2012  \n",
              "1     False  1213      12.0             24  2012  \n",
              "2     False  1622      16.0             11  2012  \n",
              "3     False   724       7.0             67  2012  \n",
              "4     False   211       2.0             35  2012  "
            ]
          },
          "metadata": {
            "tags": []
          },
          "execution_count": 4
        }
      ]
    },
    {
      "cell_type": "code",
      "metadata": {
        "id": "lzA4BtcV0osJ",
        "outputId": "33542811-8d63-4865-d2d3-b2f6b76a1493"
      },
      "source": [
        "data.info()"
      ],
      "execution_count": null,
      "outputs": [
        {
          "output_type": "stream",
          "text": [
            "<class 'pandas.core.frame.DataFrame'>\n",
            "RangeIndex: 2000 entries, 0 to 1999\n",
            "Data columns (total 10 columns):\n",
            " #   Column               Non-Null Count  Dtype  \n",
            "---  ------               --------------  -----  \n",
            " 0   Unnamed: 0           2000 non-null   int64  \n",
            " 1   ID                   2000 non-null   int64  \n",
            " 2   Date                 2000 non-null   object \n",
            " 3   LocationDescription  2000 non-null   object \n",
            " 4   Arrest               2000 non-null   bool   \n",
            " 5   Domestic             2000 non-null   bool   \n",
            " 6   Beat                 2000 non-null   int64  \n",
            " 7   District             1961 non-null   float64\n",
            " 8   CommunityArea        2000 non-null   int64  \n",
            " 9   Year                 2000 non-null   int64  \n",
            "dtypes: bool(2), float64(1), int64(5), object(2)\n",
            "memory usage: 129.0+ KB\n"
          ],
          "name": "stdout"
        }
      ]
    },
    {
      "cell_type": "markdown",
      "metadata": {
        "id": "PXFWqzq80osK"
      },
      "source": [
        "You can observe above that the 'Date' column is of Dtype 'object' i.e. string. You can convert this to 'datetime' type using the method .to_datetime() of pandas and then use .DatetimeIndex() method to convert the column to Datetime Index. This helps you perform different other operations on the datetime column."
      ]
    },
    {
      "cell_type": "code",
      "metadata": {
        "id": "tSHO2YMa0osK"
      },
      "source": [
        "data.Date = pd.to_datetime(data.Date)\n",
        "data.Date = pd.DatetimeIndex(data.Date)"
      ],
      "execution_count": null,
      "outputs": []
    },
    {
      "cell_type": "code",
      "metadata": {
        "id": "_JhJ-LBX0osK",
        "outputId": "bd65a116-32c2-4ba4-8fb8-a422b0355e86"
      },
      "source": [
        "data.info()"
      ],
      "execution_count": null,
      "outputs": [
        {
          "output_type": "stream",
          "text": [
            "<class 'pandas.core.frame.DataFrame'>\n",
            "RangeIndex: 2000 entries, 0 to 1999\n",
            "Data columns (total 10 columns):\n",
            " #   Column               Non-Null Count  Dtype         \n",
            "---  ------               --------------  -----         \n",
            " 0   Unnamed: 0           2000 non-null   int64         \n",
            " 1   ID                   2000 non-null   int64         \n",
            " 2   Date                 2000 non-null   datetime64[ns]\n",
            " 3   LocationDescription  2000 non-null   object        \n",
            " 4   Arrest               2000 non-null   bool          \n",
            " 5   Domestic             2000 non-null   bool          \n",
            " 6   Beat                 2000 non-null   int64         \n",
            " 7   District             1961 non-null   float64       \n",
            " 8   CommunityArea        2000 non-null   int64         \n",
            " 9   Year                 2000 non-null   int64         \n",
            "dtypes: bool(2), datetime64[ns](1), float64(1), int64(5), object(1)\n",
            "memory usage: 129.0+ KB\n"
          ],
          "name": "stdout"
        }
      ]
    },
    {
      "cell_type": "markdown",
      "metadata": {
        "id": "7umzPhLv0osK"
      },
      "source": [
        "Now you can see the 'Date' column is datetime type."
      ]
    },
    {
      "cell_type": "markdown",
      "metadata": {
        "id": "VD2Eqg9n0osK"
      },
      "source": [
        "### Getting the day name of the particular date"
      ]
    },
    {
      "cell_type": "code",
      "metadata": {
        "id": "6D23X9I80osK"
      },
      "source": [
        "data['weekday'] = data.Date.dt.day_name()"
      ],
      "execution_count": null,
      "outputs": []
    },
    {
      "cell_type": "code",
      "metadata": {
        "id": "iTYR_LOy0osK",
        "outputId": "4a088440-be2d-4963-99f0-65b20a8a8b58"
      },
      "source": [
        "data.head()"
      ],
      "execution_count": null,
      "outputs": [
        {
          "output_type": "execute_result",
          "data": {
            "text/html": [
              "<div>\n",
              "<style scoped>\n",
              "    .dataframe tbody tr th:only-of-type {\n",
              "        vertical-align: middle;\n",
              "    }\n",
              "\n",
              "    .dataframe tbody tr th {\n",
              "        vertical-align: top;\n",
              "    }\n",
              "\n",
              "    .dataframe thead th {\n",
              "        text-align: right;\n",
              "    }\n",
              "</style>\n",
              "<table border=\"1\" class=\"dataframe\">\n",
              "  <thead>\n",
              "    <tr style=\"text-align: right;\">\n",
              "      <th></th>\n",
              "      <th>Unnamed: 0</th>\n",
              "      <th>ID</th>\n",
              "      <th>Date</th>\n",
              "      <th>LocationDescription</th>\n",
              "      <th>Arrest</th>\n",
              "      <th>Domestic</th>\n",
              "      <th>Beat</th>\n",
              "      <th>District</th>\n",
              "      <th>CommunityArea</th>\n",
              "      <th>Year</th>\n",
              "      <th>weekday</th>\n",
              "    </tr>\n",
              "  </thead>\n",
              "  <tbody>\n",
              "    <tr>\n",
              "      <th>0</th>\n",
              "      <td>0</td>\n",
              "      <td>8951354</td>\n",
              "      <td>2012-12-31 23:15:00</td>\n",
              "      <td>STREET</td>\n",
              "      <td>False</td>\n",
              "      <td>False</td>\n",
              "      <td>623</td>\n",
              "      <td>6.0</td>\n",
              "      <td>69</td>\n",
              "      <td>2012</td>\n",
              "      <td>Monday</td>\n",
              "    </tr>\n",
              "    <tr>\n",
              "      <th>1</th>\n",
              "      <td>1</td>\n",
              "      <td>8951141</td>\n",
              "      <td>2012-12-31 22:00:00</td>\n",
              "      <td>STREET</td>\n",
              "      <td>False</td>\n",
              "      <td>False</td>\n",
              "      <td>1213</td>\n",
              "      <td>12.0</td>\n",
              "      <td>24</td>\n",
              "      <td>2012</td>\n",
              "      <td>Monday</td>\n",
              "    </tr>\n",
              "    <tr>\n",
              "      <th>2</th>\n",
              "      <td>2</td>\n",
              "      <td>8952745</td>\n",
              "      <td>2012-12-31 22:00:00</td>\n",
              "      <td>RESIDENTIAL YARD (FRONT/BACK)</td>\n",
              "      <td>False</td>\n",
              "      <td>False</td>\n",
              "      <td>1622</td>\n",
              "      <td>16.0</td>\n",
              "      <td>11</td>\n",
              "      <td>2012</td>\n",
              "      <td>Monday</td>\n",
              "    </tr>\n",
              "    <tr>\n",
              "      <th>3</th>\n",
              "      <td>3</td>\n",
              "      <td>8952223</td>\n",
              "      <td>2012-12-31 22:00:00</td>\n",
              "      <td>STREET</td>\n",
              "      <td>False</td>\n",
              "      <td>False</td>\n",
              "      <td>724</td>\n",
              "      <td>7.0</td>\n",
              "      <td>67</td>\n",
              "      <td>2012</td>\n",
              "      <td>Monday</td>\n",
              "    </tr>\n",
              "    <tr>\n",
              "      <th>4</th>\n",
              "      <td>4</td>\n",
              "      <td>8951608</td>\n",
              "      <td>2012-12-31 21:30:00</td>\n",
              "      <td>STREET</td>\n",
              "      <td>False</td>\n",
              "      <td>False</td>\n",
              "      <td>211</td>\n",
              "      <td>2.0</td>\n",
              "      <td>35</td>\n",
              "      <td>2012</td>\n",
              "      <td>Monday</td>\n",
              "    </tr>\n",
              "  </tbody>\n",
              "</table>\n",
              "</div>"
            ],
            "text/plain": [
              "   Unnamed: 0       ID                Date            LocationDescription  \\\n",
              "0           0  8951354 2012-12-31 23:15:00                         STREET   \n",
              "1           1  8951141 2012-12-31 22:00:00                         STREET   \n",
              "2           2  8952745 2012-12-31 22:00:00  RESIDENTIAL YARD (FRONT/BACK)   \n",
              "3           3  8952223 2012-12-31 22:00:00                         STREET   \n",
              "4           4  8951608 2012-12-31 21:30:00                         STREET   \n",
              "\n",
              "   Arrest  Domestic  Beat  District  CommunityArea  Year weekday  \n",
              "0   False     False   623       6.0             69  2012  Monday  \n",
              "1   False     False  1213      12.0             24  2012  Monday  \n",
              "2   False     False  1622      16.0             11  2012  Monday  \n",
              "3   False     False   724       7.0             67  2012  Monday  \n",
              "4   False     False   211       2.0             35  2012  Monday  "
            ]
          },
          "metadata": {
            "tags": []
          },
          "execution_count": 11
        }
      ]
    },
    {
      "cell_type": "markdown",
      "metadata": {
        "id": "MaqebuTx0osK"
      },
      "source": [
        "The rightmost column is the week day name of the given dates."
      ]
    },
    {
      "cell_type": "markdown",
      "metadata": {
        "id": "n_8-Jqb60osK"
      },
      "source": [
        "### Getting the day number"
      ]
    },
    {
      "cell_type": "code",
      "metadata": {
        "id": "z6Mm46nl0osK"
      },
      "source": [
        "data['day'] = data.Date.dt.day"
      ],
      "execution_count": null,
      "outputs": []
    },
    {
      "cell_type": "code",
      "metadata": {
        "id": "TxN21POn0osK",
        "outputId": "3fb82fe7-f8fc-4777-bf7d-46511563ac3d"
      },
      "source": [
        "data.head()"
      ],
      "execution_count": null,
      "outputs": [
        {
          "output_type": "execute_result",
          "data": {
            "text/html": [
              "<div>\n",
              "<style scoped>\n",
              "    .dataframe tbody tr th:only-of-type {\n",
              "        vertical-align: middle;\n",
              "    }\n",
              "\n",
              "    .dataframe tbody tr th {\n",
              "        vertical-align: top;\n",
              "    }\n",
              "\n",
              "    .dataframe thead th {\n",
              "        text-align: right;\n",
              "    }\n",
              "</style>\n",
              "<table border=\"1\" class=\"dataframe\">\n",
              "  <thead>\n",
              "    <tr style=\"text-align: right;\">\n",
              "      <th></th>\n",
              "      <th>Unnamed: 0</th>\n",
              "      <th>ID</th>\n",
              "      <th>Date</th>\n",
              "      <th>LocationDescription</th>\n",
              "      <th>Arrest</th>\n",
              "      <th>Domestic</th>\n",
              "      <th>Beat</th>\n",
              "      <th>District</th>\n",
              "      <th>CommunityArea</th>\n",
              "      <th>Year</th>\n",
              "      <th>weekday</th>\n",
              "      <th>day</th>\n",
              "    </tr>\n",
              "  </thead>\n",
              "  <tbody>\n",
              "    <tr>\n",
              "      <th>0</th>\n",
              "      <td>0</td>\n",
              "      <td>8951354</td>\n",
              "      <td>2012-12-31 23:15:00</td>\n",
              "      <td>STREET</td>\n",
              "      <td>False</td>\n",
              "      <td>False</td>\n",
              "      <td>623</td>\n",
              "      <td>6.0</td>\n",
              "      <td>69</td>\n",
              "      <td>2012</td>\n",
              "      <td>Monday</td>\n",
              "      <td>31</td>\n",
              "    </tr>\n",
              "    <tr>\n",
              "      <th>1</th>\n",
              "      <td>1</td>\n",
              "      <td>8951141</td>\n",
              "      <td>2012-12-31 22:00:00</td>\n",
              "      <td>STREET</td>\n",
              "      <td>False</td>\n",
              "      <td>False</td>\n",
              "      <td>1213</td>\n",
              "      <td>12.0</td>\n",
              "      <td>24</td>\n",
              "      <td>2012</td>\n",
              "      <td>Monday</td>\n",
              "      <td>31</td>\n",
              "    </tr>\n",
              "    <tr>\n",
              "      <th>2</th>\n",
              "      <td>2</td>\n",
              "      <td>8952745</td>\n",
              "      <td>2012-12-31 22:00:00</td>\n",
              "      <td>RESIDENTIAL YARD (FRONT/BACK)</td>\n",
              "      <td>False</td>\n",
              "      <td>False</td>\n",
              "      <td>1622</td>\n",
              "      <td>16.0</td>\n",
              "      <td>11</td>\n",
              "      <td>2012</td>\n",
              "      <td>Monday</td>\n",
              "      <td>31</td>\n",
              "    </tr>\n",
              "    <tr>\n",
              "      <th>3</th>\n",
              "      <td>3</td>\n",
              "      <td>8952223</td>\n",
              "      <td>2012-12-31 22:00:00</td>\n",
              "      <td>STREET</td>\n",
              "      <td>False</td>\n",
              "      <td>False</td>\n",
              "      <td>724</td>\n",
              "      <td>7.0</td>\n",
              "      <td>67</td>\n",
              "      <td>2012</td>\n",
              "      <td>Monday</td>\n",
              "      <td>31</td>\n",
              "    </tr>\n",
              "    <tr>\n",
              "      <th>4</th>\n",
              "      <td>4</td>\n",
              "      <td>8951608</td>\n",
              "      <td>2012-12-31 21:30:00</td>\n",
              "      <td>STREET</td>\n",
              "      <td>False</td>\n",
              "      <td>False</td>\n",
              "      <td>211</td>\n",
              "      <td>2.0</td>\n",
              "      <td>35</td>\n",
              "      <td>2012</td>\n",
              "      <td>Monday</td>\n",
              "      <td>31</td>\n",
              "    </tr>\n",
              "  </tbody>\n",
              "</table>\n",
              "</div>"
            ],
            "text/plain": [
              "   Unnamed: 0       ID                Date            LocationDescription  \\\n",
              "0           0  8951354 2012-12-31 23:15:00                         STREET   \n",
              "1           1  8951141 2012-12-31 22:00:00                         STREET   \n",
              "2           2  8952745 2012-12-31 22:00:00  RESIDENTIAL YARD (FRONT/BACK)   \n",
              "3           3  8952223 2012-12-31 22:00:00                         STREET   \n",
              "4           4  8951608 2012-12-31 21:30:00                         STREET   \n",
              "\n",
              "   Arrest  Domestic  Beat  District  CommunityArea  Year weekday  day  \n",
              "0   False     False   623       6.0             69  2012  Monday   31  \n",
              "1   False     False  1213      12.0             24  2012  Monday   31  \n",
              "2   False     False  1622      16.0             11  2012  Monday   31  \n",
              "3   False     False   724       7.0             67  2012  Monday   31  \n",
              "4   False     False   211       2.0             35  2012  Monday   31  "
            ]
          },
          "metadata": {
            "tags": []
          },
          "execution_count": 14
        }
      ]
    },
    {
      "cell_type": "markdown",
      "metadata": {
        "id": "3KCSvCId0osL"
      },
      "source": [
        "### Getting the month number"
      ]
    },
    {
      "cell_type": "code",
      "metadata": {
        "id": "BIXuC4lz0osL"
      },
      "source": [
        "data['month'] = data.Date.dt.month"
      ],
      "execution_count": null,
      "outputs": []
    },
    {
      "cell_type": "code",
      "metadata": {
        "id": "ckcYmu260osL",
        "outputId": "898a15c3-c8df-4186-db9d-fb61e54acefb"
      },
      "source": [
        "data.head()"
      ],
      "execution_count": null,
      "outputs": [
        {
          "output_type": "execute_result",
          "data": {
            "text/html": [
              "<div>\n",
              "<style scoped>\n",
              "    .dataframe tbody tr th:only-of-type {\n",
              "        vertical-align: middle;\n",
              "    }\n",
              "\n",
              "    .dataframe tbody tr th {\n",
              "        vertical-align: top;\n",
              "    }\n",
              "\n",
              "    .dataframe thead th {\n",
              "        text-align: right;\n",
              "    }\n",
              "</style>\n",
              "<table border=\"1\" class=\"dataframe\">\n",
              "  <thead>\n",
              "    <tr style=\"text-align: right;\">\n",
              "      <th></th>\n",
              "      <th>Unnamed: 0</th>\n",
              "      <th>ID</th>\n",
              "      <th>Date</th>\n",
              "      <th>LocationDescription</th>\n",
              "      <th>Arrest</th>\n",
              "      <th>Domestic</th>\n",
              "      <th>Beat</th>\n",
              "      <th>District</th>\n",
              "      <th>CommunityArea</th>\n",
              "      <th>Year</th>\n",
              "      <th>weekday</th>\n",
              "      <th>day</th>\n",
              "      <th>month</th>\n",
              "    </tr>\n",
              "  </thead>\n",
              "  <tbody>\n",
              "    <tr>\n",
              "      <th>0</th>\n",
              "      <td>0</td>\n",
              "      <td>8951354</td>\n",
              "      <td>2012-12-31 23:15:00</td>\n",
              "      <td>STREET</td>\n",
              "      <td>False</td>\n",
              "      <td>False</td>\n",
              "      <td>623</td>\n",
              "      <td>6.0</td>\n",
              "      <td>69</td>\n",
              "      <td>2012</td>\n",
              "      <td>Monday</td>\n",
              "      <td>31</td>\n",
              "      <td>12</td>\n",
              "    </tr>\n",
              "    <tr>\n",
              "      <th>1</th>\n",
              "      <td>1</td>\n",
              "      <td>8951141</td>\n",
              "      <td>2012-12-31 22:00:00</td>\n",
              "      <td>STREET</td>\n",
              "      <td>False</td>\n",
              "      <td>False</td>\n",
              "      <td>1213</td>\n",
              "      <td>12.0</td>\n",
              "      <td>24</td>\n",
              "      <td>2012</td>\n",
              "      <td>Monday</td>\n",
              "      <td>31</td>\n",
              "      <td>12</td>\n",
              "    </tr>\n",
              "    <tr>\n",
              "      <th>2</th>\n",
              "      <td>2</td>\n",
              "      <td>8952745</td>\n",
              "      <td>2012-12-31 22:00:00</td>\n",
              "      <td>RESIDENTIAL YARD (FRONT/BACK)</td>\n",
              "      <td>False</td>\n",
              "      <td>False</td>\n",
              "      <td>1622</td>\n",
              "      <td>16.0</td>\n",
              "      <td>11</td>\n",
              "      <td>2012</td>\n",
              "      <td>Monday</td>\n",
              "      <td>31</td>\n",
              "      <td>12</td>\n",
              "    </tr>\n",
              "    <tr>\n",
              "      <th>3</th>\n",
              "      <td>3</td>\n",
              "      <td>8952223</td>\n",
              "      <td>2012-12-31 22:00:00</td>\n",
              "      <td>STREET</td>\n",
              "      <td>False</td>\n",
              "      <td>False</td>\n",
              "      <td>724</td>\n",
              "      <td>7.0</td>\n",
              "      <td>67</td>\n",
              "      <td>2012</td>\n",
              "      <td>Monday</td>\n",
              "      <td>31</td>\n",
              "      <td>12</td>\n",
              "    </tr>\n",
              "    <tr>\n",
              "      <th>4</th>\n",
              "      <td>4</td>\n",
              "      <td>8951608</td>\n",
              "      <td>2012-12-31 21:30:00</td>\n",
              "      <td>STREET</td>\n",
              "      <td>False</td>\n",
              "      <td>False</td>\n",
              "      <td>211</td>\n",
              "      <td>2.0</td>\n",
              "      <td>35</td>\n",
              "      <td>2012</td>\n",
              "      <td>Monday</td>\n",
              "      <td>31</td>\n",
              "      <td>12</td>\n",
              "    </tr>\n",
              "  </tbody>\n",
              "</table>\n",
              "</div>"
            ],
            "text/plain": [
              "   Unnamed: 0       ID                Date            LocationDescription  \\\n",
              "0           0  8951354 2012-12-31 23:15:00                         STREET   \n",
              "1           1  8951141 2012-12-31 22:00:00                         STREET   \n",
              "2           2  8952745 2012-12-31 22:00:00  RESIDENTIAL YARD (FRONT/BACK)   \n",
              "3           3  8952223 2012-12-31 22:00:00                         STREET   \n",
              "4           4  8951608 2012-12-31 21:30:00                         STREET   \n",
              "\n",
              "   Arrest  Domestic  Beat  District  CommunityArea  Year weekday  day  month  \n",
              "0   False     False   623       6.0             69  2012  Monday   31     12  \n",
              "1   False     False  1213      12.0             24  2012  Monday   31     12  \n",
              "2   False     False  1622      16.0             11  2012  Monday   31     12  \n",
              "3   False     False   724       7.0             67  2012  Monday   31     12  \n",
              "4   False     False   211       2.0             35  2012  Monday   31     12  "
            ]
          },
          "metadata": {
            "tags": []
          },
          "execution_count": 16
        }
      ]
    }
  ]
}