{
  "nbformat": 4,
  "nbformat_minor": 0,
  "metadata": {
    "colab": {
      "name": "Handling_Unknown_Categories.ipynb",
      "provenance": [],
      "include_colab_link": true
    },
    "kernelspec": {
      "name": "python3",
      "display_name": "Python 3"
    }
  },
  "cells": [
    {
      "cell_type": "markdown",
      "metadata": {
        "id": "view-in-github",
        "colab_type": "text"
      },
      "source": [
        "<a href=\"https://colab.research.google.com/github/dphi-official/Machine_Learning_Bootcamp/blob/master/Handling_Unknown_Categories.ipynb\" target=\"_parent\"><img src=\"https://colab.research.google.com/assets/colab-badge.svg\" alt=\"Open In Colab\"/></a>"
      ]
    },
    {
      "cell_type": "markdown",
      "metadata": {
        "id": "uSPGslsJ7Y-6"
      },
      "source": [
        "# Introduction\r\n",
        "\r\n",
        "Often we encounter some categories in train dataset which are not present in the test dataset or vice-versa which becomes problematic when doing one hot encoding. After one-hot encoding we face the issue that there are more features in train set than the test set or the vice-versa. And, we all know that if a model is trained on x number of features, to make prediction out of it we need to pass test set with x number of features.\r\n",
        "\r\n",
        "In this tutorial, we will discuss two different ways of dealing with it.\r\n",
        "\r\n",
        "### About the Data\r\n",
        "The dataset we will use here is related to travel insurance. The objective for this dataset is to find out if the insurance buyer will claim the insurance in near future or not.\r\n",
        "\r\n",
        "There are 11 variables in the dataset including the target variable.\r\n",
        "\r\n",
        "#### Data Description\r\n",
        "*  Duration: Travel duration\r\n",
        "*  Destination: Travel destination\r\n",
        "*  Agency: Agency Name\r\n",
        "*  Commission: Commission on the insurance\r\n",
        "*  Age: Age of the insurance buyer\r\n",
        "*  Gender: Gender of the insurance buyer\r\n",
        "*  Agency Type: What is the agency type?\r\n",
        "*  Distribution Channel: offline/online\r\n",
        "*  Product Name: Name of the insurance plan\r\n",
        "*  Net Sales: Net sales\r\n",
        "*  Claim: If the insurance is claimed or not (the target variable), 0 = not claimed, 1 = claimed\r\n",
        "\r\n",
        "This dataset is available at the official GitHub page of DPhi: https://github.com/dphi-official/Datasets/tree/master/travel_insurance\r\n",
        "\r\n",
        "To load the train dataset run the below command in your notebook:\r\n",
        "```\r\n",
        "import pandas as pd\r\n",
        "train_data = pd.read_csv(\"https://raw.githubusercontent.com/dphi-official/Datasets/master/travel_insurance/Training_set_label.csv\")\r\n",
        "```\r\n",
        "\r\n",
        "To load the test_dataset run the below command in your notebook:\r\n",
        "```\r\n",
        "test_data = pd.read_csv('https://raw.githubusercontent.com/dphi-official/Datasets/master/travel_insurance/Testing_set_label.csv')\r\n",
        "```\r\n",
        "\r\n",
        "\r\n",
        "\r\n",
        "\r\n",
        "\r\n"
      ]
    },
    {
      "cell_type": "code",
      "metadata": {
        "id": "uN9M1P9_6ag9"
      },
      "source": [
        "import pandas as pd"
      ],
      "execution_count": 64,
      "outputs": []
    },
    {
      "cell_type": "code",
      "metadata": {
        "id": "bFTjmyPm-x4B"
      },
      "source": [
        "# Load train dataset\r\n",
        "train_data = pd.read_csv(\"https://raw.githubusercontent.com/dphi-official/Datasets/master/travel_insurance/Training_set_label.csv\")"
      ],
      "execution_count": 65,
      "outputs": []
    },
    {
      "cell_type": "code",
      "metadata": {
        "id": "K87f9cDQ-3Fh"
      },
      "source": [
        "# Load test dataset\r\n",
        "test_data = pd.read_csv('https://raw.githubusercontent.com/dphi-official/Datasets/master/travel_insurance/Testing_set_label.csv')"
      ],
      "execution_count": 66,
      "outputs": []
    },
    {
      "cell_type": "code",
      "metadata": {
        "colab": {
          "base_uri": "https://localhost:8080/",
          "height": 195
        },
        "id": "4An6R5Xg-4PU",
        "outputId": "51b864f3-4449-4f45-ca0b-5aeda223d46e"
      },
      "source": [
        "# Train data looks like:\r\n",
        "train_data.head()"
      ],
      "execution_count": 67,
      "outputs": [
        {
          "output_type": "execute_result",
          "data": {
            "text/html": [
              "<div>\n",
              "<style scoped>\n",
              "    .dataframe tbody tr th:only-of-type {\n",
              "        vertical-align: middle;\n",
              "    }\n",
              "\n",
              "    .dataframe tbody tr th {\n",
              "        vertical-align: top;\n",
              "    }\n",
              "\n",
              "    .dataframe thead th {\n",
              "        text-align: right;\n",
              "    }\n",
              "</style>\n",
              "<table border=\"1\" class=\"dataframe\">\n",
              "  <thead>\n",
              "    <tr style=\"text-align: right;\">\n",
              "      <th></th>\n",
              "      <th>Agency</th>\n",
              "      <th>Agency Type</th>\n",
              "      <th>Distribution Channel</th>\n",
              "      <th>Product Name</th>\n",
              "      <th>Duration</th>\n",
              "      <th>Destination</th>\n",
              "      <th>Net Sales</th>\n",
              "      <th>Commision (in value)</th>\n",
              "      <th>Gender</th>\n",
              "      <th>Age</th>\n",
              "      <th>Claim</th>\n",
              "    </tr>\n",
              "  </thead>\n",
              "  <tbody>\n",
              "    <tr>\n",
              "      <th>0</th>\n",
              "      <td>CWT</td>\n",
              "      <td>Travel Agency</td>\n",
              "      <td>Online</td>\n",
              "      <td>Rental Vehicle Excess Insurance</td>\n",
              "      <td>61</td>\n",
              "      <td>UNITED KINGDOM</td>\n",
              "      <td>19.8</td>\n",
              "      <td>11.88</td>\n",
              "      <td>NaN</td>\n",
              "      <td>29</td>\n",
              "      <td>0</td>\n",
              "    </tr>\n",
              "    <tr>\n",
              "      <th>1</th>\n",
              "      <td>EPX</td>\n",
              "      <td>Travel Agency</td>\n",
              "      <td>Online</td>\n",
              "      <td>Cancellation Plan</td>\n",
              "      <td>93</td>\n",
              "      <td>NEW ZEALAND</td>\n",
              "      <td>63.0</td>\n",
              "      <td>0.00</td>\n",
              "      <td>NaN</td>\n",
              "      <td>36</td>\n",
              "      <td>0</td>\n",
              "    </tr>\n",
              "    <tr>\n",
              "      <th>2</th>\n",
              "      <td>EPX</td>\n",
              "      <td>Travel Agency</td>\n",
              "      <td>Online</td>\n",
              "      <td>2 way Comprehensive Plan</td>\n",
              "      <td>22</td>\n",
              "      <td>UNITED STATES</td>\n",
              "      <td>22.0</td>\n",
              "      <td>0.00</td>\n",
              "      <td>NaN</td>\n",
              "      <td>25</td>\n",
              "      <td>0</td>\n",
              "    </tr>\n",
              "    <tr>\n",
              "      <th>3</th>\n",
              "      <td>C2B</td>\n",
              "      <td>Airlines</td>\n",
              "      <td>Online</td>\n",
              "      <td>Silver Plan</td>\n",
              "      <td>14</td>\n",
              "      <td>SINGAPORE</td>\n",
              "      <td>54.5</td>\n",
              "      <td>13.63</td>\n",
              "      <td>M</td>\n",
              "      <td>24</td>\n",
              "      <td>0</td>\n",
              "    </tr>\n",
              "    <tr>\n",
              "      <th>4</th>\n",
              "      <td>EPX</td>\n",
              "      <td>Travel Agency</td>\n",
              "      <td>Online</td>\n",
              "      <td>Cancellation Plan</td>\n",
              "      <td>90</td>\n",
              "      <td>VIET NAM</td>\n",
              "      <td>10.0</td>\n",
              "      <td>0.00</td>\n",
              "      <td>NaN</td>\n",
              "      <td>23</td>\n",
              "      <td>0</td>\n",
              "    </tr>\n",
              "  </tbody>\n",
              "</table>\n",
              "</div>"
            ],
            "text/plain": [
              "  Agency    Agency Type Distribution Channel  ... Gender  Age Claim\n",
              "0    CWT  Travel Agency               Online  ...    NaN   29     0\n",
              "1    EPX  Travel Agency               Online  ...    NaN   36     0\n",
              "2    EPX  Travel Agency               Online  ...    NaN   25     0\n",
              "3    C2B       Airlines               Online  ...      M   24     0\n",
              "4    EPX  Travel Agency               Online  ...    NaN   23     0\n",
              "\n",
              "[5 rows x 11 columns]"
            ]
          },
          "metadata": {
            "tags": []
          },
          "execution_count": 67
        }
      ]
    },
    {
      "cell_type": "code",
      "metadata": {
        "colab": {
          "base_uri": "https://localhost:8080/",
          "height": 195
        },
        "id": "JLN4k_nj_IEm",
        "outputId": "891c28db-a000-4241-a521-5f8e74394576"
      },
      "source": [
        "# Test data looks like:\r\n",
        "test_data.head()"
      ],
      "execution_count": 68,
      "outputs": [
        {
          "output_type": "execute_result",
          "data": {
            "text/html": [
              "<div>\n",
              "<style scoped>\n",
              "    .dataframe tbody tr th:only-of-type {\n",
              "        vertical-align: middle;\n",
              "    }\n",
              "\n",
              "    .dataframe tbody tr th {\n",
              "        vertical-align: top;\n",
              "    }\n",
              "\n",
              "    .dataframe thead th {\n",
              "        text-align: right;\n",
              "    }\n",
              "</style>\n",
              "<table border=\"1\" class=\"dataframe\">\n",
              "  <thead>\n",
              "    <tr style=\"text-align: right;\">\n",
              "      <th></th>\n",
              "      <th>Agency</th>\n",
              "      <th>Agency Type</th>\n",
              "      <th>Distribution Channel</th>\n",
              "      <th>Product Name</th>\n",
              "      <th>Duration</th>\n",
              "      <th>Destination</th>\n",
              "      <th>Net Sales</th>\n",
              "      <th>Commision (in value)</th>\n",
              "      <th>Gender</th>\n",
              "      <th>Age</th>\n",
              "    </tr>\n",
              "  </thead>\n",
              "  <tbody>\n",
              "    <tr>\n",
              "      <th>0</th>\n",
              "      <td>EPX</td>\n",
              "      <td>Travel Agency</td>\n",
              "      <td>Online</td>\n",
              "      <td>Cancellation Plan</td>\n",
              "      <td>24</td>\n",
              "      <td>HONG KONG</td>\n",
              "      <td>27.0</td>\n",
              "      <td>0.0</td>\n",
              "      <td>NaN</td>\n",
              "      <td>36</td>\n",
              "    </tr>\n",
              "    <tr>\n",
              "      <th>1</th>\n",
              "      <td>EPX</td>\n",
              "      <td>Travel Agency</td>\n",
              "      <td>Online</td>\n",
              "      <td>Cancellation Plan</td>\n",
              "      <td>51</td>\n",
              "      <td>JAPAN</td>\n",
              "      <td>45.0</td>\n",
              "      <td>0.0</td>\n",
              "      <td>NaN</td>\n",
              "      <td>36</td>\n",
              "    </tr>\n",
              "    <tr>\n",
              "      <th>2</th>\n",
              "      <td>EPX</td>\n",
              "      <td>Travel Agency</td>\n",
              "      <td>Online</td>\n",
              "      <td>Cancellation Plan</td>\n",
              "      <td>52</td>\n",
              "      <td>JAPAN</td>\n",
              "      <td>21.0</td>\n",
              "      <td>0.0</td>\n",
              "      <td>NaN</td>\n",
              "      <td>21</td>\n",
              "    </tr>\n",
              "    <tr>\n",
              "      <th>3</th>\n",
              "      <td>EPX</td>\n",
              "      <td>Travel Agency</td>\n",
              "      <td>Online</td>\n",
              "      <td>Cancellation Plan</td>\n",
              "      <td>89</td>\n",
              "      <td>SINGAPORE</td>\n",
              "      <td>11.0</td>\n",
              "      <td>0.0</td>\n",
              "      <td>NaN</td>\n",
              "      <td>30</td>\n",
              "    </tr>\n",
              "    <tr>\n",
              "      <th>4</th>\n",
              "      <td>EPX</td>\n",
              "      <td>Travel Agency</td>\n",
              "      <td>Online</td>\n",
              "      <td>Cancellation Plan</td>\n",
              "      <td>5</td>\n",
              "      <td>MALAYSIA</td>\n",
              "      <td>10.0</td>\n",
              "      <td>0.0</td>\n",
              "      <td>NaN</td>\n",
              "      <td>33</td>\n",
              "    </tr>\n",
              "  </tbody>\n",
              "</table>\n",
              "</div>"
            ],
            "text/plain": [
              "  Agency    Agency Type Distribution Channel  ... Commision (in value)  Gender Age\n",
              "0    EPX  Travel Agency               Online  ...                  0.0     NaN  36\n",
              "1    EPX  Travel Agency               Online  ...                  0.0     NaN  36\n",
              "2    EPX  Travel Agency               Online  ...                  0.0     NaN  21\n",
              "3    EPX  Travel Agency               Online  ...                  0.0     NaN  30\n",
              "4    EPX  Travel Agency               Online  ...                  0.0     NaN  33\n",
              "\n",
              "[5 rows x 10 columns]"
            ]
          },
          "metadata": {
            "tags": []
          },
          "execution_count": 68
        }
      ]
    },
    {
      "cell_type": "code",
      "metadata": {
        "id": "qY3lPC9u_P6B"
      },
      "source": [
        "# Drop the column 'Destination' from both train and test set, and drop the target variable 'Claim' from the train dataset\r\n",
        "train_data.drop(['Destination', 'Claim'], axis=1, inplace=True)\r\n",
        "test_data.drop('Destination', axis=1, inplace=True)"
      ],
      "execution_count": 69,
      "outputs": []
    },
    {
      "cell_type": "markdown",
      "metadata": {
        "id": "FyBpd-hABZza"
      },
      "source": [
        "### Checking the number of unique values in all the categorical columns in both train and test set"
      ]
    },
    {
      "cell_type": "code",
      "metadata": {
        "id": "Jmj7FKrl_2lS"
      },
      "source": [
        "# Select the categorical columns\r\n",
        "cat_train = train_data.select_dtypes('object')\r\n",
        "cat_test = test_data.select_dtypes('object')"
      ],
      "execution_count": 70,
      "outputs": []
    },
    {
      "cell_type": "code",
      "metadata": {
        "colab": {
          "base_uri": "https://localhost:8080/"
        },
        "id": "Sl7C6TG9B3Ne",
        "outputId": "0aed7c0e-b096-4762-9fca-54091b2d203a"
      },
      "source": [
        "cat_train.nunique()"
      ],
      "execution_count": 71,
      "outputs": [
        {
          "output_type": "execute_result",
          "data": {
            "text/plain": [
              "Agency                  16\n",
              "Agency Type              2\n",
              "Distribution Channel     2\n",
              "Product Name            26\n",
              "Gender                   2\n",
              "dtype: int64"
            ]
          },
          "metadata": {
            "tags": []
          },
          "execution_count": 71
        }
      ]
    },
    {
      "cell_type": "code",
      "metadata": {
        "colab": {
          "base_uri": "https://localhost:8080/"
        },
        "id": "JxjAVA-WB8R-",
        "outputId": "bc6c1255-56c1-4bcb-db99-a685343d470d"
      },
      "source": [
        "cat_test.nunique()"
      ],
      "execution_count": 72,
      "outputs": [
        {
          "output_type": "execute_result",
          "data": {
            "text/plain": [
              "Agency                  16\n",
              "Agency Type              2\n",
              "Distribution Channel     2\n",
              "Product Name            25\n",
              "Gender                   2\n",
              "dtype: int64"
            ]
          },
          "metadata": {
            "tags": []
          },
          "execution_count": 72
        }
      ]
    },
    {
      "cell_type": "markdown",
      "metadata": {
        "id": "jjnGcnN8CHmh"
      },
      "source": [
        "We can observe above that there are 26 categories in 'Product Name' column of train data while only 25 categories in 'Product Name' column of test data"
      ]
    },
    {
      "cell_type": "markdown",
      "metadata": {
        "id": "swToOFucEBE4"
      },
      "source": [
        "# Method 1: One hot Encoding using pd.get_dummies()"
      ]
    },
    {
      "cell_type": "code",
      "metadata": {
        "id": "BX38hqGrCE72"
      },
      "source": [
        "train = pd.get_dummies(cat_train)\r\n",
        "test = pd.get_dummies(cat_test)"
      ],
      "execution_count": 73,
      "outputs": []
    },
    {
      "cell_type": "code",
      "metadata": {
        "colab": {
          "base_uri": "https://localhost:8080/"
        },
        "id": "dichZRiGE_0k",
        "outputId": "55aeb27d-aac4-4692-feaf-b5bb5ea6908c"
      },
      "source": [
        "# checking the number of features in train and test set\r\n",
        "print(\"There are {} features in train set\".format(len(train.columns)))\r\n",
        "print(\"There are {} features in test set\".format(len(test.columns)))"
      ],
      "execution_count": 74,
      "outputs": [
        {
          "output_type": "stream",
          "text": [
            "There are 48 features in train set\n",
            "There are 47 features in test set\n"
          ],
          "name": "stdout"
        }
      ]
    },
    {
      "cell_type": "markdown",
      "metadata": {
        "id": "2pWUZae9FyQo"
      },
      "source": [
        "Now, there are 48 features in train set and 47 features in test set. If you train a model using the train set, the model will ask you for 48 features while testing also. So in this case, we can find out the one feature in train that is not present in test and add that column in the test set with all values as 0."
      ]
    },
    {
      "cell_type": "code",
      "metadata": {
        "colab": {
          "base_uri": "https://localhost:8080/"
        },
        "id": "f52_OqR6FXTB",
        "outputId": "ee168cc9-7b3c-46bd-ae0f-cc633c8034ba"
      },
      "source": [
        "# Getting the missing feature\r\n",
        "missing_feature = list(set(train.columns) - set(test.columns))[0]\r\n",
        "print(missing_feature)"
      ],
      "execution_count": 75,
      "outputs": [
        {
          "output_type": "stream",
          "text": [
            "Product Name_Travel Cruise Protect Family\n"
          ],
          "name": "stdout"
        }
      ]
    },
    {
      "cell_type": "code",
      "metadata": {
        "id": "6JBeorvTHPLl"
      },
      "source": [
        "# Adding the missing feature to the test data\r\n",
        "test[missing_feature] = 0"
      ],
      "execution_count": 76,
      "outputs": []
    },
    {
      "cell_type": "code",
      "metadata": {
        "colab": {
          "base_uri": "https://localhost:8080/"
        },
        "id": "FzbwrkwLHbl1",
        "outputId": "42ac627a-c597-4a64-faa8-51fe8a2b76ab"
      },
      "source": [
        "# Check the number of feature in test set\r\n",
        "len(test.columns)"
      ],
      "execution_count": 77,
      "outputs": [
        {
          "output_type": "execute_result",
          "data": {
            "text/plain": [
              "48"
            ]
          },
          "metadata": {
            "tags": []
          },
          "execution_count": 77
        }
      ]
    },
    {
      "cell_type": "markdown",
      "metadata": {
        "id": "TjfUJ5i4HmJi"
      },
      "source": [
        "Now, there are 48 features in test set also."
      ]
    },
    {
      "cell_type": "markdown",
      "metadata": {
        "id": "T_NvzX2SHx5I"
      },
      "source": [
        "### The problem with this approach\r\n",
        "1. If there are more missing features from test, it might become little difficult to add all those many columns to test set.\r\n",
        "2. What if there are some categories (or say features after one-hot encoding) which are present in test but not in train? In this case you need to manually add or remove all those categories that are present in test but not in train to the train data as we did above."
      ]
    },
    {
      "cell_type": "markdown",
      "metadata": {
        "id": "1SjcQKFSIgk6"
      },
      "source": [
        "# Method 2: Using OneHotEncoder() from sklearn.preprocessing"
      ]
    },
    {
      "cell_type": "markdown",
      "metadata": {
        "id": "cyUfSk0wIwd4"
      },
      "source": [
        "The OneHotEncoder() class from sklearn has an attribute named 'handle_unknown'. By default this attribute's value is 'error' which throws an error whenever it sees the unknown category. In order to handle the unknown category, we can pass this attribute's value as 'ignore'\r\n",
        "\r\n",
        "From [sklearn documentation](https://scikit-learn.org/stable/modules/generated/sklearn.preprocessing.OneHotEncoder.html):\r\n",
        "\r\n",
        "**handle_unknown{‘error’, ‘ignore’}, default=’error’**\r\n",
        "\r\n",
        "Whether to raise an error or ignore if an unknown categorical feature is present during transform (default is to raise). When this parameter is set to ‘ignore’ and an unknown category is encountered during transform, the resulting one-hot encoded columns for this feature will be all zeros. In the inverse transform, an unknown category will be denoted as None."
      ]
    },
    {
      "cell_type": "code",
      "metadata": {
        "id": "DWeY0mSwHkLp"
      },
      "source": [
        "from sklearn.preprocessing import OneHotEncoder"
      ],
      "execution_count": 78,
      "outputs": []
    },
    {
      "cell_type": "markdown",
      "metadata": {
        "id": "Nru6Fd6JLAxn"
      },
      "source": [
        "Before using OneHotEncoder, make sure the data doesn't contain any null values otherwise it will throw an error"
      ]
    },
    {
      "cell_type": "code",
      "metadata": {
        "id": "wW06pZS0K_iO"
      },
      "source": [
        "cat_train.dropna(inplace=True)\r\n",
        "cat_test.dropna(inplace=True)"
      ],
      "execution_count": null,
      "outputs": []
    },
    {
      "cell_type": "code",
      "metadata": {
        "id": "Riqcs1abKUGp"
      },
      "source": [
        "ohe = OneHotEncoder(handle_unknown = 'ignore')\r\n",
        "encoded_train = ohe.fit_transform(cat_train).toarray()\r\n",
        "train = pd.DataFrame(encoded_train, columns=ohe.get_feature_names(cat_train.columns))"
      ],
      "execution_count": 80,
      "outputs": []
    },
    {
      "cell_type": "markdown",
      "metadata": {
        "id": "X046gIqbLx-n"
      },
      "source": [
        "Now do one hot encoding on test data. But on test data we will use only 'transform' method instead of fit_transform."
      ]
    },
    {
      "cell_type": "code",
      "metadata": {
        "id": "KS5SlbgeMNVH"
      },
      "source": [
        "encoded_test = ohe.transform(cat_test).toarray()\r\n",
        "test = pd.DataFrame(encoded_test, columns=ohe.get_feature_names(cat_test.columns))"
      ],
      "execution_count": 81,
      "outputs": []
    },
    {
      "cell_type": "code",
      "metadata": {
        "colab": {
          "base_uri": "https://localhost:8080/"
        },
        "id": "mXdFmwvSLvWX",
        "outputId": "7a4790b3-c261-4c22-ee81-c84c08bdbb5f"
      },
      "source": [
        "# checking the number of features in train and test set\r\n",
        "print(\"There are {} features in train set\".format(len(train.columns)))\r\n",
        "print(\"There are {} features in test set\".format(len(test.columns)))"
      ],
      "execution_count": 82,
      "outputs": [
        {
          "output_type": "stream",
          "text": [
            "There are 42 features in train set\n",
            "There are 42 features in test set\n"
          ],
          "name": "stdout"
        }
      ]
    },
    {
      "cell_type": "markdown",
      "metadata": {
        "id": "KTUjWDcANHO3"
      },
      "source": [
        "Now, both train and test set have equal number of features.\r\n",
        "\r\n",
        "# Conclusion\r\n",
        "In the second method we don't need to add or remove any features manually but in case of the first method, we either need to remove or add the unknown categories in train or test set."
      ]
    }
  ]
}