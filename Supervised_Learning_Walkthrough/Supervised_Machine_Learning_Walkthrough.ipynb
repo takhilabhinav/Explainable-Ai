{
  "nbformat": 4,
  "nbformat_minor": 0,
  "metadata": {
    "colab": {
      "name": "Supervised_Machine_Learning_Walkthrough.ipynb",
      "provenance": [],
      "collapsed_sections": [],
      "include_colab_link": true
    },
    "kernelspec": {
      "display_name": "Python 3",
      "language": "python",
      "name": "python3"
    },
    "language_info": {
      "codemirror_mode": {
        "name": "ipython",
        "version": 3
      },
      "file_extension": ".py",
      "mimetype": "text/x-python",
      "name": "python",
      "nbconvert_exporter": "python",
      "pygments_lexer": "ipython3",
      "version": "3.6.9"
    }
  },
  "cells": [
    {
      "cell_type": "markdown",
      "metadata": {
        "id": "view-in-github",
        "colab_type": "text"
      },
      "source": [
        "<a href=\"https://colab.research.google.com/github/dphi-official/Machine_Learning_Bootcamp/blob/master/Supervised_Learning_Walkthrough/Supervised_Machine_Learning_Walkthrough.ipynb\" target=\"_parent\"><img src=\"https://colab.research.google.com/assets/colab-badge.svg\" alt=\"Open In Colab\"/></a>"
      ]
    },
    {
      "cell_type": "markdown",
      "metadata": {
        "id": "PFXQUrFtCQSr"
      },
      "source": [
        "# SUPERVISED LEARNING - BUILDING YOUR FIRST CLASSIFICATION AND REGRESSION MODELS\n",
        "\n",
        "\n",
        "### What is supervised learning?\n",
        "Given a set of data with target column included, we want to train a model that can learn to map the input features (also known as the independent variables) to the target.\n",
        "\n",
        "\n",
        "### Machine Learning Models\n",
        "\n",
        "We are going to focus on 2 types of ML models in this session. Both of them are supervised in nature (labels are known and are to be predicted).\n",
        "  \n",
        "\n",
        "**Classification**\n",
        "A classification model predicts discrete values. For example, classification models make predictions that answer questions like the following:\n",
        "\n",
        "- Is a given email message spam or not spam?\n",
        "\n",
        "- Is this an image of a dog, a cat, or a hamster?\n",
        "\n",
        "  \n",
        "**Regression**\n",
        "A regression model predicts continuous values. For example, regression models make predictions that answer questions like the following:\n",
        "\n",
        "- What is the value of a house in California?\n",
        "\n",
        "- What is the probability that a user will click on this ad?\n",
        "  \n"
      ]
    },
    {
      "cell_type": "markdown",
      "metadata": {
        "id": "sJyjoMRcy1-l"
      },
      "source": [
        "### Classification Model walkthrough"
      ]
    },
    {
      "cell_type": "markdown",
      "metadata": {
        "id": "kmUN-Z7-FNhA"
      },
      "source": [
        "**Load datasets into pandas dataframe**"
      ]
    },
    {
      "cell_type": "code",
      "metadata": {
        "id": "K1vliMn6ZN-P"
      },
      "source": [
        "import pandas as pd\n",
        "import numpy as np\n",
        "\n",
        "# import iris data using pandas\n",
        "iris = pd.read_csv('https://raw.githubusercontent.com/dphi-official/Datasets/master/iris.csv')"
      ],
      "execution_count": null,
      "outputs": []
    },
    {
      "cell_type": "code",
      "metadata": {
        "colab": {
          "base_uri": "https://localhost:8080/",
          "height": 215
        },
        "id": "z2NQrMCNzJoS",
        "outputId": "968bcbe6-5eba-4bfa-c8b5-5e337990871b"
      },
      "source": [
        "print(iris.shape)\n",
        "iris.head(5)"
      ],
      "execution_count": null,
      "outputs": [
        {
          "output_type": "stream",
          "text": [
            "(150, 5)\n"
          ],
          "name": "stdout"
        },
        {
          "output_type": "execute_result",
          "data": {
            "text/html": [
              "<div>\n",
              "<style scoped>\n",
              "    .dataframe tbody tr th:only-of-type {\n",
              "        vertical-align: middle;\n",
              "    }\n",
              "\n",
              "    .dataframe tbody tr th {\n",
              "        vertical-align: top;\n",
              "    }\n",
              "\n",
              "    .dataframe thead th {\n",
              "        text-align: right;\n",
              "    }\n",
              "</style>\n",
              "<table border=\"1\" class=\"dataframe\">\n",
              "  <thead>\n",
              "    <tr style=\"text-align: right;\">\n",
              "      <th></th>\n",
              "      <th>sepal.length</th>\n",
              "      <th>sepal.width</th>\n",
              "      <th>petal.length</th>\n",
              "      <th>petal.width</th>\n",
              "      <th>variety</th>\n",
              "    </tr>\n",
              "  </thead>\n",
              "  <tbody>\n",
              "    <tr>\n",
              "      <th>0</th>\n",
              "      <td>5.1</td>\n",
              "      <td>3.5</td>\n",
              "      <td>1.4</td>\n",
              "      <td>0.2</td>\n",
              "      <td>Setosa</td>\n",
              "    </tr>\n",
              "    <tr>\n",
              "      <th>1</th>\n",
              "      <td>4.9</td>\n",
              "      <td>3.0</td>\n",
              "      <td>1.4</td>\n",
              "      <td>0.2</td>\n",
              "      <td>Setosa</td>\n",
              "    </tr>\n",
              "    <tr>\n",
              "      <th>2</th>\n",
              "      <td>4.7</td>\n",
              "      <td>3.2</td>\n",
              "      <td>1.3</td>\n",
              "      <td>0.2</td>\n",
              "      <td>Setosa</td>\n",
              "    </tr>\n",
              "    <tr>\n",
              "      <th>3</th>\n",
              "      <td>4.6</td>\n",
              "      <td>3.1</td>\n",
              "      <td>1.5</td>\n",
              "      <td>0.2</td>\n",
              "      <td>Setosa</td>\n",
              "    </tr>\n",
              "    <tr>\n",
              "      <th>4</th>\n",
              "      <td>5.0</td>\n",
              "      <td>3.6</td>\n",
              "      <td>1.4</td>\n",
              "      <td>0.2</td>\n",
              "      <td>Setosa</td>\n",
              "    </tr>\n",
              "  </tbody>\n",
              "</table>\n",
              "</div>"
            ],
            "text/plain": [
              "   sepal.length  sepal.width  petal.length  petal.width variety\n",
              "0           5.1          3.5           1.4          0.2  Setosa\n",
              "1           4.9          3.0           1.4          0.2  Setosa\n",
              "2           4.7          3.2           1.3          0.2  Setosa\n",
              "3           4.6          3.1           1.5          0.2  Setosa\n",
              "4           5.0          3.6           1.4          0.2  Setosa"
            ]
          },
          "metadata": {
            "tags": []
          },
          "execution_count": 2
        }
      ]
    },
    {
      "cell_type": "markdown",
      "metadata": {
        "id": "wuNrc3Bf9wTT"
      },
      "source": [
        "**Data Types and Missing Values**"
      ]
    },
    {
      "cell_type": "markdown",
      "metadata": {
        "id": "4iupy2XL-Jvw"
      },
      "source": [
        "The dataframe.info method is a quick way to assess the data by displaying the data types of each column and the number of non-missing values."
      ]
    },
    {
      "cell_type": "code",
      "metadata": {
        "colab": {
          "base_uri": "https://localhost:8080/"
        },
        "id": "ZNm4lkhz-MM0",
        "outputId": "ed63951b-ba8b-4190-ad79-9543595071f4"
      },
      "source": [
        "iris.info()"
      ],
      "execution_count": null,
      "outputs": [
        {
          "output_type": "stream",
          "text": [
            "<class 'pandas.core.frame.DataFrame'>\n",
            "RangeIndex: 150 entries, 0 to 149\n",
            "Data columns (total 5 columns):\n",
            " #   Column        Non-Null Count  Dtype  \n",
            "---  ------        --------------  -----  \n",
            " 0   sepal.length  150 non-null    float64\n",
            " 1   sepal.width   150 non-null    float64\n",
            " 2   petal.length  150 non-null    float64\n",
            " 3   petal.width   150 non-null    float64\n",
            " 4   variety       150 non-null    object \n",
            "dtypes: float64(4), object(1)\n",
            "memory usage: 6.0+ KB\n"
          ],
          "name": "stdout"
        }
      ]
    },
    {
      "cell_type": "code",
      "metadata": {
        "colab": {
          "base_uri": "https://localhost:8080/"
        },
        "id": "yKvRxkBI-tWO",
        "outputId": "eb99d1fa-0078-457f-9a95-5b1245f6eaeb"
      },
      "source": [
        "# check null value counts in iris data\n",
        "iris.isnull().sum()"
      ],
      "execution_count": null,
      "outputs": [
        {
          "output_type": "execute_result",
          "data": {
            "text/plain": [
              "sepal.length    0\n",
              "sepal.width     0\n",
              "petal.length    0\n",
              "petal.width     0\n",
              "variety         0\n",
              "dtype: int64"
            ]
          },
          "metadata": {
            "tags": []
          },
          "execution_count": 5
        }
      ]
    },
    {
      "cell_type": "markdown",
      "metadata": {
        "id": "KsaBLYpS-9xY"
      },
      "source": [
        "There are no null values in the iris dataset"
      ]
    },
    {
      "cell_type": "markdown",
      "metadata": {
        "id": "QttbLrnBB2Uv"
      },
      "source": [
        "**Descriptive Statistics**"
      ]
    },
    {
      "cell_type": "code",
      "metadata": {
        "colab": {
          "base_uri": "https://localhost:8080/",
          "height": 287
        },
        "id": "OVxy7-yuB4rk",
        "outputId": "ab98d25b-3b22-4b27-853d-922ccf44856c"
      },
      "source": [
        "iris.describe()"
      ],
      "execution_count": null,
      "outputs": [
        {
          "output_type": "execute_result",
          "data": {
            "text/html": [
              "<div>\n",
              "<style scoped>\n",
              "    .dataframe tbody tr th:only-of-type {\n",
              "        vertical-align: middle;\n",
              "    }\n",
              "\n",
              "    .dataframe tbody tr th {\n",
              "        vertical-align: top;\n",
              "    }\n",
              "\n",
              "    .dataframe thead th {\n",
              "        text-align: right;\n",
              "    }\n",
              "</style>\n",
              "<table border=\"1\" class=\"dataframe\">\n",
              "  <thead>\n",
              "    <tr style=\"text-align: right;\">\n",
              "      <th></th>\n",
              "      <th>sepal.length</th>\n",
              "      <th>sepal.width</th>\n",
              "      <th>petal.length</th>\n",
              "      <th>petal.width</th>\n",
              "    </tr>\n",
              "  </thead>\n",
              "  <tbody>\n",
              "    <tr>\n",
              "      <th>count</th>\n",
              "      <td>150.000000</td>\n",
              "      <td>150.000000</td>\n",
              "      <td>150.000000</td>\n",
              "      <td>150.000000</td>\n",
              "    </tr>\n",
              "    <tr>\n",
              "      <th>mean</th>\n",
              "      <td>5.843333</td>\n",
              "      <td>3.057333</td>\n",
              "      <td>3.758000</td>\n",
              "      <td>1.199333</td>\n",
              "    </tr>\n",
              "    <tr>\n",
              "      <th>std</th>\n",
              "      <td>0.828066</td>\n",
              "      <td>0.435866</td>\n",
              "      <td>1.765298</td>\n",
              "      <td>0.762238</td>\n",
              "    </tr>\n",
              "    <tr>\n",
              "      <th>min</th>\n",
              "      <td>4.300000</td>\n",
              "      <td>2.000000</td>\n",
              "      <td>1.000000</td>\n",
              "      <td>0.100000</td>\n",
              "    </tr>\n",
              "    <tr>\n",
              "      <th>25%</th>\n",
              "      <td>5.100000</td>\n",
              "      <td>2.800000</td>\n",
              "      <td>1.600000</td>\n",
              "      <td>0.300000</td>\n",
              "    </tr>\n",
              "    <tr>\n",
              "      <th>50%</th>\n",
              "      <td>5.800000</td>\n",
              "      <td>3.000000</td>\n",
              "      <td>4.350000</td>\n",
              "      <td>1.300000</td>\n",
              "    </tr>\n",
              "    <tr>\n",
              "      <th>75%</th>\n",
              "      <td>6.400000</td>\n",
              "      <td>3.300000</td>\n",
              "      <td>5.100000</td>\n",
              "      <td>1.800000</td>\n",
              "    </tr>\n",
              "    <tr>\n",
              "      <th>max</th>\n",
              "      <td>7.900000</td>\n",
              "      <td>4.400000</td>\n",
              "      <td>6.900000</td>\n",
              "      <td>2.500000</td>\n",
              "    </tr>\n",
              "  </tbody>\n",
              "</table>\n",
              "</div>"
            ],
            "text/plain": [
              "       sepal.length  sepal.width  petal.length  petal.width\n",
              "count    150.000000   150.000000    150.000000   150.000000\n",
              "mean       5.843333     3.057333      3.758000     1.199333\n",
              "std        0.828066     0.435866      1.765298     0.762238\n",
              "min        4.300000     2.000000      1.000000     0.100000\n",
              "25%        5.100000     2.800000      1.600000     0.300000\n",
              "50%        5.800000     3.000000      4.350000     1.300000\n",
              "75%        6.400000     3.300000      5.100000     1.800000\n",
              "max        7.900000     4.400000      6.900000     2.500000"
            ]
          },
          "metadata": {
            "tags": []
          },
          "execution_count": 6
        }
      ]
    },
    {
      "cell_type": "code",
      "metadata": {
        "colab": {
          "base_uri": "https://localhost:8080/"
        },
        "id": "ZIMqQEZ_CyVy",
        "outputId": "0a218dce-b1d0-4abd-f39c-ba57b8839608"
      },
      "source": [
        "iris.groupby('variety').size()"
      ],
      "execution_count": null,
      "outputs": [
        {
          "output_type": "execute_result",
          "data": {
            "text/plain": [
              "variety\n",
              "Setosa        50\n",
              "Versicolor    50\n",
              "Virginica     50\n",
              "dtype: int64"
            ]
          },
          "metadata": {
            "tags": []
          },
          "execution_count": 8
        }
      ]
    },
    {
      "cell_type": "code",
      "metadata": {
        "colab": {
          "base_uri": "https://localhost:8080/",
          "height": 167
        },
        "id": "ADSVli5NDUPr",
        "scrolled": false,
        "outputId": "a77a5c44-9c6b-452f-a553-2971be296160"
      },
      "source": [
        "iris.groupby('variety').mean()"
      ],
      "execution_count": null,
      "outputs": [
        {
          "output_type": "execute_result",
          "data": {
            "text/html": [
              "<div>\n",
              "<style scoped>\n",
              "    .dataframe tbody tr th:only-of-type {\n",
              "        vertical-align: middle;\n",
              "    }\n",
              "\n",
              "    .dataframe tbody tr th {\n",
              "        vertical-align: top;\n",
              "    }\n",
              "\n",
              "    .dataframe thead th {\n",
              "        text-align: right;\n",
              "    }\n",
              "</style>\n",
              "<table border=\"1\" class=\"dataframe\">\n",
              "  <thead>\n",
              "    <tr style=\"text-align: right;\">\n",
              "      <th></th>\n",
              "      <th>sepal.length</th>\n",
              "      <th>sepal.width</th>\n",
              "      <th>petal.length</th>\n",
              "      <th>petal.width</th>\n",
              "    </tr>\n",
              "    <tr>\n",
              "      <th>variety</th>\n",
              "      <th></th>\n",
              "      <th></th>\n",
              "      <th></th>\n",
              "      <th></th>\n",
              "    </tr>\n",
              "  </thead>\n",
              "  <tbody>\n",
              "    <tr>\n",
              "      <th>Setosa</th>\n",
              "      <td>5.006</td>\n",
              "      <td>3.428</td>\n",
              "      <td>1.462</td>\n",
              "      <td>0.246</td>\n",
              "    </tr>\n",
              "    <tr>\n",
              "      <th>Versicolor</th>\n",
              "      <td>5.936</td>\n",
              "      <td>2.770</td>\n",
              "      <td>4.260</td>\n",
              "      <td>1.326</td>\n",
              "    </tr>\n",
              "    <tr>\n",
              "      <th>Virginica</th>\n",
              "      <td>6.588</td>\n",
              "      <td>2.974</td>\n",
              "      <td>5.552</td>\n",
              "      <td>2.026</td>\n",
              "    </tr>\n",
              "  </tbody>\n",
              "</table>\n",
              "</div>"
            ],
            "text/plain": [
              "            sepal.length  sepal.width  petal.length  petal.width\n",
              "variety                                                         \n",
              "Setosa             5.006        3.428         1.462        0.246\n",
              "Versicolor         5.936        2.770         4.260        1.326\n",
              "Virginica          6.588        2.974         5.552        2.026"
            ]
          },
          "metadata": {
            "tags": []
          },
          "execution_count": 7
        }
      ]
    },
    {
      "cell_type": "markdown",
      "metadata": {
        "id": "XupmgF8Dy1-n"
      },
      "source": [
        "### Split data into train and test"
      ]
    },
    {
      "cell_type": "markdown",
      "metadata": {
        "id": "U_SLUvdjFF3n"
      },
      "source": [
        "In Machine Learning problems, we always need to split the dataset into train and test sets in order to estimate the performance of the machine learning algorithm.  \n",
        "\n",
        "\n",
        "1. Train set — a subset to train a model (80%)\n",
        "2. Test set— a subset to test the trained model (20%)\n",
        "\n",
        "Your model is trained on 80% of the data and this model is experimented with the 20% data to generate metrics on the model performance.\n",
        "\n",
        "Let us split our datasets into train and test accordingly"
      ]
    },
    {
      "cell_type": "code",
      "metadata": {
        "colab": {
          "base_uri": "https://localhost:8080/"
        },
        "id": "TZGXCLZThB0X",
        "outputId": "bdc76474-5f9d-4612-a6fe-e65b5dd03cad"
      },
      "source": [
        "from sklearn import model_selection\n",
        "\n",
        "# Split data into train and test\n",
        "iris_train,iris_test = model_selection.train_test_split(iris,test_size=0.2)\n",
        "print(\"Shape of the original iris data: \", iris.shape)\n",
        "print(\"Shape of the iris train data = \", iris_train.shape)\n",
        "print(\"Shape of the iris test data = \", iris_test.shape)\n",
        "\n",
        "#Resetting index for prediction time\n",
        "iris_train = iris_train.reset_index(drop=True)\n",
        "iris_test = iris_test.reset_index(drop=True)"
      ],
      "execution_count": null,
      "outputs": [
        {
          "output_type": "stream",
          "text": [
            "Shape of the original iris data:  (150, 5)\n",
            "Shape of the iris train data =  (120, 5)\n",
            "Shape of the iris test data =  (30, 5)\n"
          ],
          "name": "stdout"
        }
      ]
    },
    {
      "cell_type": "markdown",
      "metadata": {
        "id": "8SEc3MuwtMco"
      },
      "source": [
        "### Feature Selection"
      ]
    },
    {
      "cell_type": "markdown",
      "metadata": {
        "id": "F1BAECIprkew"
      },
      "source": [
        "In real life data science problems, often the data consist of a large number of attributes or features. This means selecting the most relevant features as the input to machine learning model is absolutely vital. \n",
        "\n",
        "\n",
        "**Curse of Dimensionality**\n",
        "\n",
        "\n",
        "The curse of dimensionality refers to various phenomena that arise when analyzing and organizing data in high-dimensional spaces (often with hundreds or thousands of dimensions) that do not occur in low-dimensional settings such as the three-dimensional physical space of everyday experience. \n",
        "\n",
        "As the dimensionality increases, the volume of the space increases so fast that the available data become sparse. This sparsity is problematic for any method that requires statistical significance.\n",
        "\n",
        "Therefore it is essential to quality control the data that is being fed to the model.\n",
        "\n",
        "Reference - https://en.wikipedia.org/wiki/Curse_of_dimensionality\n",
        "\n",
        "**Feature Selection Methods:**\n",
        "1. Correlation coefficient\n",
        "2. Variance threshold\n",
        "3. Recursive Feature Elimination\n",
        "4. LASSO regularization\n",
        "4. Random Forest Importance\n",
        "\n",
        "\n",
        "Reference - https://www.analyticsvidhya.com/blog/2020/10/feature-selection-techniques-in-machine-learning/"
      ]
    },
    {
      "cell_type": "markdown",
      "metadata": {
        "id": "iTJgfh_vy1-o"
      },
      "source": [
        "#### Variance Threshold - Remove Low Var Features\n",
        "\n",
        "Variance threshold method removes features whose variance below a pre-defined cutoff value. It is based on the notion that features that do not vary much within themselves have low predictive power. The main weakness of variance threshold is that it does not consider the relationship of input features with the output feature.\n",
        "\n",
        "It should be noted that, before performing variance thresholding, all features should be standardized so they will have the same scale.\n",
        "\n",
        "Scikit-learn provides VarianceThreshold function to perform variance threshold method.\n",
        "\n",
        "Variance Threshold Documentation: https://scikit-learn.org/stable/modules/generated/sklearn.feature_selection.VarianceThreshold.html"
      ]
    },
    {
      "cell_type": "code",
      "metadata": {
        "id": "QE-yoF_Ly1-o"
      },
      "source": [
        "iris_features = iris.drop('variety', axis=1)"
      ],
      "execution_count": null,
      "outputs": []
    },
    {
      "cell_type": "code",
      "metadata": {
        "colab": {
          "base_uri": "https://localhost:8080/"
        },
        "id": "ZTKMnLmiy1-o",
        "outputId": "e7a0a1f1-9e3e-4bb3-e7de-8c0df4704dae"
      },
      "source": [
        "iris_features.shape"
      ],
      "execution_count": null,
      "outputs": [
        {
          "output_type": "execute_result",
          "data": {
            "text/plain": [
              "(150, 4)"
            ]
          },
          "metadata": {
            "tags": []
          },
          "execution_count": 15
        }
      ]
    },
    {
      "cell_type": "code",
      "metadata": {
        "scrolled": true,
        "colab": {
          "base_uri": "https://localhost:8080/"
        },
        "id": "nW4SBCmjy1-o",
        "outputId": "7aafff7e-95aa-4ceb-ba19-90d9ef0ec295"
      },
      "source": [
        "from sklearn.feature_selection import VarianceThreshold\n",
        "\n",
        "iris_var = VarianceThreshold()\n",
        "\n",
        "# Perform variance thresholding\n",
        "iris_var.fit_transform(iris_features)\n",
        "\n",
        "# Print the name and variance of each feature\n",
        "for feature in zip(iris_features.columns, iris_var.variances_):\n",
        "    print(feature)"
      ],
      "execution_count": null,
      "outputs": [
        {
          "output_type": "stream",
          "text": [
            "('sepal.length', 0.6811222222222223)\n",
            "('sepal.width', 0.1887128888888889)\n",
            "('petal.length', 3.0955026666666665)\n",
            "('petal.width', 0.5771328888888888)\n"
          ],
          "name": "stdout"
        }
      ]
    },
    {
      "cell_type": "markdown",
      "metadata": {
        "id": "aUZrwKEcy1-o"
      },
      "source": [
        "Let's visualize the results by creating a bar chart:"
      ]
    },
    {
      "cell_type": "code",
      "metadata": {
        "scrolled": true,
        "colab": {
          "base_uri": "https://localhost:8080/",
          "height": 333
        },
        "id": "hBgh1MWRy1-o",
        "outputId": "94fb3146-e3c2-400a-9f73-5fed50ee4c57"
      },
      "source": [
        "# Create a bar chart for visualizing the variances\n",
        "import matplotlib.pyplot as plt\n",
        "%matplotlib inline\n",
        "\n",
        "plt.figure(figsize=(4,4))\n",
        "plt.bar(x=iris_features.columns, height=iris_var.variances_, color='tomato')\n",
        "plt.xticks(rotation='vertical')\n",
        "plt.ylabel('Variance')\n",
        "plt.title('Variance Comparison')\n",
        "\n",
        "plt.show()"
      ],
      "execution_count": null,
      "outputs": [
        {
          "output_type": "display_data",
          "data": {
            "image/png": "[encoded data removed]",
            "text/plain": [
              "<Figure size 288x288 with 1 Axes>"
            ]
          },
          "metadata": {
            "tags": [],
            "needs_background": "light"
          }
        }
      ]
    },
    {
      "cell_type": "markdown",
      "metadata": {
        "id": "yucbqnccy1-o"
      },
      "source": [
        "By default, VarianceThreshold removes only zero-variance features. Zero-variance feature means that the feature has the same value in all instances. Suppose we want to eliminate features that have variance score below 0.2, we can specify threshold parameter."
      ]
    },
    {
      "cell_type": "code",
      "metadata": {
        "colab": {
          "base_uri": "https://localhost:8080/"
        },
        "id": "gCWSwEhTy1-o",
        "outputId": "0f8cad85-3f94-43c4-8a28-03582ca0018a"
      },
      "source": [
        "# Create VarianceThreshold object to perform variance thresholding\n",
        "selector = VarianceThreshold(threshold=0.2)\n",
        "\n",
        "# Transform the dataset according to variance thresholding\n",
        "iris_features_new = selector.fit_transform(iris_features)\n",
        "\n",
        "# Print the results\n",
        "print('Number of features before variance thresholding: {}'.format(iris_features.shape[1]))\n",
        "print('Number of features after variance thresholding: {}'.format(iris_features_new.shape[1]))"
      ],
      "execution_count": null,
      "outputs": [
        {
          "output_type": "stream",
          "text": [
            "Number of features before variance thresholding: 4\n",
            "Number of features after variance thresholding: 3\n"
          ],
          "name": "stdout"
        }
      ]
    },
    {
      "cell_type": "markdown",
      "metadata": {
        "id": "TKHdWwwgy1-p"
      },
      "source": [
        "As we can see, VarianceThreshold automatically eliminate features that have variance below 0.2. In this case, it removes sepal width, which has 0.188 variance."
      ]
    },
    {
      "cell_type": "markdown",
      "metadata": {
        "id": "qqCnUaz-y1-p"
      },
      "source": [
        "#### Split data into features and label"
      ]
    },
    {
      "cell_type": "markdown",
      "metadata": {
        "id": "6vIJRU3sL217"
      },
      "source": [
        "For machine learning problems, you need to split your data into features and labels.\n",
        "\n",
        "\n",
        "1.   Features - Input X to the model\n",
        "2.   Label - Expected output Y\n",
        "\n",
        "Therefore, we will further split these train and test datasets by columns, so that for every dataset we have **features** and **labels** to denote if they are the input columns or the predict to columns\n",
        "\n"
      ]
    },
    {
      "cell_type": "code",
      "metadata": {
        "colab": {
          "base_uri": "https://localhost:8080/"
        },
        "id": "0o_3XywdMPFj",
        "scrolled": true,
        "outputId": "c9b1698c-2b15-48a4-e517-ac06ed38205c"
      },
      "source": [
        "#define input and predict to columns\n",
        "iris_features = ['sepal.length', 'petal.length', 'petal.width']\n",
        "iris_labels = ['variety']\n",
        "\n",
        "print('IRIS DATASET')\n",
        "print(\"Features - \" + str(iris_features))\n",
        "print(\"Labels - \" + str(iris_labels))\n",
        "\n",
        "iris_train_features = iris_train[iris_features]\n",
        "iris_train_label = iris_train[iris_labels]\n",
        "print('✔ Train data split into features and labels')\n",
        "\n",
        "iris_test_features = iris_test[iris_features]\n",
        "iris_test_label = iris_test[iris_labels]\n",
        "print('✔ Test data split into features and labels')"
      ],
      "execution_count": null,
      "outputs": [
        {
          "output_type": "stream",
          "text": [
            "IRIS DATASET\n",
            "Features - ['sepal.length', 'petal.length', 'petal.width']\n",
            "Labels - ['variety']\n",
            "✔ Train data split into features and labels\n",
            "✔ Test data split into features and labels\n"
          ],
          "name": "stdout"
        }
      ]
    },
    {
      "cell_type": "markdown",
      "metadata": {
        "id": "nJzPy4BT4oPU"
      },
      "source": [
        "### Decision Trees\n",
        "Decision Trees is used for solving supervised learning problems for both classification and regression tasks. The goal is to create a model that predicts the value of a target variable by learning simple decision rules inferred from the data features.\n",
        "\n",
        "The decision rules are generally in form of if-then-else statements. The deeper the tree, the more complex the rules and fitter the model.\n",
        "\n",
        "**Terminology**\n",
        "\n",
        "Root Node: It represents the entire population or sample and this further gets divided into two or more homogeneous sets.\n",
        "\n",
        "Splitting: It is a process of dividing a node into two or more sub-nodes.\n",
        "\n",
        "Decision Node: When a sub-node splits into further sub-nodes, then it is called the decision node.\n",
        "Leaf/Terminal Node: Nodes do not split is called Leaf or Terminal node.\n",
        "\n",
        "![Dt_example.png](data:image/png;base64,iVBORw0KGgoAAAANSUhEUgAAAzgAAAIDCAIAAABHJCwPAACAAElEQVR42uzdeXhc1Z0n/Lq39l0qlaqk0mJZkiXLsixjeQevgI0JZks3CUmICTSdbtJMIDDDhO4EZ0LTTzLdpJNOGJLmCTQTCLsxYLDBxvu+SJatxVpLUmmXalPtdZf3GZ/pemuqpFJtskvy9/OHH7l069x7zz269atzz/kdEc/zAgAAAADIPDSqAAAAAACBGgAAAAAgUAMAAABAoAYAAAAACNQAAAAAEKgBAAAAAAI1AAAAAECgBgAAAIBADQAAAAAQqAEAAAAgUAMAAAAABGoAAAAAgEANAAAAAIEaAAAAACBQAwAAAECgBgAAAAAI1AAAAAAQqAEAAAAAAjUAAAAAQKAGAAAAgEANAAAAABCoAQAAACBQAwAAAAAEagAAAACAQA0AAAAAgRoA3ED4q+bq7gAAEKgBwGw1PDx8zz33/OxnP/P7/dcgRDObzVu3bn355ZcRqwEAAjUAgGkEg8HW1ta+vj6O467B7rxe78WLF/v7++PZmOO4c+fOHTp0yOv14koBwCwiQhUAQFqo1erHH3+8pKREJMq4GwvLsr/85S9bWlq+/PJLuVyOiwUACNQAYDYJf4BIUVQ8W0ZsptVqn3zyyYTeNVVRiR5SPJirYvf2kT1G7Cuew0jvoQIAIFADgP9fIBCw2+3Dw8OBQEAikeTn5+t0Opr+/4dGuN1ujuOUSmUwGDSbzS6XSy6XFxYWajSa0DYcx7ndbpFIJJPJKIried7n8wWDQZVKFQgE+vr6JiYmVCpVcXGxTCYjO+3v77fZbHK5vKSkJKKjKxAIjF0VDAYlEonRaNTr9eGHlFAMarfbycGMj48rlcr/c+8TiRQKBc/zHo+Hoii5XO52uy0Wi9frnTdvnk6nI6fg9/vJkYvF4qmOIRAIjIyMjI6OCgQCnU5nMpnEYjEaFQAgUAOAVPE8b7PZnnrqqYsXL9rtdpZlaZrOy8v7wQ9+8I1vfEMqlZJtfvjDH3Z3d//Hf/zHiy+++MUXX/h8PpFIVFNT8y//8i8LFiwgfUgjIyPf/e53ly9f/vzzz0ulUoZhXnjhhePHj7/66qu//e1vP/30U7/fLxaL165d+6//+q9isfgnP/nJ/v37nU6nSCTavHnziy++aDQaSVF2u/2ZZ545e/asw+Egh5Sbm/vYY489/PDD5JAS4vF47r777ubm5mAweP/99yuVSp7na2trf//73/t8vu9973tZWVmPPvro//yf//PSpUscx/3jP/7jgw8+yPN8c3Pzzp07L168GAgEyDF861vf+sEPfiCRSMhx8jzf19f385///NSpUw6Hg6IohUJx5513/sM//ENWVha61gAAgRoApMrv97vd7rvuuqu8vFypVPb29u7bt+/pp5+WSqV/+Zd/STqQenp6zp49+8QTT0il0qeffjorK+uLL7745JNPXnzxxVdeeSXUQ9bR0WEymViWJR1sAwMDFy5c+Nu//VutVvujH/1IIpF89tlnn376aVZWllQqHR8ff+qpp8Ri8aeffvrhhx/Onz//ueeeEwqF5DGlQCD42te+VlVVJZPJBgcH9+3b9/zzz6tUqgceeCDR/iqRSHTrrbeOj49brdZNmzbpdDqBQFBSUkLTNMMwnZ2dNpvt7Nmza9euvffee2marqio4Hn+xIkT3/ve95RK5YMPPlhdXW21Wg8ePPjLX/7S6/U+88wzUqmU47j+/v5HHnmkq6vr3nvvraurY1n2+PHjb775ptvtfumllxQKBVoXAKTh+zQA3MgYhvH5fGT8FsdxLMv29vbW1NTcc889Xq+X53mO42699VapVLpt2zar1cpxHHmYeNttt2VnZ/f395NXenp65s+fv2PHDrfbTZ577tixQywW33777aOjo6Twvr6+hQsXKpXKDRs2OJ1O8qLFYjEYDHl5eT6fjxwSy7I+n49lWbIBwzAOh6O2tra8vNxqtZJDam5uNhgMP/7xj8neY/P5fPfdd19lZaXFYmGvIu8aGRlZvHixTCZ79tlnyWETHo/ngQcemD9//qVLlxiGIXu02Wxbt24tLi62WCwcx/l8vqefftpgMHz55Zd+v59s4/f7f/jDH+p0uv3796NpAUDqkJ4D4EYnFAolEkkgELDZbCNXcRyn1+uvXLnidDpDmymVyp07d2ZnZ5MneiqV6pFHHvF6vUeOHCFdaNEoihKLxTt37iRDviiKMhqNFRUVEonk+eefV6vV5MWcnJyNGzdardbBwUEyKp+m6dAhjV41MTFRXV09NjbW3d2dxDmSfkGyO/qq8OeSRUVFP/jBD8I7wJqbm48ePXrPPfcsXLiQoigS1SmVym9/+9tDQ0ONjY3kkfHevXtXrly5YsUKkUhEthGJRE8++aRWq33nnXeQ4A0AUodHnwA3umAwuH///n/5l3+5cuXKxMQEibr8fn9eXh55BElIJJKysrLwIIyEX+HBXDSlUllUVBQagE/TtEKh0Gg0EUUZjUYyZYHneYqiAoHAvn37fv3rX4cOief5YDAoFotj7y4JFEWVlJSEz4oQCARkzNnp06eff/75UEjHcVx9fT3Lst3d3RzHeb3eoaEhr9f7wgsvhI+cs9lsdru9ubmZYRjMKgAABGoAkDyGYd54442///u/JxMIFixYIJfLeZ5/8cUXe3t7w/uEpFJpRNhBIpjYCS/EYnH4NMnwPq3wzch/SVEMwxw4cOD73/++Tqf7L//lv5SUlJC+rtdff33fvn3hsWO6RBwkWWVBIBCMjY2dOHGCTP8kr/M8v2bNGjJRgGVZv9/v9XpPnToVqhmyZU1NTWVlJXrUAACBGgCkxOPxvPvuuwqF4rXXXquuria5almW/f3vf9/b2xsRls3QNMaIYn0+38svv0xR1BtvvLF48eLQIe3duzeNe4n9q5ycHJqmd+zY8YMf/CB6e7lcTtO0UCiUSqWrVq16+eWXo5PoikQidKcBAAI1AEiJ3+/v7+8vKioqLS2VSCShrGN9fX3Xq0PI5/P19/cXFhYuXLhQLBaTDi2O406cOJHKIZE+szhL2Lhxo0KhOHbs2DPPPBNKxkGQh7MCgUChUBiNxvHxcYlEotVqoxP5Ij0HAKQOkwkAbmhCoVCpVA4PD09MTJDh8CzLvvPOO52dndcrUBOJRGq1enh4mCwbSkanvfvuu83NzUmvIkrTtFqtdrlcpExSbIztKyoqNmzY0NDQ8Pnnn5MRciRY5DhuZGQkEAgIBAKNRnPbbbddunTpnXfe8Xq9ocmnHMc5HA6r1YrWBQBpuCWiCgBuZGq1+t57733xxRe//vWvP/7443l5ee+///7Ro0fz8vLC1y+/lp1DKpXqm9/85rPPPvvggw8+//zzCoXinXfe2b9//9KlSy9fvhy+ZfxHJRQKd+zY8fnnnz/44IPbtm1TKpWlpaWPPPLIVNvLZLKnnnrq8uXLO3bseOCBB+6//36pVGqxWHbv3l1fX3/kyJHCwkKZTLZz5862trYf//jHn3766cMPP5ybm+t0Oj/77LMDBw786le/2r59OxoYACBQA4AUbgEi0eOPP+71en//+98/88wzIpGoqKjot7/97f79+z/66KPQ8upyuVyhUISvtk5RlEQiUavV5OkkKUqlUslkMpK0lqZpqVSqUqki1miftCipVKpWq4VCIUVRQqHwoYceslgsf/zjHx977DGhUJiXl/erX/2qsbHRbDaT57OhvkCSazceq1evfuGFF/74xz9+/PHHgUCgrq7u4YcfJoWQMWcRIeDy5cs/+OCDf/u3f9u9e/fHH39MknQYjcYdO3ZkZWWRbbKysl599dVXXnnlz3/+89/93d8JhUKWZRUKxZYtW5YvX47WBQCpozAvCeAGx/M8WXZzaGiILLup0WiCwSDJCkZGxJPeNbFYHAqwSKZcv98vlUpFIhFFUQzDBAIBoVBIJlFyHBcMBhmGCYVuBMlqG14U2TIYDMrlcrIledw5PDzc29srl8tLS0tVKhVJySu+ikwv8Pv9ZER/nGdKjpDkHwmV4/f7Sdq26EU8yYGNjo4ODAwwDKPVagsKCpRKJTnfUD0Eg0GHw9HX1+f1epVKZWFhIYlfk1uZFAAAgRoAAADALIBHnwAw6zEMM9XqCOQhacTjVwAABGoAANdCIBD4zW9+s3fv3knnhAqFwrvuuosMIENdAQACNQCAa4qm6YKCgpqamkkHclAUVVBQgJRmADBLYYwaAMxuJHVZjEefZBUBxGoAgEANAAAAANIGs8cBAAAAEKgBAAAAAAI1AAAAAARqAAAAAIBADQAAAACBGgAAAAAgUAMAAAAABGoAAAAACNQAAAAAAIEaAAAAAAI1AAAAAECgBgAAAAAI1AAAAAAQqAEAAAAAAjUAAAAABGoAAAAAgEANAAAAAIEaAAAAACBQAwAAAAAEagAAAAAI1AAAAAAAgRoAAAAAAjVIN57nk/5tKiXP0NvjOZ1ES47nXfFvk+iRRG8Z/a5USp7p2suEkmeulc6KikquASfXOK99yYlezZm4Lhl7A0czAwRqczlES2PJadzRzJV8vSrnRmsMaGZzu+Tr9cXvmpWc0I5mruQbvJnN0qgagRoAAAAAIFADAAAAQKAGAAAAAJmDwtPl9LrR6pPneYqikvtt7HfNXMmpb5NpJc/EtZszjXDuNeC590eH++Rcagy43GknQhWkOfKdrmVfg7+rNN5PI16cdJvY+5r2lCctmfycYsnh1RLaMp6aiSg5ei+T/jbOkpNoDAldzVDJwWAwEAjYbLapvjwgUEOgJhAIaJrW6XRSqZSm6egmmkoDnuoWEf+fbaKnk1DNXOOvZBlyn5xqL6mUnFBjAARqAPB/b7sOh2N0dPTYsWMsy0bccyNur3F+lkR/gka/K+IjYaoP+Gk/QWMfT0TJ8X9ORJc86a6TCEfCS44/nEr0EzSed0V/dsY+EqlUessttxQUFMjlcvzhACBQA4BrFKidP3/+q6++2rNnDwnUACYlk8k6OjoeeeSR0tJS1AYAAjUAuEaBmtVqNZvNPT09PM+rVCrUCUQ3kkAgQNN0d3e3z+dDhQAgUAOAa4fjOIqi1q1bl52d/dxzz0316DOJT/dUBkjNxECWmT6dREtO76PPGSqZ53mO4w4ePLh3716GYTiOw58MAAI1ALimaJpWq9U5OTmLFi3COF+IwDBMR0cHelsBEKgBwHVGXRX6b1o6iuKZFjBVIbFfnIkerKlKTlePWuwh//GUfI0nEyQ3pxgAEKjNeuldSjzR/Ybem8aVg6ddIC9d6w0nutJ5ottk2rrs6TrHafdCpLHk2M0suXXZU1yHMROWxk/94sZIpJJE45y22UdfzYhZwDPR7JOo80xb7vPGbGbx310R+iNQmwVdF6l8O591edQyp0Mi9jaJHkmiedSu1zlOex2pMOhRQ49ajB61iP/ORLNPos7nRh612d7M0nV3heRgCSkAAAAABGoAAAAAgEANAAAAAIEaAAAAACBQAwAAAECgBgAAAACZAOk50gx51JI45ehykEct0ZIn3QsfJo0lI4/aDF1c5FFL/W6GPGoz1Mziv7siSQcCtUyHPGqJnnJ0OcijlmjJU+2F+n+lpWTkUZuhi4s8aqnfzZBHbYaaWbrurpAcPPoEAAAAQKAGAAAAAAjUAAAAABCoAQAAAMBMwWSCNJt2msxMTPmMLjmJcuKZCpTotKmEphZGTPJK4/zZUOVkzpTP+BtDcpcyWhpLjrNm0tjMEr1kCV2FDGnAMbaPXXLsiztVM4toGzGmBifdgGOcV0L3yYya9XnDNrPYJYdfMkwpQKCW6eKZcxS7HacyESmVWZ+T7jqeeVLxnE6i86Tir6hpt4monHhqJnrL2GedaMmJNoYkpkBOKi0lT9vMpi0z7bM+k25mmdaAp52OF8/czPBtYjez8IYR/kM8dRVnA570vOKcm5mZsz5vzGYWu+SEGgMgUJsFPWpzLI9a/H1aM/FNMdFMP0kcRpydasn1qKXeBRtPV+JUnSVJl5xpedSSa2YZ2ICn7W6Mv0dt2jxqaelRS9flTuPdLDPzqM2BZhbPxsijhkBtjvSozbE8agn1aaX9m2KimX7i7wBINI9acj1qCXUtJHEdY+dRS67kDMyjlnQzy6gGHE+Cq/h71OJJcJV6j1qcVwp51GZ7M4tdMvKozTRMJgAAAADIUOhRAwCYBnmmwzAMz/MSiQQVAgAI1ADgOscl4aKfXoVGpVyXccQpznFObnfBYJBhmAwJ1CIGCeGpEwACNQCY+/EZy7IDAwOdnZ29vb0tLS0cx2VnZ1dVVeXm5lZUVOh0Oq/XOz4+funSpdbW1uHhYYqi1Gp1SUnJkiVLTCaTXq+/Bgfp9/svXbrkdDodDsfIyAjHcZWVldXV1RqNRqFQpHd3HMedPHnSYrGMXaVQKJ5++mmapq/XBWIYJhAIXLp0yWq1BgKBiYkJnuflcvktt9wiFotzcnLQjAEQqEFiXRHRv8Wsz3g2xqzP6zLrk+d5u93e2dl59uzZN998k2XZ8vLyb37zmyUlJYWFhTqdLhAIOByO5ubm3bt3nz9/XiAQFBUV3XHHHbm5uRqNRq/Xz+isT47jXC6Xw+E4fPgwTdMul6utrW1sbGzjxo0Gg0Eikcjl8iSuQvQ2HMeRaIznebPZfOTIkcuXL1ssFqPR+NRTT001HDvFBjztdDyO4+x2u9PpbGpqGh8fZxhmdHR0YmJCIBAoFAqVSrVs2TK5XC4UCjHrM+mrn+IuMv8+iVmfCNRudJj1Gf1bzPqMrquMnfUpEokWLVpUXFy8bt26P/3pTzKZbNGiRU8++aRYLBYKhTRNZ2VlaTSasrKy/v7+5uZmp9NZWFj41FNP5eXlSaXSaY82lVmfpD/pww8/HB4e/u1vf/u73/1u/fr1brf77//+76VSqdfrZRgmzlyGUzVgEq/4fL6xsTG9Xk/Cvu3btzc1NXV0dLjdbp1OF08quBmajsfz/Oeff97c3Lx27dpVq1aVlZUxDLNv377du3d/5zvfMRqN//Zv/7Zq1SqNRoNZn9P+FrM+01UyZn0iUAOAa/pNQygUqlSqYDBI07RSqVSpVBKJRCgUhj7LhUKhRCJRqVRqtdrpdEql0pycHJlMdg1u0yzLfvzxx6OjowqFQi6XK5VKuVz+05/+VCaTqdXqFI+BBILDw8Pd3d1vv/3297///ZqaGoqiSGeVRqPx+/3XYDxc7COsr68/evRoRUXF/PnzJRKJWCyuq6vjOO7Pf/6zQCB49913KyoqNBoNWjIAAjUAmMuxmkgkoiiKpunwEC28JyZ8G/ID+VYdEVik91EIwzC9vb1Wq1Umk5EePrFYPH/+/IS+0E/VqxcMBp1O5/Hjx81mc0tLC3mkSM5UKBSSPsXre2l4nne5XOPj4wMDAzabjdS5VqstKCigKCoQCPT39wcCAbRhAARqAHADxW2TBmHR25CfOY4LBAIcx4UeXfE8TwKd0Bh87iq/30/TNCmZ4ziGYdRq9VTPZViWZRjG5/ONjo7a7XaTyRQIBHw+n0gkEovF5F0Mw7Asy3Ec2SlFURKJhL4qfC8sy9I0TbbhOC5UwsTERFdX10svveRyuWia9ng8gUCAPM8Nx3Gc1+slOyJxqlQqDe2CbMAwDDkMjuMEAkH4NuxVZAPSN+n3+0mFyGQykUjE83wgEOB5nlQXKU0mk4nFYoFAIJPJ5HJ5d3d3SUkJOUdy/KSWyBvRaAEQqAEATBJO8Tzf19e3d+/ejo6OnJwckUhks9nGx8dramq2bt1aXFwsFot5nh8fH7dYLK+99prJZFIqlQzD9PT0nDx5cu/evSqVSiQSRRQbDAYbGxvb29tbWlrsdjuZefree++dP39eIpE89thjUqmU5/lz5841NzcPDQ0NDg76/X6VSnXfffeVlpYWFBRIJBKe5y0Wy/79+zs6Okwmk9/vJ8e2bNmyW2+9tbi4uLW19dChQ+3t7YFAQKVSvfvuu2NjYw8++GD4kTAMMzIy8oc//KGjo2NgYMBoNObk5Dz22GPz5s0jw9cCgcDw8PD+/fu9Xu/IyIjZbBYKhfn5+Q899FB+fr5SqWxtbe3t7W28avHixd/+9rdffvnlkZGR8fHxRx99dO3atTab7X//7//NsqzJZOI4zmazffHFF//1v/7XLVu2iMXihx566LbbbtPr9Xl5eSQ0HBkZaWtr43leoVBs2rRJrVajKQIgUIN0frbFHv2a9JOjOVnyDT5YNc4aiH7+mPQlY1nW5XL19fUJhcLQkGHSzeNwOMjg/Yhpif39/Z2dne3t7RzHqdVqh8PR1tYmk8mWLFmSn59PgjC73d7X19fa2koCLBL9tLa2kq64SU82GAx6vV6Xy8X9J/JfiUTCsqznKpvN5nQ6JyYm7Hb7xMTEyMhIT0+PVCrV6/UikYhl2cHBwa6uru7ubo1GEwgE7HZ7e3u7RqOprq4mUVEwGPT7/cFgkGVZ71URtcSyLAnvRkZG+vr6rFarTqezWCw5OTnZ2dk8z09MTNhsNofD4fP5yJH4fD6Px9PX10dG0Xk8HhJaXbp0SaFQ2O324av6+vrsdrvH4xkYGLhy5YpUKtVoNGSaZ0dHh81mIyncCgoKtFqtXC5XqVQURZFpsOPj43K5XKPRmEym6C7A+NtJKrORkl5ALJNLxn0SEKjB9NNqUHJaSr4RWstUm037rqk24Hl+eHh4165d+/fvDz39JP/yPO/xeLxeb8TnDcdxP/rRj9xuN0VRjz766IYNG9xu99atWz/++OOmpqZ///d/Ly4u5nl+165db7/99vDw8A9/+MNbbrmFoqhTp055PB7yQDDiqCiKIkPma2trnU7nG2+84ff79Xr9d77znXXr1pEBZPv379+zZ8/atWu3bdtWUFDAcVxzc/Mvf/nLX/3qV1Kp9A9/+MOiRYt4nn/++eeHhobKy8v/7u/+jud5t9u9ceNGs9nc2tr62muvrVq1ymg0/vrXv+Z5Xq/XP/TQQxs2bIioJYfD8dFHH+3YsSMQCLS3t7/44ovnz59/6aWXvv/973/jG99gWXb37t3d3d333nuvTCYzmUwsy7777rsffPDBE0888bOf/Wzjxo00TQ8PD3/00Ucej0epVH755Zf33ntvMBg8ePCgyWSyWq3PPffcwMDA3Xff/Td/8zdCoXDwqpycHIZhKIrKy8sjqUNCD3MbGhr27t27ffv2vLy8r3/96/FnkpuqnST9h5Z0S8vYknGfBARqc7PPY9rfzqU8amk55ehy4q+ohPKoJXQkCeVRu47nGGMvEYmy4i859LpKpaqoqLj77rvJoK5QjxrP81999VVDQ4PT6YzYUU1NDcMwYrE4Ly9PoVBQFCWVSkdGRgYGBoLBINlsYmJidHTU6XS2t7fPmzevoqKiuLh4y5YtEokk1KkTcUhisVgkEgUCATK5gaZpmUxGyjebzc3NzSdPnhwYGDh58qRWqxUIBKTXinQ19fT0GAwGnU5XXV1dUFBQUlIil8vJuchkMnJsDMOIRCKpVEpCUjKqjDwwDa8rhUKxZs2aoqIigUAglUrVavXQ0JDZbLZarQzDWCyWhquGh4dJl5hAIGhsbOzs7JyYmOi7SqfT6fV60rWm1WqXLFkyb948iqI0Gk15ebndbh8fH7fb7f39/RcvXiwuLs7Ozr711lsLCgrIVAYSooXC5a6uLqfTqdPp/uIv/kKj0cjlcnKl4syjFtFaIkYizkSzT+KmMQfyqGXUfXLav/oU766IFBGozeI+jzmZRy2hlEhx7j3+iko0j1r8R5JoHrXrdY6x9xI7j9q0JZPooba29plnnglNeCTvIk8GzWYzCdRC5dM0vWnTJjLKXqVSOZ1On88nFotZlrXb7SzLks3EYrFUKvX5fOfOnVNeRdP0mjVryIj7GH9H0ameeJ7v6elpb29va2sbGRlpaWkJD/V0Op1SqSQPRg0Gw8033+z1erVaLUno7/F4RCIRwzAOh4Oc16RVF/6KSqW6+eabySpSIpEoKytLKpWOjo663W6GYcxmc0dHR3Nz8+DgYHiNicXi3NxcnuedTmdFRYXBYFCpVA6HQ6fT1dbW5uTk0DRdWlpK07TP55NKpcFg0Gw279+//6abbqqtrV2xYoXBYCAzHsITXLEs29nZyTBMVVXVtm3bSOdiRN9n7Dxq0R1pM9rsk7hpzI08aplzn4wzXd8M3V0BgRoApB9JgRExRo0krYj+4Kdpevv27W63OxAINDQ0HDlyxOVyOZ1OhmFC21MUtXnzZplM9otf/OLTTz89efLkhx9+WF1dff/990ul0oRSYJBBWm1tbYFAoLCw8Iknnti+fXvE+k5CoVCj0ZCSt2zZ4na7x8bGdu3aRWJHEmCxLJvATVMkIrsQiURqtVqj0UxMTDBXtbe3i0Sim2+++aWXXopYEpQEedKryERUErBqNJrwBCh6vf6JJ574xS9+0dHR8bvf/a6goKCmpuZv//Zv8/LyotcY5TjuypUrpaWla9euJb8NdacBAAI1ALhBTfV0krwyPDx84MCBrq6ukpKSvLy86urqd999l8R5obcvWLBAqVQGAoH9+/f39fXV19dbrnr88ccrKysNBkNCPRxut5vMIZDJZAaDIXoVqdBzmeHh4cOHD/f29lZWVsrl8srKyjfffDPp4IYEpjRNhxKCuFyuiYkJuVyem5srl8tJ1ozww4jO/04eZYZeUalU69atc7vdFy5cOHv2rNPpPHnyJMMwd9xxR11d3aJFi0ILW7EsGwwGdTpdbm6uTqdDZwYAAjUAuCHEv8Bo9Gakj2ffvn0XL1587LHHVq5cWVVVpVAoQuEFiVS0Wq1MJvvGN77h8XhOnDjR2NjY3d195cqVFStWkMgjobCDpGRzOp2kh0wmk4VHMySvG0nJ29HR8eWXX/b399988806na6ysjL82GKfWnh0NVVWOZ7nvV4vWQ6VrGcfOmuWZcmcVplMFlHU/3NHFokKCwu3b99uMBh8Pl9XV1dbW9snn3yiuKqioiIU/JFijUZjVlYW6ZND0wVAoAYAN1C4lkQ8x7Ls008/7fV6RSJRTU3NTTfdRKKT8C05jjt06FBHR8df//Vfv/DCCxaL5ejRoydOnPhf/+t/vfTSSyaTaeHChRGPL2OgKKqsrKy+vt7v93/11VcqlerRRx8lkwA4jrNYLDabrb6+vrS09Kabbvof/+N/DA4OVldXb9q0SSQSeb3eiGMLnRrLsol2s4lEorKyMplM1tXV9corr5SXlz/yyCPkV36/v6urq7GxcXR09Jvf/GaMQsbHx996663vfOc737yqqanpiy+++Id/+IdPPvlkfHx827Ztof5CoVCoVCq3bNkSHe0BAAI1AJjLSKIykuEsNFUzIkQL/1V4WBMMBklw5na7HQ6Hy+Ui/yW5/t1uN8mCOzIyQpYTlUgk2dnZarWapOmfKkQLLU4QWlGA/EDTtFqtJsO/XC6XxWIxm81qtZoMzO/t7XW5XAqFQqlUkqULyHoGLpdLIBA4nU5ybORovV5vMBgkQ9BI2ja/3086wDiOC615wLIsGUgXOiSyAc/zGo2GZMcYHByUSqVdXV0qlYphGLfbbbFYaJomSYBDKxaQYsOfhwYCgZGREbLygVAoJNnRxP8pvDZI+rRAIJCdnZ3Qw2IAQKAGALMViSFIKMNx3MTEBIlmQitdkg3IsphWq5VEP263OzQPgDyF5Hm+ra1NrVZbLBan00nCkba2NoZhcnNzT5w4ceTIkR07dhgMBq1We8stt9jtdq1WW1hYSPK4TnpUXq/XbreTEIcM3ifRzOrVq69cuXLy5MkrV650dXUNDQ3V1NTI5fLBwcHOzk6e55999tnS0lJSwsTExODgYH19fTAY7OnpIacZDAZbW1v9fr/P59Pr9TabzWq1ms1mi8VSVlZGwjuPxxMMBjmOczqd2dnZFEUxDEOS4pK1m4LB4IoVK6qrqzs7O9955x29Xm+xWFauXOl2u4eHh0kP4rJlyxQKBSmQ7NflcolEotCzS6fT+eGHH951111KpVKtVptMplWrVmm1Wp1OZzAYwmdatLe3v/XWW/39/ffee2/sXjoAmNWEO3fuRC1cMxET4GNsk2LJqRQS+8XobeI5nXiOJzrzQuolh2+T6JFEH08qRztz5zjpuziOu3z5cnt7O8/zKpVq27Ztk17H6CQCDMO0tbUdPXr0s88+O336NJmtSVHU8PAwCR0cDofZbN6zZ89XX33V29tLVmT3+XxkjXaNRuPz+ZxOp9vtttvtLperrq4uJydHIpEMDw/7fL6hoaFly5YdPnz49OnTZLknEmO1tbWJRKL//t//e21tbcSKn6Tjqr+//+zZs59//vmJEydIZx7Zl0Qi0ev1BoNhxYoVCoXC6/W2tLS0traazWaFQnHnnXdu3bq1rKxMoVDwPO/3+x0Ox9jYWF9f3+Dg4LJly/R6vVAoJPk19Hp9SUmJRCIxGo1mszknJ0cul1dUVOzevfvLL79sbm4mudZkMllpaeng4ODevXv37ds3OjpKKjkYDFZVVRUXFy9cuNBmsykUipaWlubmZrvdrtfrH3744dLSUqVSuXfv3q+++urUqVMsy4rFYo/Ho9FovF6vRqOhaXpoaOgPf/hDy1UjIyPnzp27cOECy7IPPPDAPffcYzKZQrFaf3//uXPnrFZrVVXVkiVLkmj2PM9fuXLl8uXLAoFgw4YNpFtuppt9EjeNhNp/QnfXNN4n03vKM3oPiT/3zUzcXQE9agCQ6ncJuVxuMBgqKiq+973vcRyXk5NjMpn0ej1Zm0gkEikUivz8/Ntvv72qqorMDCgtLdVqtSTxxObNm9VqdX9/v1KpLCwsLC0tValUhYWFlZWVeXl5Op2OTGwkTzyLiopUKpXP5zMajRUVFUuXLo1el52MwZJKpTk5OeXl5d/97nfJM9PFixeTyZU0Tefn55M8t/PmzbNYLBRFqdXq0tLSJUuWGAwGMmNALBavW7dOJpNZLBaNRmMwGELHVlNTk39VVlbW+vXrFy5cqNPpKioq8vPzScqMdevWmUwmnueVSiVZsVQulxcWFt53330kB1tZWVlBQYFYLCbRmN/vn5iYGBgYEAqFRqOxrKxs4cKFpH70en1tbe1DDz3E87zBYJg/f75SqQzNMNDpdN/+9rdJDRuNxmAwmJ2dbTKZ6urqSktLw1dB1ev1N998s91uLy8vR7sFmMu3ZSTduWaQ8DbOvSPhbaIlR7+LYZi33357z549LMsajcbf/OY38Se8jT3hMSKR/Uw0s0m/msczuWHaroJJ5w1kTgOedDLppNuELxERI5txjCMh/ZQff/zx22+/LRAIfvKTnyxevBgJb1PcRebfJ5HwFj1qADAXOtWmujVHbBBPyBVn+RGfoPEfVfhOZ/UzqRjL70waaKa+NCcAzAo0qgAAAAAAgRoAAAAAIFADAAAAQKAGAAAAAAjUAAAAABCoAQAAAAACNQAAAABAoAYAAACAQA0AAAAAEKgBAAAAzGFYQirNYq9IGFqeL+kS4iw5lUJivxj7v1O9N57jidg4LSWHF8VflehhTLWXiN8mVHJCp5nEpQw/hZA0lhy78uNZlDPRZpbEJUvoKmRIA57qLbFLnuq/EY1/0gYQagZTNZIUG3ByjSSVu1lCd9c03ifnfDOLZ+MYy6ABArUMkpZ1xJO4cVyvRdnjWdAwiWWM41wqMdFlg+NftDHRRdkTXQ4yocaQxKLsod2FS0vJsZvZtNc66WaW0CVLaO8Z0oDjWS170hVCJz2jeFbLDm8Y4T/EU1cJrcONRdlnezOLXTIWZUegNtd61GaiOy265FS6YdLeoxbnwSTxfS7+73zxH0n0ltN2pyX9JTuNtTdVZ8mkPWoplhxnzaSxmSV6ydLb1XFtGnCM7ZPoUYtu/DPRo5ZEs0/iPplRPWo3bDObttcz9DPCNQRqs75HLZ6vKUl/yUulR23SXaelRy2ek0ru+1xC3yYT7feKPp6pzjrpHrV01V50TU4qLSVP28ymLXOGetSSaGaZ1oDT2KM2aeNPe49aos0+oX6vzOxRuzGbWeySk+uhh/hhMgEAAAAAAjUAAAAAQKAGAAAAgEANAAAAAGYKJhOk2Y2WRy2NE5oSnUqZ6DaZNvEzXecYYy+x86glXXKm5VFLZe5tRjXgeKbExt84p2320VeTDAyf0WafRJ3PgTxqc6CZxX93xZQCBGqZ7kbLo5ZQSqQ49x5/RSWaRy3+I0k0j9r1OsfYe4mdRy25kjMwj1pylyDTGnA8Ca7ib5zTNvvomXrTzvpMvdknUedzI4/abG9m6bq7QnLw6BMAAAAAgRoAAAAAIFADAAAAQKAGAAAAADMFkwmus2kHbCY9iWZOlnyDD1ZNogZ4nuc4jmEYjPOFCAzDcByX6Mj3VNrnrCsZ90lAoAYAMxLPkX9Zlh0aGvJ6vZ999lmMWZ9xfmZMOh0v9ky66JLjn/UZ/+dc5kzpjX8SXCbM+uQ47vz588PDw0ajER/wAAjUAOCaEl81PDxss9k+//xzBGoI1CJwHGc2m0dHR0tKSoRCIf5kABCowSRifwCk8gUXJd9orSV8M4qiNBqNXq8fHBxkWba7u3vSzZJL+Hm9kD5CjuP+z51LJKJpOvUTif3e0FNj+qr46z86eWxaKn8mSlYoFHl5eVKpNCKh2ky0z1lXMu6TkBF3/tl1p57VkPA2zr0j4W2iJU/6LofDMTExMT4+PmmS9KQTVKbYgFMZSzQ8PNzV1fXjH/9YLBbv3Lmzuro6Ozt75k6H47impqZ//ud/zsrKuueeezZu3BgKDdP1lx5Pj9pMl0zTdE5Ojl6vl8lkM93sk7hpIOFteu8hSHiLHjUAyBRarVaj0RQUFMyNL2Msy3o8nrGxMZPJpNFobrnlltLSUpVKNaPfrCQSyerVq8+fPy+VSgsLC9VqtVQqnWtf1v/fBQkAAIEaAFyjD+CpPn1n1xJSZK1SlmXb2tr27t1bWVlpNBorKytlMhnp4pqh3h2O43Jzc2+99dZdu3Z1d3f39/cXFhYqFIqM6upIZYxaxLvwJwOQmZBHDQAyXSAQ+OKLLw4dOtTZ2fnMM8/86Ec/Ch9TNXORrl6v/9rXvlZeXt7S0vLqq682NTUhoAEABGoAAP8X6UtzOp179uwZHR1dt27dvHnzCgoK4h/an9L9kaYlEsnmzZs5jjt27FhHR8fExAQuCgBcS3j0mf7PlWl/G882ye039N5UCon94qQj01M85ehy4q+o+LdJ9EiijyeVo525c0y9ZtLbzKYtM6FmRtJ9+Xy+9vZ2gUCwaNGirKwspVKZlksw7QFTFCUUCsvKyi5cuNDb2zs+Pu73+6faPvWLm1zJU51RZjb7JG4aCbXShO6uabxPpveUZ/QeMhMNOPxfjHdEoJbp0jJRMYkbB2Z9xt7mBpz1OdMlX7Mxamaz+auvvrJaratXr/7Lv/xLmUwWMfxupmcgrl+//sKFC/X19S0tLYcPH77//vujp3/OgTFq16DZJ3HTwKzPTGhm6bq7QnLw6BMAMhGZQ+Dz+bq7u0+cOJGdnb1gwYLKykqRSHQtPw8oiiooKCi9anx8/Ny5c8FgECPVAACBGgAgVuOHhoYuXrx44MCBW265ZeXKlWq1+hp/a6coSiaT1dTUbNu2zev1Hj161GazMQyDqwMACNQA4IaO0liWff3110+cOGEyme699966ujqhUHhdHq/U1dV961vfKi8vHxsbe//9910uFy4QACBQA4AbFMdxDodjZGTk4sWLPp9v1apVubm5ZHTadTkehUKh0+nmzZuXm5t7+vRpl8tFVrICAECgBgA3YqDW29vb3Nzc2NgoFou/9rWvZWdnx7mC00yQSqUqlWrhVUeOHIk9/RMAII0w6xMAMgiZQ8AwzMcff1xfX19YWLhy5cq1a9cqlcrrO6eMpully5b5/f4///nPx48fZximrq4O1wsAEKjNvo+ZaX+LPGrT7h151BItOZWaSW8zSzGPGonS7Ha7xWIxm83l5eX5+flKpZKm6RglX4OcXhRFqVQqvV6vVCr7+/uHh4dZlhUKhWm8uMijlvrdDHnUZqiZxX93RZIOBGqZDnnUEj3l6HKQRy3RklOpmfQ2s7TkUXM6nceOHWtsbOzo6PjJT36yZMmS2HMIrkFOL/LUNTs7u7S0dOPGjYcOHaJp+vbbbw8dGPKopb3OkUdtJu4hyKM2G2GMGgBkCjLTc3h4ePfu3SqVatmyZRUVFUajMUM+ACiK0mq127Zts1qt7e3tra2tPp8PVw0AEKgBwI3C5XINDAxcuHDBaDSuWrUqLy+PLBiVIYGaQqGoq6ujaXp0dLS1tdXr9WJKAQAgUAOAGwLP82fOnNm3b5/dbt+yZctjjz2m0Wgy53kKSX67aNEiEqu999574+PjZPYDrh0AIFADgLkcovE873Q6jx49eu7cuTvvvLOqqspkMolEmTWOlizTfscdd5SVlTU0NLS2tnZ3d7MsiysIADMEkwkAIFNitZaWlo6ODo/Hc8stt+Tn51/HDLex1dTU9Pb2+ny+K1euCAQCk8kUPv0TAACBWkZ/2Ez7W6TnmHbvSM+RaMmp1Ex6m1nS6Tk4jnvnnXf6+vpMJtP27du1Wi2ZSpauU05jA168eHFvb29+fv7x48e7u7tvueUWmUyG9BwzVOdIz5HeewjScyBQu9EhPUeipxxdDtJzJFpyKjWT3maWRHoO8tAzEAg4nc62tjatVrtgwQKJREJdla5TTm8D5nk+KyurvLx8YGCAZVmHw6FQKKRSaSqXAOk5Ur+bIT3HDDWzdN1dITkYowYA15/b7TabzSdOnCgsLNy4caNMJruOC0bF833MZDJt2LBhcHCwsbGxv78fy7QDAAI1AJiDSO60pqamf/qnf6qsrLz99ts3bdqUyVEaUVhYeNddd5WWlioUirfeequ+vh5zPwEAgRoAzLUobWJioqWlpbGxsaGh4f7776+oqJBIJJkfqIlEIpVKtWrVqrq6unPnzrW3t7vdbsRqAIBADQDmTpTG8/z4+PiZM2daWlo8Hs+mTZsKCgoyP0oj4+ekUumyZcvq6ur6+/u7u7sHBwc5jsNlBQAEagAwRzAM09HR8fLLL9fX12/atKmmpiY7O3u2DEkWi8UbNmzYsmWLSqVqaWnZs2eP3+/HNQUABGoAMBfwPH/+/Pnjx4/39/dnZ2c/+uijs+KhJ0FRFE3TCoUiJyfntttu8/v9+/btc7lcSH4LAAjU5tpnVezfJj3qZU6WjNYyZxoDSZw2NDQ0OjoaDAaVSuWCBQvCo7TMb2ZklQKpVFpYWCgQCPr7+71eL8uys72hzlDFzsaScZ8EBGowTW7A+FNJ3SAlo7XMjcZAojSn07lr166LFy8++OCDW7ZsKSgomHXNjCzT/vWvf33BggXj4+OfffZZX18fmtmcKRn3SUCgBgA3qEAgcPHixcHBQYVCsXr16qqqqkxb1jNOQqFQr9cXFhYajcb6+vrR0VFMKQAABGoAMItxHOdyufbs2eN0OouKiu64446lS5em0sdwvZCRalqttqqqaunSpcePH+/t7Q0EAnj8BAAI1ABgVuJ53m63d3Z27tq1q6am5rbbblOr1TKZbJaeDokva2trt2/fbrVa669CpxoAIFADgNkaqLW1tZ04cYJhmNra2iVLlojF4tky2XMqer2+rKzMZDKZzeYLFy4gUAMABGoAMCuxLNvY2Hj48GGDwbB06dLKykqapmf1CGiKolQqlclkWrRo0cDAwPnz5xmGwdNPAEgL4c6dO1EL6e0tQCUATMXj8dTX17/11lunT5/+2c9+dtNNN6nV6rkxT42m6ZycnJMnT3Z2dlZXV7tcLoPBgCsONxpMO007EargmrVRnucpiiL/RrwY47/xtPuIkifd0aQBZYxdxzi88Bej3xVecjxHEl3yVO+K3u+05zhtmfFcptSPJPXjj3GNkm5m4Q0mXc0sdgPmOI5hmLGxMb/fL5PJsrOzJRJJ9B9Oog04Qy4uTdMajUYul/M8b7VaJRJJWi5u7OOZ6vhTafZJ/wFOew9JotnHeQrxl5x0M0vlbzBz7pPJNbN03V0hyS+BqAIAmGkkcRqJ0l555RWXy7V27do1a9ZkZWXNmZu7RCJZvHhxbW2tTqd7++239+3bl0pS0+QqmdQzexV69wHQowYz2wOXYh8ySr7RWkuGX7JgMFhfX9/R0XHlypXbbrvtjjvukEqloa6FiKiCxBzk7ZOm7cjAZkZRlEQiWb58ucvl2rVrl8/n6+vrM5lM0fnh+DBxdpdO259EBv85HI7u7m6bzebz+W677bbk5tIi4S3uk4BADQBuICQi8fl8Z8+e7ezsJAPt3W73qVOnpFKpUCikKIphGJ/PR1EUeYXneb/fz3Ecz/MGg6G0tDT2k8TMiaQXLFgwNDTkdDpHRkZaWlpyc3MjAjWe5z0ez9jY2OjoqNfrJfNDaZpWqVRCoTC0DcMwwWCQYRixWLx48WKZTBb6bXT1chzn9Xr9fn97e/vx48fHxsYEAsG6detmb9ITAECgBgDXDsMwDofjvffe6+/vX7hw4RdffPHqq6+qVCqDwaBUKiUSic1m6+zslEgkRUVFWq3W6/UODQ253e5gMPjggw/+8pe/NBgMmb90AUVRlZWVPp+vsLCQ5/n33ntv+fLlMpksIsTs7e398MMP33nnHbPZ7HK5KIqSyWQrVqyQy+UkTYnf77fb7aOjow6HIzc395NPPikqKlIqlVPtl2XZvr4+q9X61ltvvffee4FAoKqq6sknn0TDA0CgBgAwvcuXL+/evXtgYEAoFN55553FxcWjo6MvvfSSVqsVCoUcx3344YePPfZYYWHhT37yk+3bt9M07XQ6PR7Pww8/nJWV5fP5ZktmMoqi8vLy/vqv/7qjo+P111//m7/5G5FIpNVqw7dZsGDBD3/4w/vuu+/999//x3/8R6PRaDKZXn/99ZycnNA2ZKjZrl27jh07xl0V6z4uEi1YsIBhmPnz5x87dqynp+caD48DAARqADD7kHDB5XJ1dHScOXOmoqJCo9Go1erKysry8vLc3Fy5XE6ee5KHdEKhUC6Xk4eAEokkEAjU1dXNmzdvtqQlIz1nKpVq2bJlIpGIpun6+nqFQqFWq0MZfSmKIqdpNBp1Oh35r1gsVl4VPmSN5/mKigq/3x/qaYuxU/IEWaFQTPWEFAAQqIFg2jxqk46bTqiEOEtOpZDYL0Zvk/opR5cTf0XFv02iRxJ9PKkc7cydY+o1k95mFnGOPM87HI6urq76+vqHHnooLy9PqVTqdDq1Wi2VSiOmC4RyFpDBamKxeOnSpRqNhsxhjHG0yV2CmWjAPM8rFIolS5b4/X6FQlFfX19SUlJRURHx9JOiKI1GQyKz0OlHD8IrKiqSSCQymYym6amacehniqJEItGkaSAyp9knUecJtdKE7q5pvE9e42aWyl/6VNunUnL4v5jNgEBtdnylnqpZJ5rpJ/4bR3TmoeQKif1i7Jw9yZ1ydDnJ5RiLvc3cyKOWRGOYuZLjaTBk+NTRo0c7Ozuzs7NXrlxZWFioUqnEYjEJPiIClIiQhabpuro6sVis0+kiOooi0lBFvD38Mz580uikH58xFoNP7uLSNC2RSHQ63erVq5uamm666SYStEXHauE/h584x3Fut9vhcAiFwqKiIrVaTcbnTXo8U/0cemWqj9vojHcR5ae92Sdx00iolSaRRy0t98n0nvKM3kOQRw2BGqBHDT1q6FHjw6M0t9t98ODB3t7e0tLSpUuXklH2wqtCj/PCCwztgvxQVVUVDAYDgQBJkxsMBgsLCwUCwdDQUCAQEIlESqVybGyMbJyfn6/T6TiOc7lcbrfbZrPxPC8SiUpKSsijVXI8Xq83GAzyPB8IBMh0S41GQ3KFpKUBk56tnJyc9evX//M//3NXV9fo6GhxcXGMUCmUrYP87PP5hoeH29vb58+fX15eTtM0wzAul8tms5FHnGQEG8dxer1eJpPFmGbB83wwGPT7/VarVSQSkRm1drtdq9UaDAZyCUivZ+AqUjOhaomYbIseNfSooUcNgRp61NCjhh61OdKjRgKm5ubmL774oqqq6pFHHjEYDKHHnRFp2SftWCLD5MfGxlpaWo4dO9bY2Gg2m//0pz+xLPvcc8/19vbm5ORs2rTppZdeIqk9fvWrXz388MNer/fAgQNHjhx5/fXXA4GATqfbt29fdXW1QCBwu92HDh2qr68fHBx0u909PT0ajWbdunX33HPPggULJk14lvTFzc3N/Yu/+Ivf/e53zc3NBw4c+O53vysWi2P/KZEZA4FAoLu7++jRo++99963vvWtsrIygUAwOjra2tpKJhyQ2NThcExMTDz55JM1NTV5eXkxrsjIyEhTU9O///u/5+fnZ2dnBwKBt9566+tf//pPf/pThUIhEoncbveePXva29sHBgZ6enq8Xq9ard60adNdd91VXl4eWj0CPWroUUOPGgI1AJg7/co8z1ssltdee81gMNx0001r1qwhj/8mvZtP9fyOpFJjWfbIkSNXrlwJBAKHDh1SqVR33nnnhQsXsrOzb7vttjfeeGN4eNjtdrMsS9O0UqlcvXo1z/OffPLJwMBAIBAghQSDwTfffFOv12/evFmr1TIM43Q6f/3rXx8+fLitre2FF17Izc0Nj6VS/MImEomysrLWr1/f29t76NChBx54ILwTMbyuSN6173znO2TvHMd5PB6n0zk+Pm61Wsnp79q166uvvrJYLI8//vjKlSs9Hs/Ro0dffvnlV1555dvf/vb9998/1ZGwLPvZZ5/t3bu3tbX19ttvX79+PcuyHR0deXl5fr9fLBb7/f4//OEPCxYsuP3221Uqldfrdblcr7zyysGDBy9fvvzCCy/k5+enq1oAAIEaAGRKrOZwOHp7e8+dO1ddXb1o0SKj0UieuyValFQqVavV9qvIF3eJRFJVVSWXy5VKZVlZmVqttlqtZGOapoVCYV5eXkFBQXgKWZKZ7OjRo6WlpYFAIC8vj4RuVqt1cHCwr69vaGiIDJ5LVw3QNC2VSuvq6kZGRrq6ugYHBwsKCibNhUb60vx+P8uyoYeVBHlFIBA4nc6JiYmsrKz58+cvXLgwGAx2dnZ6PJ6Ghob169fHvhBdXV0NDQ1Op5PnefLEc+XKlcXFxRRF+Xw+u91+4MCBYDBYUlKi1+sFAoHX67Xb7T09PZ2dnUNDQ1qtVqPRoLMEAIEaAMwdHMe1traePn26u7v7Zz/72ZIlS2IkmJgUiQzEYnFOTg5FUUaj0WKx+P3+zZs3GwwGrVa7dOlSiqLISLXwwkPzKMlwLhKsWK3WlpaWQ4cO7d69WywWh14PjfRqa2vLzs7WaDRprASKorZu3drc3NzU1HT06NHNmzeXlJRETykgYeWbb76ZnZ0dyl574MCB//iP/1Cr1RRF0TS9cuVKksvDZDKRObBisVihUIyMjExMTMQ+DJ/P53K5nE7nyZMn5XL5Aw88cOedd8rlcolEMjo62tTUdPDgwaNHj5IOPxJJk5FqWq22ra0tNzc3vdUCAAjUAOC6Icsf+f3+L7744uTJkzfffDPpTku6S4b+TyRk0Wg0Wq02NJ4sGAxONTY0/EWbzdbR0WE0Gh977LENGzaEHy1Zo7O8vDwiLW1aArW8vLzFixdfuXLlo48+Ki8vLy4uDs11Dd9MKBTKZDK5XE4Oad68eXV1dePj45WVleSsly1bVlFR4fF4zGZzQ0OD1+ttaGgIBAIk0Ixde5s3bw4Gg2+99db+/fsbGxtPnz59zz33VFRUyOXyiYmJ7u5uk8n0ox/9aOHChRGVJhaLy8vL59LC+QAI1OCGm/UZ57kkNJspoVpKaF5SEocx1V6is4UlWr1xnmYSl/KalTxVtfj9fo/H09/fb7Valy9frtVqpVLpVO+KmPAY/t9JQx8ydTHiLELDmcPfG5qDRlYOnZiYkEqlVVVV69evjx5bTTrhpmreyTVgkg1Op9NlZ2e3tLTY7Xa/3y+VSknHVfjhhRZoJ//K5fKcnJySkpLs7GxyeGq1WiwWcxzncDgGBwfJI0sy9i56qmyE/Pz8BQsWZGVljY2NOZ1OoVC4evXqgoIChmG8Xi+plqVLl65cuTIilUmob3KqhfPjqZl47ippvJtl5qzPjLpPTjvrM4mSMesTgdpscqPN+pz2zzK5qWFT5f9MqORJZyTFUzNJzPqMv+QkGsMMzfpMseQYu7hw4UJbW1tHR4dGo/ne974Xnpc/9oFNmvo1PNUZ+TniQWf4JYuerEBeZ1nW6/WOjo66XC6WZUOTTyNCnKnykKXSgGtrax0Ox4EDBy5duqTVapcvX65SqaLPLpQ6LtSpptfrycoNPM/39fU1Njb+8Y9/XL9+/YIFCyorK/Py8o4fP26z2SIS0UUcmFAorKqqMhqN5eXlH3zwQX19fWtr689//vMNGzbccccdVqvV4/GMjIx4PB5SLaGnn5NWSxKzPmPnY0vv3SxjZ31mzn0ynlmfiZaMWZ8I1ABg1nQnk76rhoaG06dPkwdn4fkd4uzYS/p2T7KLkSkLHMeRgVZkL2KxWK1W+3y+rq6u1tbW2tra0Lt8Pt/ExMTw8LDRaDQYDGmvltzc3PLy8pycnK6uLoFAsHDhQqVSGbvTgnSqkdxvZNRaQ0PDV1991draum3btgULFhQUFGRlZcUT/vI8PzY2NjExsXTpUr/fP3/+/MOHD589e/bcuXNCoVCv16tUKo/Hc+XKlYKCgtDTT5LLbWJiYmRkxGg06vV6fAYDXC80qgAA0hirORyOs2fP7t+/Py8vb82aNeHxxLThWnJpeEOjvkhmVzJsKxgM+ny+0DxKpVKZl5fHMExjY+OxY8cCgQBzVTAYtNvtZrP5xIkTFosl7RVCUZRWq503b15FRUVPT8+XX37pcDjiPM1QNxvLsseOHdu7dy/J91tRUSGVSslK7aTqIp6BRgSvZFxadnb2fffd98QTTzzyyCNZWVldXV179+4dGBjIz89nGObUqVNnzpwJVQvDMDabrbe399SpU/39/VjfHeA6Qo8aAKQNx3H/+q//2tXVpVAotm7dum3btmmjNJZlPR5PIBAgnVsMw0wayZEYgud5z1XkmSCJZkpLS0nWsYMHD0ql0s2bN1++fPnMmTMul4tEbBcuXFixYsW6detKSkrOnDnT1NR05coVnU5XVVVlNpsHBga8Xu9/+2//zWQyzVC1ZGdn79ix4ze/+c3p06cvXLggFApLSkq8Xq/f7yd9V16vN3Yw5Ha7rVarz+dramrKycmxWCynTp1yOp0cxw0NDV26dCk3N5emaTKOjWVZUnJoCa+mpqZbb701Pz9frVbfddddv/nNb0QiUV5e3pIlSzZs2DB//vw9e/acP3++oaFhyZIlKpWqp6fHYrFMTEw8++yzRUVFic7YBYA0Eu7cuRO1cM3E+eA/9ZJTKST2i0mMvUh0/FZCFRX/NokeybRLKGbIOaZeM2lpZjzPu93uoaGhF198sbi4uK6ubtOmTcXFxaEcGdGVwHFcb29vU1PT4cOHSQTDsqxGo2EYhiQhE4vFgUCgp6fnyJEjn3zyyejoKM/zRUVFFotFpVKRDUJdU06n0+Px9Pb2jo6OZmVlicXi7u7uvLy8efPmVVdXG41Gsh48z/Mul8tisfRcJRAICgsLb7755urqaoVCER2RpOXikjS8Fy9eHB8fV6lUwWBQIpEcO3bs6NGjDQ0NwWCQYRi9Xk+C1OikZWR1AZZlSefWwMCAwWBQKpUymWxwcJCmaZZlCwsLbTYb6Xiz2+3kGatQKJRIJB9//PGZM2fGx8dHRkYsFsulS5c6OjqWLl16zz33LF++vLi4mOS59fl8fX19PT09V65cYVm2qKgoulpSb/ZJ3DQSaqUJ3V3TeJ9M7ynP6D1kqu1TKTm5+wmgRw0Arh2Sq6yxsbG3t3fLli1r164tKCgIZSybitfrdTqdo6OjYrF41apVJFHFyMhISUkJyTrBcZzX63U4HPPnz8/KyhKJRE6nk6Zpr9dLHmsKhcK1a9eSjYeGhnw+n81my83NNZlMa9asUalUSqXSaDTK5XKpVLp161aapnU6XWdnJ5lhYDQaFy9evHr1apVKNUP9RhRFicXigoKCBQsWjI6OtrS0CIXC0tLSsbExqVS6YsUKnudlMhlZFYqknI1A0/TSpUs5jvP5fAqFwuPx6PX6efPm5eTkeDweiUTi9XrJwdtstqqqqvz8fJlMRhY8FQgEBQUFJSUlQ0NDIyMjJKJdunTp4sWL169fr1arlUrl3Xff7ff7W1pazGYzTdMcxxmNxpqamlWrVqnV6ojl8AHgWnfxYPDBtfwkw1qf8ewda30mWnIqNZOuZsay7MGDB3/9618PDg7+9Kc/3bJli1gsjv6Mj34XFyaUNY2s2h7qeGMYhmR5JVM+yQah6Z+kEPJgNFQCWbk8/C3k4MO3DOXFnXRxpzReXJJZ99ixY2az+ec///nixYv/6Z/+qbCwkGSDCx0kOYyIRGvkUMkDTdLlRnKUhJZmD63HQM6OVBRZJpXUEqk9sotQNhCyr1D2jWAwSC5BaPIpqZbohB2p1EwSNw2s9ZneewjW+kSPGqSavCrpuDmi5KRTZE37ehL5geI8mCSy+MSf6Sf+I4nectokakmnVkpj7V2XksNr2OVy2e12m81WUFBAumGi05JF75TEJbF3StP0VPNGQ/FWKCiZtnOLpunwxdfDA4KZbsBqtTo3N1cqlQYCgfHx8cLCQplMNlUYFF0J5MjDPxGFQmH0mlfRn5pisTjGxNtQn99Un7WxE+Ald2NJ6D6ZUXnUEm0MmXafjLF9KiWHXzKEawjUMr6LMuXkVal8yUulR23SXaclj1o8J5VcFp+Ecghl1Bi1hBpDEv1e16Dk8EvGsmxTU9PJkyfPnDnz2WefVVVVRXTGpN7MEr1k8XeHXIMGTHqwamtra2pq5s2b53A4du3aRQaHTTt4aNqSpzqjJNIHxlly0ukDE+r3yswetUxuZknfzVIsObm8jBA/zOUBgOSFFhR/7bXXzp49u2XLljVr1iDt1qQfaaRL7P777y8vL9+9e3dnZydZKB31AwAI1ABgpkxMTFy+fNlsNstksi1btshkshjdaTdyrEbU1NSUlZWRwfu9vb0I1AAAgRoAzAgyRn5kZOTQoUPj4+MFBQV33XVX9KLjEK6mpqa6ulqtVl+4cOHy5ctkNgAAAAI1AEgzjuOcTmdbW9sbb7yxaNGijRs3FhcXI0qbCulRk8vlpaWlW7duvXDhwsmTJ91uN5nuCgCAQA0A0snn8x05cuTChQsej2f58uW1tbXIuRVPuJaXl7d27VqKoiwWS0NDg9/vR7UAAAI1AEgzv99/9uzZK1euCASCRYsWlZWVoU7ikZWVtWTJEqlUOj4+3tLSQpbPAgBAoAYA6UEWXzebzZ988kl3d/ddd91VVFQkk8lQM/GQSCQ5OTnLly9XKBSff/650+nESDUAQKAGAOkM1AYGBlpaWgYHBymKIik5whPJwlTIWghKpXLx4sU5OTltbW2Dg4NWqxUj1QAAgRoApCdK4zju+PHjH374YUFBQXV19bZt23Q6HaYRxE8sFm/evLmmpmZkZOTUVXgACgAI1AAgDfx+f2tr6+nTp5uamh588MHbb79doVDM0IrmcxLpVMvPz6+oqKipqTl06NCePXswpQAAJoVHFQAQL7Kin9vtbmhoGBgYoGl61apV5KEnutMSjdXkcrnJZFq8ePGpU6dGR0fHx8flcrlUKkXlAAACNQBIMlBjWXZsbOz1119nWXbVqlWrV68Wi8XoTksuVispKbnvvvs+/fRTn8934cIFmUxmMpkQ8gJAONxeASABra2t+/fvb25urqur+6u/+iuJRIKlCJIO1HJycm666aYlS5aUlJR88MEH7e3tWFEKABCoAUCSOI7zer0OhyMYDKpUqpycHKzpmUqgJhKJFAqFSqWSyWQOh8Pn82HuJwBEEO7cuRO1kEb4QgxzuG27XK7333//gw8+WLFixd13371s2TI89Ez9diGRSAoKCt5///158+bl5eXpdDrUDMzqbyCohPTCGLVr10Z5nqcoivwbe5skbvfhJadSSOwXo7eJ53TiOZ7wbeKvqPi3SfRIoo8nlaOduXNMvWbiLzYYDB47dqy5uTkYDG7btq28vDx6DsG0ZSbXzFI/5cxswP/nu7JQuHTpUoPBkJ2d3dHRcebMmbKysvCMdLFLnuqMMrPZJ1HnibbS+O+uabxPZngzi31ZUy85uTsVxA/fhgFgms8GkjjN7XYfOnRoaGjIYDCsWbMmPz8f9+W0fLUrKioqKysrLy8fHBw8d+4cHoACAAI1AJgyLOOuiniI7/F4+vr63nrrLZlMdv/99+fn52PBqPTcgmlaKBSqVKr77rvP6/UePXp0YGAgGAyGXxH2P2FkBQACNQC4cUM0n8/ncDgOHDjQ1NTkdrtD4RrP852dnW+++aZSqVyxYsXXvvY1RGnpJZVKb7311rKyMpZld+3aNTExQSLmQCBgtVo/++yzjz766ODBgwzDoK4AbjQYowYA/zdQs1qtdrv9yJEj2dnZZWVltbW1BoNBJBK53e6enp7GxsbKysqysjKDwSAUClFjaSQUCnNzc0tKSrq6uhoaGsbHxzmOs9lsY2NjPT09p0+f5jhu3rx5a9eulUgkqC4ABGqQ0qfdtL+NZ5vk9ht6byqFxH4x9n+nem88xxOxcVpKDi+KjLVK9DCm2kvEbxMqOaHTTOJSJlcyy7Lt7e1ms/n11193Op1ZWVnPPvvspk2b1Gq12WxuuOoXv/jFkiVLxGJx/A0mLc0siUuW0FW47g2YoiixWFxbW2u1Wt955522tjaBQNDQ0HD27NlTp045HA6VSrV69eq/+qu/ksvlcf5JRjT+JNpMPP9Ny+VO490sobtrGu+Ts6KZxd5LKiWH/4uhqwjUMt2NNutz2j/L5KaGkZ9TLHnSGUnx1EwS09/iLzmJxjBDsz6jS+7v7zebzYFAwOPx+P3+l1566ZNPPtFqtTzP22y20tLS9evXGwwGkuE2ngaTxmaW0CVLaO8Z0oApipo3b15lZSXDMM899xwZF+i4imEYt9vtcrnIJIPw3HVTnVES0/Eijjl2XSVRcpzXd07O+sycZhbPrM9ES8asTwRq6FHL6B61tJzyVN/50lWZCXUtTLrl/8fem0fHVV35/qpb86wqTaV5ljVYkwfZli0bkO3YOA4vhKm7w6KT8Jomj857hBDCAzI9hm5oCCFhWIGEAHaAGIhtZmzhUUiyLWHZlq3JmsdSDap5uNNv/bQ7t2uppNKt0uCytT9/eMlV95577zm7ztl3n7O/Z86I2hV8xvnXDMAwjMPhsNvtDMPA0vWenh63263RaKRSKcjoazQamHoLcYmlj6hF3ATRYMAMw5AkSVGU0+l0OBw+n48kyfb2dhj2aJqGEZGiKJIkYdUgDIpzPlF0mv3yjKhFVT85Z0Rtnr0rumvoqGFELboiaqijdi3pqA0MDFy+fNnv93N9LmwWHhMTo9VqNRpNb29vRkZGXFwc6NxGSUTt6tVRYxiGoqiWlhar1fr+++9//fXX/f39brc7OMETdOwcDodGoxGLxaijdnVF1FBHDUFHDUGQ+cIwzPj4+PDwcKA2BEVR0AU7nc7BwcHXXnutuLi4pKRk9erVSqWSW6yGRBaY6evra2hoOHHixOTk5Pnz54eHh+12+7SAGXcwTdNOp5OiKKx2BEFHDUGQ5eUxgKNmNBpHR0dJkgyeBPF6vUNDQ3/+85/Lysqqq6u1Wm1WVpZOp8P0z/l4xv39/R988MHhw4ddLhdBEBBIm22+CaZHSZKUy+VYewiyfEAdNQRBYmia9nq9JpPJaDTOKNYFER2/33/+/Pm9e/d+73vfO3DggNlsRgnWiIFN2ZVKJUEQLMtSFBV6QwKKoiwWC0xMIwiyfMCIGoIgMV6vd2xszOPxhJBUBZ/M7/d7PB6RSCSRSKRSKVbdfMjOzr7tttvGpujo6AjthNE0PTk5iY4agqCjhswL1FGb8VvUUYtmHTXYk8BoNIITEHpFsFwuj4+PLykp4XaRCjeTDnXUuLXYycnJOp3uzJkzAwMDY2Njk5OTsznKkHngcDimTUyjjloEJS9IZ3u1mBmf3mz+JWPWJzpqVxOooxb8LeqoBddVVOmosSzrcrm6urp8Ph84BLOdSBAEbCF1zz33KJXKQEEvngaMOmqBxxAEoVAoHnnkEYvFQtP0iRMnBgYGQJJjGkKhELaO8Pv9qKMWWf+JOmqoo3aVgmvUEASJoWna4/HM6CL891udSJSSkpKenm4wGIRCIXbKC/h2JxaLMzMzExISwP2d8TDQ8gi9jg1BkGsPjKghCBLjcrl6enpIkiQIItgVEAgEQqFQpVL97//9v2tqalatWgXJnuirLYiXJhQKtVrtT37yE61W++GHHzY1Nfl8vmkTTyB+a7VacY0agqCjhiDIssPpdLa3tzudzmlBNWIKkUhUXl7+3e9+99vf/rZWqxWJsN9YYGAO9Lbbblu5cuXPf/7ztrY2t9sd6KvRNO3z+SwWi8/nw+pCEHTUEARZRrAs6/F4RkZGpgVyBAKBRCJJTk5ev359SUlJTU1NUlISN+mJwhwLBdQnQRAGg0EgENx6661ut3toaMhmswUu2SZJ0mazBcoRIwiCjhoSyZg357e41+ecV8e9PsMteT41wzCMx+MZGxsLnFYDLy0xMXHt2rU//vGP4+LiMjIyYOeo0GaGe31G1rggq5acnPyDH/ygq6vr1KlTHR0dJEly20lRFMVNfeJen/PpgReks71KzQz3+kRHDcG9PsN+5OBycK/PcEuOuGbgb4vFYjKZXC4XtzoNpjvT09Mfe+yx6667LiUlhSAISDYMbWa41+c8N2EkCEKj0Tz++OMfffTRCy+8MD4+bjQawVfz+/1GoxGmPnGvzwj6T9zrE/f6vEoR/vKXv8RaWLKIGoJEG7CR0blz57788kuapsFX0Ol0mZmZP/3pTzds2JCcnCyRSLALXsqXPaFQqFQqc3JyCIIYHR31eDzgPYvF4h07dhQUFGAtIVdjtALBiBpG1DCihhG1SCJqjikYhoHPRSKRVqtNTU3dsWNHXFwc56XxMTOMqC1IqEMqlWZlZcXHx4+Pjzc0NFitVpIkGYbxer0Q9cSIGkbUMKKGjhqCLDtmW9NzzS9QGxsbGx8f52I2JSUlu3bt2rZtm1arBZ3VGUtejAVqS9zRz7nxw5VaOcSyrFgs1mg027dvV6lUv/71r81ms8/nc7vdfr+foqgQKR3LbYEaOgcIOmoIsixcNP8UNpuNYZjoDC0s4Ht/YESNJMm+vr7x8XGWZdVqtVKpzM/Pz8rKSkxMNJlM4e49EFlEjQMCeCDSttgeOUVRdrvd7XYvSKwu3LPmDHXATcJKwby8PIqizGYzRVHj4+N9fX0SiQQSO+YTRInsnucfXlqowFVMTAxsOKvVatFdQ9BRQ5Br3FGzWq0jIyOnTp2CdVqLMa4s6ogV2VMLBAKKoo4fP97e3s6ybGZmJuzj6XQ66+rqlrgVBALBDTfcYDAYNBrNElzOZrM1Nzf39fWF2I9hQZYizLNkv9+/adMml8vldDr9fn9DQ4PD4VCpVLO5s9Fwz0tjwAKBID4+PikpadOmTeioIeioIcg17qidPHny6NGjdXV13FKtwPm4YJn4ad8GHzPjuBLWWfxLDveswGNYlp2cnHS73TRN9/T0DA4O9vb2zihpO63kGS8x592GOIsgiP7+/ltuuWXVqlVLMO729vb+/Oc/hxjq/Jtg/o072/Esy1IUZbFYvF4vy7KHDx9ubGyEJNwQxhn8b7hmsxhmz8dI+JgZd6RUKs3MzNywYUNw6BdB0FFDFjKqEeLbiBdhXJMlL15fbDKZBgcHnU6nQqEoLCxEy1ziX4HVau2dwuFwcKuUFsnMAIfD0d7enpWVpdPpliaGhywgJEnCb9bj8cxn/1PsJxF01BDk6oBhGLlcXl1dnZeX9/jjjy+TrM/5lLxQWZ8sy9I03djY+MILLzBTLFmjEwTxv/7X/6qqqiorKwuRChfN6XjLM+uTZVmbzVZXV/fKK6/09vaiX4Kgo4YsIqG7mPl0QFjyfC4d+N/g6wZ/y+fewj2Lf8nhnrUgJc94+pxlzliZM5a5BMbAM6NwaRp3tuNDlzybcQb/G+6TLobZ82/Z0GYWaDbzlK7EfhJBRw1BrkrvGSNqSxlRE/ydK9LWIa6OEbWFNXs+RsJTRw0XpSHLBwKrAEEQBEEQBB01BEEQBEEQBB01BEEQBEEQdNQQBEEQBEEQdNQQBEEQBEHQUUMQBEEQBEHQUUMQBEEQBEHQUUMQBEEQBEFHDUEQBEEQBEFHDUEQBEEQBB01BEEQBEEQBB01BEGWGfPcVxtBEOQaBjdlX9IhB77lc0xk1+XOnU8hoT8M/d/ZzuVzP9MOXpCSA4tip5jtsGlHTis5+MRp34b1gGE9ZgRNuWQl8zEY/vUQWGxY9xaumXFXhM2/QxvGUhowz9vg+ZOczZj52wyf/4bb3BH0kzP++qYZTGS96wL2k/O50FVhZnwOhn9xs3x01KKdEDbKDQxzHhNBxxFY8nwKCf3hjMeEvtacjzxjyfD3PEsOrBbuyBmPF0wReN3AkoOvMuO3fOp82lk8jSGs1lyykvkYDE8zE/ydac0R1u8uXDPjTpl29StlwLNdJXTJs9XnjMbPxzjnLJm/mc3WRfD/2YY4eJrB8O8QFqSzjeCYKOknIzOz0CWHZQxIBODUJ4IgCIIgCDpqCIIgCIIgCDpqCIIgCIIg6KghCIIgCIIg6KghCIIgCIIsMzDrE0GWIyzL+nw+t9ttMpmcTqdKpcrNzRUKhVgzCIIg6Khd4+PfnN9eSzpqC/LIweXwr6iwdNRCPOP8ddRYlvVPQZIkwzAxMTEEQYCIADEFnCIWi6VSKWSzL2DthT4L7o2egiRJiqIYhnG5XBMTExcuXJiYmMjMzMzKyiIIIqySKYryeDzw7AzDQH6+SqUSCoWhVRKCK3+amNn8HznEkfx11KaVDLXn9Xp9Ph/DMARBSKVSoVAok8mEQiFBEDRN+3w+r9fr9/uhfKlUKplCJBIFq1SEK3A151nQ0BRF0TRNURR3D0Kh0OPxEAQhFosVCgV/s5nnjzT4LPiNgLXA51BF8GPh2ZtddTpqUdVPRmZm/HtXFOlARy3aWW46amFJIvG8Ov+KCldHLYQmU+Af4eqowR8kSX7yySetra3Nzc1ms1kgEBgMBrFYLJPJ4uPj9Xq9RCKx2WxFRUV33HEHOHALVXtznsWy7OHDh/v7+8fHx5ubm4eHh81mc0ZGBk3TFy5cSElJ2bZt2y233MJHAo37lyRJq9X6pz/9CSJzRqPR7/eLxeKf/vSnaWlpGo2Gj1xTYBMEyzjN55HnNDM+OmpcyfB3X19fW1vb+++/f+jQIZfLJZVKv/nNb2ZmZn7nO99JTU1Vq9UDAwOHDx9uaGjYv38/eHLbtm3bvHlzdXV1ZWVl8E8pXIGr0GeBu/zZZ58NDw+PjY2dO3fO6/WyLPsP//APycnJv//979PS0oqLi3/0ox/xqUM+8oH865xlWZqm/X7/hQsXDh06ZLPZJicnnU6nSCS68cYbKyoq0tPTlUrltaqjFj39ZGRmNp/eFUFHDUEW3cPmE6GhKMrtdrtcLq/XC+G0wF6PJEm32+33+71eL8Q5ljK+C1EWl8sFcSC4W7gTGDt9Ph9N0+FuBgCxJQjOcQEnmqYdDgcUCHHERa38KxU193g8DocDnjc48ADGQFGUQCAIt2Ln09AMw/j9fs8U3MsDRVE+n48LBFIUdaXqDcKNEE7jbtvn8zmn8Pl8EJjEvghB0FFDkAXGYrF0dHT8+Mc/pihq/fr1TzzxRFFRkVgsFggEDMOYzea6urrXX3+9u7u7trbW5XIt8e05HI49e/a89NJLmzdvfvrpp71e7759++rq6m688Uar1drW1haZZ/DJJ5+cO3fuG9/4hl6vLygoYBimsbHxjTfeuP766x944IHa2tqSkpLExMRrxo8XCAS5ubkZGRkbNmxoamryer0pKSn3339/aWkpuBcCgSAnJ+fuu++urKw8evSow+Fwu92PPfZYfn6+QqHg6bPOB5vN9vbbb7/88svV1dXPP/+8z+f7cAqCIEiSjIuL0+v1Go3milQgwzAdHR1vvvlmRkbG9u3bV61aJRAIhoeHn3vuud/85jfDw8O/+MUvbrjhhtLSUozKIAg6agiyYGEMCAl88MEHn376qc1me+SRRyoqKrKyssBLg9VpsbGx1113nVwub29vb2tr8/v9S3yfLpfrwIEDNE2rVCqRSKTRaHbv3l1TU6PX65uamiIbF1mWvXTpUn19/ebNm0mSjImJEQqFubm5t91225tvvtnY2Dg5OanVaq8ZR+2/e8ypCoTFXmq1Ong1nkAggGNomna73Wq1GpYkLo1H/sknn7AsCzemVCq3bt1aWVmp0+nEYnFBQYFUKoXpxSvCxMTEl19+uXr16rKyMljBqdfrb7755q6uru7u7qNHj0okkuLiYpEIRyUEQUcNQRYImqYHBwfPnj178eLFrKysioqKgoICiUQSuFOeRCJJSkqC8dJsNsfGxi7xTZIk2d3dLRQKRSIRQRASiSRlipiYGJVKFbEP4XQ6x8fHh4aGuIfVaDQ5OTkxMTFGo1EqlS597HCx4RoUXHCoT265IXcAfAUOh1gsDp1asYD4/f6enh7wJuEeDAZDUlIS3FhCQsKVfavx+XwTExPj4+NjY2OwnkkikWRmZqrVapqmR0ZGxsbGuFlRBEHQUYuiqMyc+XERxzyuvZIXb8CLLL/S5/OdPHmyra3N5XJ9+9vfNhgM08In3MidkZGh1WonJyeTk5PhQ4ZhaJr2er0wKRaYBAcZgiRJwlIwmqYhm9Lj8cDCMoFAIBQKFQpFCCeAS/B0Op0TExNxcXGwVI6iKJFIJJFIpi2kg2vB8jUupRHSFaE0WM0GnxMEIZvi4sWL3Bo1oVAolUphkRaX2cfHGGbMu1w8MwssP9zrTrvojImc0w7mFsUDsMAfvmUYhsvK5MwA1nKxLAufwEo4mUwGdTtjQ1MURZIkpPHGxsbCIjlwFsViMZQAqwnBbKgpaJqGNlKpVLCOjVtZKJPJoN3hQ87q1Go1Z4RCoVAikXCeKKQyQNOD/wqrIaF88Fk1Go3X621vb+cqB55dIBDALfH/7QdnfWIPvAT9JIKOGoJERcgkrBhGU1PT6OioRCIpKytTKBQhMtTUanVtbS1EO1iWtVqtg4ODr732WnJyslwuN5vNdrvd6/XefffdmZmZsbGxZ86cMZvNLS0tFy9eFAgEv//971999dVz58719fWp1erU1NSHHnooIyNDqVTOmK7b39/f09PT0NBgMpk8Hs/k5OSpU6eee+45qVS6ZcuWVatWTRv4GYZpaGgYHh7+wx/+YDKZBALBD3/4wx07dqSnpxMEMTo62tDQ8Mwzz2zevHnHjh2bNm26/fbbN2/eHB8fD1OBMTExVqv1/PnzAoGgvLx89erVBoMh+tt6nq4e+ECBcSD4cEYJEqPR6HK53nzzTa/Xm5CQMDk5abPZnE7n3XffnZCQkJ2dLRKJvF5vX1/fn/70J5Zl09LSGIaxWq0ff/zxI488smPHDrlcHuyvDAwMdHR0nDp1anx83OVyMQzT1NT03HPPCYXCqqqqDRs2dHd39/T0fP311xMTE3q9/sknn2xubu7o6Oju7h4YGLDb7a+88sqePXtaW1s7OjqSkpJiY2Pvu+++rKwsjUZz5syZtra2np6eU6dOJSYm/u53v3vttddaW1sHBgbS09N37dpVVVUFCZsMwwwPD58/f/7AgQPZ2dlyuZyiqDNnzgwMDHz00Ucqlaq0tPS5556TyWRxcXFgMF6vt62tzWq1CoXCdevWrV69OrKVfOiXIOioIWEHZsIK28xTqGzGknnGh/ioCs14zJyqPOHeCU/Ns4VS+uFzt3wEpWianpiYcLvdcrk8Pj5eLBaHuB+hUAihBfCKuru7v/zyywsXLhQUFKSlpel0uosXLzY0NHz++edbtmypqqqSSCQkSZ46daqzs1MqlV64cCE2NjYlJcXlcplMptOnT9fV1e3evTtYFgvuQS6Xx8XF5eXlqVQqlmVFIpFOp8vPz5dIJDqdbsYRUa/X+3w+uVxutVptNptcLodl8hDdkUqlJElyA21KSopOp+NEsBiGMRqNp0+fzsnJqaioWLt2rV6v529mkWl0RWZm01o5OJ7HR7fM7/dPTEy89957BoNhmujD8PCwxWLxeDycThukfzY3N3d1dbW0tBgMhjVr1sTFxZ2f4osvvoDJaKFQaLfbP//885aWlqysrI0bN0I7clm6M96PXC5PSEjIy8uTy+UQuIKGFgqFCQkJIpFILpfTNN3Y2OhyubKzsyFqazQav/rqq7GxMa/Xe/78eZVKlZqaajKZLl++zDDMl19+uXnz5srKSolEMjAw0NDQ0NbWZjAYOCO02Wxnz57VaDR2ux2MkKKoxsbGpqam8+fPV1ZWJicnUxR18eJFCBCqVCqtVrty5UoIu8K7itvtbmlpEQgEBQUFlZWVBQUFXFgxdOOG6JQi0FFbkH5yzq4+evpJ1FFDRw1DMqijFt4jB5dzRXTUAuMrPAWlYAy22WwwDul0ujmFXgPLPHv27JtvvklR1KpVq6qqqvx+/8GDB9944413331XrVZv2LAhOTkZYlRGo1Gr1TY2Nm7btq2srKy7u/uLL7744IMP9u3bt3bt2oyMjBnbKCkpKSEhYeXKlb29vT/5yU8UCkVRUdEtt9wCk55CoTCwF4a51OLi4vT09E2bNk1OTra1tRUVFXHRMpVKlZWVVVxcXFFRAXmO2im4SmNZdnR09NixY2vWrNmwYcP69euDJV5DVGaU66gFG4PP5xscHHzqqaemReYC5X/BHrj6OXz48KFDh/x+f1ZW1q5du6Cov/zlL/v27UtJSbnlllsUCsXk5OSePXvGx8dLS0t37twpFAqHh4dPnDihVqvBUQt+0sTExPj4+LKyso6Ojl/+8pcqlQoaGupfIBCkpqYODw+3trbK5XJYspaUlOT3+8+ePQtqcA0NDbW1tZWVlZmZmb/5zW/6+vr2798fGxu7Zs0ag8EwOTl57tw5u91OEAQYYWlpaXNz8yOPPHLs2LHOzk4wQoqiPvvss6+++srj8VRVVZWVlTEMY7fbORETmUyWnJzMVT5ILtfX18tkMoj8FRcXg7Ghjtri9ZOoo4aOGoIsO2BJGcMwbrdbp9Pxd+jT0tKqq6sFAoFer4cSQMIe9nQiCEKj0Wi1WpVKZbFYZDLZ9ddfn56eTlGURqPp7u6WSqX9/f1utzvEJWDY4wY/giCEU8z2ogxrhqqqqi5cuHDp0iWY7QJBB6vV2tHRUVFRkZqaGigizwUI+/r6TCaTTqe79dZbs7Ozl2wF/RVs9/j4+Ntuuw1cn0BGR0ffeecdj8cTmE4hEAhWrFjhdDoZhikpKRGJRCzLSqcwm82wkgyW99mnGBgYaGxszMjIgBnztLS02dIhAxs6MJsBGhrW7MtkMi52CLPwGo1GpVKRJCmRSK677rrMzEwIiyYkJIyNjQ0PD1utVjBCjUajUCjsdnugEZIkqVKp7HY7KLeBDbhcLpi+P3v2LEmSK1euLCwsBKMKdGfhNsbHx/v6+lQq1apVq4qLiw0GA7eyDXsVBEFHDUEWBoIg1Gq1WCxmGMZms8FWBDwdtaysrK1bt0KOnsVi8fv9brdbLBbDkjKCIFR/B2av1q1bB4NcQkJCWlqaXC4fHx/3+XxzBnenRapCr80Si8VlZWX5+flfffVVfX19VVVVWlqaUCi0WCyXLl3asGFDSkpKcMksy/b29jocjsLCwh07dsA6vGu76SUSicFguOuuu4qKiqbFac6fP19XV2e1WgMdNYIgSktLdTodTdMQpqJp2uPxiMVio9Eol8u5hAyVSjUyMtLb2/vZZ59VVFTAgr/ExMTZTGu2puQ+F4vFXCYyfA52pVQq3W63VCpdt24dzHHDvLZCoeDeFrgjYY6VM0IQAZmYmJicnORSHxQKhVQqtVqt9fX1w8PDUqlUo9GsXr0aHLXA+2QYZnR0dGBgIDs7e+PGjbA6DeMxCIKOGoIsMEKhMC0tTa1Wu1yuoaGhrKwsmUzG08PLz89PT093OByNjY0Wi8XpdF66dAmS7LigQuDwBst6IHwikUiUSqXJZFrY8AMUrtPpKioqhoeHP/roo927d+fk5Oh0OovF0t7e/sMf/jB4byiY6evu7lar1ffffz+nIXfNtz7MF8MMY2AOabCTChW7Zs2aiooKu90+PDy8f/9+l8t1/vx5bg9WODI+Pv6+++576qmnLl++/PLLL6ekpJSWlt53330GgwHmrCNr02nO+rS1RNweEpATqlQqzWYzZKRyRsjF6qDFwaE0m82QTAru4K233qrX619//fX33ntPLBaDqPKWLVtgUdo0m4F9zO655564uDgIFqKjhiDoqCHIAgM6ok1NTVartbu7e+3atTxPZFnW4XAMDAzs3bs3Ly9Pq9Xm5+cLBILDhw8HK0dMW1bFjb6LMUkEzseKFSu8Xu8HH3zQ3NysVquLi4tdLpfBYOBUG6Z5aSRJ6nQ6rVar0+mW83A728wdhKDMZrPL5frrX//Ksmxubm5hYSFFUcePHw9cha1SqTZt2vRv//ZvLS0tTU1Nbre7qamJYZgdO3asWbOmpKRknnmRc7YOJws3p3VxKjPcS0tZWRks1vz0008nJiY6Ozs9Hs/58+f/5V/+paysDBQEOSEYpVKZmJgYGxsL7zbopSEIOmoIMofnFMnvRyTKysrS6/WgdOB2u0FfasbyIf0NNMwYhjGZTOfPn3///fcfeOCBpKSklStX2my2aJBlFwgEML8plUp7enq0Wq1cLvd6vampqRAtm9ELSUxMnFGpf/Eqf0GedMmuBeoVo6OjH330UVpa2oYNG0pKSoxG47Q4GUEQBoNh586d8fHxXq+3t7e3q6vrs88+U6vVKpVqxYoVPOfWl7iqoSZjY2MLCwsTEhJMJlN/f//p06cvXbrU1dUF2QaBUs8Mw8TGxsK6zMjir3xcSQRBRw1ZGP8ABW/5l7xII2vEypkSiaSmpqalpcVoNO7bt6+2tlYikSQmJgb6ahBz8vl8k5OTJ06cSE1N3bhxI8uyx44de/7552HN9fr167kjOa8uWDwi8I9AdYnQzzXbkbNl7MMeAyKRaNeuXfX19e3t7b29vUVFRbt37w72I+FEkUi0bt264GAPf2O4IoK34V53WltwJQSu1ePaMbDaIcnx7bffPnTokN1uLy0tXbduHYi5cJOeoMdmsVjeeeedO+644zvf+c63vvWtS5cu1dXV/frXv4Y9ym688UbQ4ODvgQWaEB9dhhmrKMQBXPiNoqiDBw9KJJJdu3Y9+eSTbrf78OHDb7311pdffvnSSy+tWbMmKyuLK1AkEhUVFYHl8DSPOY0Be+DF7icRdNSWKfw10LHkxet95lxiH+JEiUSybdu22NjYZ5999oUXXlizZs3OnTtBgEooFIJefH9/f319vdlsrqmpgcxQEJGamJhwuVx9fX16vX58fPzrr792uVwsy1oslu7ubo1GA0kGnPfGXReEtWCYB7n52UZo1xQQw5jmmZFTwBA7TRReIBCIxeKbbrrpwoULfX19IyMjeXl5KSkpM867DQ8Pf/rppyaTqaio6Oabb46gyWaMqSy2McwmKBC6ZG5rAZIkbTYbVOC0A0iStFgsDocD5NZomoYcT4fDYTKZ7Hb7+Ph4Z2en2WxubW0FiVqKonp6eiiKGhkZOXDgwPXXX69WqxUKRUFBgdfrVU8x2zad4BdyDT1NgBd2F4D1/vAH5xfCvU0ryufzwQPCzhmgAAcbDEx7VYAtCjjVX5jGBTll2F1006ZNjVNotVpu33qowD179litVpVK9YMf/GA21zN0owTLc2A/udj9JIKOGoJclU42QRBpaWl2u10qlXZ2dioUioqKisLCQli1A7mcZrO5u7vbarXu2rWLE5eHsdDv909OTloslpGREavVCgOh1+sFuXaQOQWXC7b34UZQcK3gj9kUyyCSB9vAw1nMFJy3B4VzXwU6LiKRKCMjQ6FQwFZUkPQ34xosp9PZ0dExNDQULL17jQGtAK4zTGRzeytxbQot4vV6odphVy5wU6DySZJ0Op1ms3l0dNRqtcLpDMNMTk7GxcXBykWHw+Hz+SQSiVwu1+v1UqlUMcVsCliwFxm3bRfX0Nw+TuBQwm1Dtgr3B/zN3SHntcOtCoVCzmamGSHnvdF/Z3x8XCwWu91uSFXW6/VqtVomkymVysBYLEVRXV1dIyMjOp2OJEk+jhqCLGeEv/zlL7EWlnhoX4z3oWklz6eQ0B9GFvngcz/BeqfzL3majO1sx7Ms29zc3N/fD+r8tbW1obd0nPaJVCrV6/Xr1q0DAdhz5869++6777333ieffPLpp582NDT4/f5169Z94xvfyM/P12q1MGhRFAV7ZVqtVm5/gsTExN7eXr/fPz4+bjKZLl68ePToUZfLBSrzcXFxg4ODx6Y4deoUwzBarZZhmKysrMDFYTA8m83m/v7+d999t6mpqbGx0efzgYiaXC53uVxut/uLKb7++muv1ysSiTQaDexYwKVtwu2p1eqtW7eWlpbm5+dzkmyBFzIajY2NjVarNS0tbePGjXyWqwfX/9DQUFNTU0xMDMyRhbtkPgIz6+vre/fdd7dv356ampqUlDSnyAUkKp47d+6vf/3rsWPHIBKmUCiGhoZAokUkEg0PDx8/fvzQoUMnT54E71YikUDz6fV6kiQzMzP7+/sh8XPFihWwIUFfXx/DMB6PB8TS3njjjUuXLrW1tY2NjTU1NZ05c8bv9996663f+ta30tPTudAUd1cQf3333XdPTQE7IsAun+B5nzx58osvvmhsbHS73SzLGgyGlpaWI0eOnDlzBoRgYFG/xWL54osvPv744+HhYZqmwU46Ozvr6uouXLgA7wMJCQnx8fGDg4OHDx8+cOCAx+NhWRaMMDk5+S9/+UtrayusBGhvbz958mRfX59Wq33ggQdKSko4h8zr9R46dGhyclIqlW7bti04UZpPb+bz+Xp7e0+fPm21Wu+77z7O/sPqXRewn+QTAoySfnJOU1/Y3hXBiBqCXHlgt+mKigqapkdGRsbGxoxGI8uysAWTQqGAFD+DwQAxJ8jZzMrK2r59OwjYymSy/Px8hUIRHx8Pe+wkJCSkpKQkJCTcfvvtkCKXkJAglUqVSmV8fPyaNWvA2ysvL4+Pj5/RrRGLxUqlMj09Xa/Xf+9734uJicnMzExMTFQoFOBVJCQklJeX33XXXQzDwLVgh2yuBBDg1ev1sHHnbM6TTqdbv3691WrNz8+/thtaIpFotdrMzMw77rgDJNBWrFiRkJAADQ3pF3q9vrCw8M4774SAVkFBAXdAaWmpwWCA6Be3nRdMKPt8vrS0tKSkJJVKdccdd8BerrB/QGxsbEJCwrp163Jzc2ec4xaJRCqVKiMjIz4+/q677mJZNj09HRoaBO10Ol1xcfF3v/tdiqK0Wm18fLzf76+qqlIoFAzDyGQyyOeFHQt27dplMpliYmKys7NTUlIUCkVNTY3BYGBZVqFQJCQkgDRMWlraP/zDP0Dsrby8PC4uTiaTbd++vbCwMDY2Ni0tTaFQwLZRDMOUl5dzm6dBNa5bt85ms4HuGnYgCDKHd46JM0sGbiHF8+pLv4UUTdN/+MMfjh07xrJsXl7eE088wWcLqWlXCdw7aNoxIGQVKGfFTTlxalWcLDtMM3FHcjNrIHYVeCFOTYPTpg++HzgSrhJ4DzDdBncLaqUAp84A+//84he/YBjmiSeeAA39YDMLfGruZsIyMzi9oaHhhRdeiImJueeee6677roZPZKFMjNooCNHjtx8883PPPMM7HfEZwspeMzA6WOuxuAP5u9wOQSBTc81OvcVFBJYe4GVGbjxJVdI8I5AgU3AtWZgW3O3HbiNQeCaRa7VAo/kxNWmHclNfcK/cEvQXtyjcffJ1VKg8XNVNGMyAZ/ejGVZu91eV1f30ksv9fT0tLe3QxgYt5Cas2TcQgojagiyfOEkQ0N0bdOODy1MAB0fz7S42e4nRMlQ+LTb4wZRiqLefffdvLy8tLQ0lUo1W2mcmzLjMy6fJuakbjld4uBxC/7L7XMf2Qg6510Fj5189C8C3Uo+3gbnegYeM1vNBNdDNMjQIAg6agiCXE2wLDswMDA5OXno0CGbzeb3+3t6em6//fby8nJ8UUYQBEFH7doZ7eb8ls8xkV03Yj2wEGeFEN9aqEcOLod/RfE/JsTx04Smgo8M/dRX9hnnXzMAbFc6Ojr68ccfj46OsiybnZ1tMBjS09ODdcL4GwyfA6bJxS3SIwe3deAccTQYMB+dM/7GOafZR3A/8zf7CDqNOQ2G/5PO2ZvNv5OP/n4yMjPj37viex06atHOgiyriqDjwDVqoY8Jffw0HbU556TCvdvFe8b51wz3IUEQ8fHxIPoF2yf87Gc/Kyoq4nYj4Ll4KII1asHTcwv+yMFXnzYzyGeN2qI2bmSLh2arz3AXD/EveT41E0GnMedvdraf7Zx3gmvUFqpkXKOGjhqCIEv0jqHX6xUKxa9+9Suv1ysUCktKStRqNXa+CIIg6KghCHLlHTXZFNXV1VgbCIIg6KghCBJ1vhpWAoIgSFRBYBUgCIIgCIKgo4YgCIIgCIKEAU59LjAozxHBIweXg/Ic4ZY8n5pZWDMLV54jcBOFiH8FKM8RgdlHcD8oz4HyHHOaGa6gQEct2kF5jnAfObicKyLPEfjH8pTnWBAzi0Ceg6t5lOdAeQ6U54hOM5tP74rMH5z6RJAYfAvEykcQBEFHDUEQBEEQBEFHDUEQBEEQBB01BEEQBEEQBB01BEEQBEEQdNQQBEEQBEGQKADlORYY1FGL4JGDy0EdtXBLnk/NLKyZhaujFiyLhTpqYZWMOmqoo7YEZsa/d8UkbnTUoh3UUQv3kYPLuSI6apwUE+qozcfMItBRCxQz4/M7WigzQx21cO8HddRQR22eZoZEBk59IgiCIAiCoKOGIAiCIAiCoKOGIAiCIAiCjhqCIAiCIAiCjhqCLCaR5X8hV3Xl49rnq9pm8DeLoKOGXPkhaj6d0TVZ8mL3+FHe9V/DxhCBnME8tRU4QYEFkWy4ltz9RTKGRTVg7IHxnfMaBuU5kOUOl+fPMIzP53O5XOPj49EpzxGZzsJswgSBCgh8wksz6ibMeaFpJc9YmQzDWK1Wr9crk8mWoLkDfTWHw2GxWMbHx2es5MjkLa52eY7ZzpqzZuZUbImgZma7kMPhsNlsfr8fezAEHTUEWS6QJDk6OkqS5IEDB6JQUCrcd+4rWHK4p7Mse/ny5dHR0aysrKV00BmGaW1ttdlsXV1d89RRC/esBfTCl7jksJp78eTKPB5Pe3u7yWTCKWwEHTVk0UeLiL/FkhcQlUqlUCi6urp6pgiMuwT+HfxJYASCfyyHz1nBx/C/yrQjZ/wv92FgXI1/yTwvNK3k2R7B4/FMTk6uXr1aLpcvjTGIxWKtVltXVyeRSKRS6YI0bvC/82/c0Pczm3HyvxP+Z81ZMzNeaJ5mP9spDMO43W6KotLT07EHXrJ+EkFHDUGuGAqFQqVScXG1hS2cZVmKomiapihKJBKJxWKhULjgl2BZ1uv1EgSxGOUvNjAYa7VaiUSyNCONRCKJjY0dHBx0Op3XmDFTFEWSpEAgWCRLoKZgGEY0xWz7OiwBsbGxWq0WXRPkGg/o4MLDJR6KcAupOa++9FtIsSxrNpttNpvZbGYYZmH30gEvbf/+/WfOnGlpaamoqLj77ruzsrKkUumC1B64aJNT/OhHP6qsrLzjjjvy8vICo0QRt0u4Zhbx1CcM9omJiXFxcSqValG3kIJ/7XZ7b2+v1+tdwJLnY8ALtUaNpumGhoY9e/asWLFiw4YN69evX8AtpODfpqamDz74oL29/dZbb92yZUtiYiIXB+XT4guyhdR/RRpEIrlcXlhYSBBEuPPyuIXUQpWMW0hhRA1BFv99RSCImyInJ2fBu2+n03nx4kWfzycQCHbs2LFy5cqampqUlBSJRLJQAwPDMOYpJBKJXq8vKiqqqKiYc2H+su1Y4anVanVZWdkSvDgtcckURZlMJrlcnpKSUlRUVFVVtYD3DP/K5XKPx2M2m30+39jYWEVFRUZGxmwvBktgZugfIOioIchyGby5v8ONqM04WkA+o9ls/vDDD0+ePElR1K9//eu4uLiMjAyCIPiP5XxiVNwkFMuyNE2HPotnyUscUZvmECxZi8+54ieCIAqf6o0g1BFccvBZAoGApmm/3y+RSDiT4NPQc5bM3XNJSYler//yyy9Pnz599OjRtLQ0vV4vkUggrDWnI7WAETUEQUcNiYnglXfObxdDBWdayfOUmArxYQR6VzzvJ/AY/hXF/5hw7yT4fsK9W4ZhTpw4UVdX94c//OGWW26pra1dv369QCDgpmkWqvZYloWlb5DJSJLknCpN/GsjXDOLTExrnmJmkZlZtBnwbMeHLjm46iiK8ng8crlcIpEshtkLhUKDwfDKK6+8+OKLH3744fPPP3/69OlHHnlEoVDM5mvOp87DMoawetcF7CeveTPj37uiY42O2tUUmAn9psg/3rAgoQ6ehcwZ6rgm16iFLjkyQSmfz9fW1nbw4MGWlpaampra2tqqqiqRSBScYTfP2oMDhEIhFA4pC4shz7GUEbVFXaMWnQa8UGvUIKLm8/kkEgn47oth9iKRKCkpaefOnVlZWX/7299Onz799ttv79q1Kzk5ec4aXryIGq5RWyQzW6jeFUFHDUGiIqTKsqzH47FarcePH29ra/P5fFu3bi0vL09NTV28jowgCMjvg/lWbIjlDMMwMPW5SMm/YMYKhaK8vDwrK+vChQvt7e2ff/55bm6uWCyOj4/HARtBFrJ7xypAkIWFoqienp5z584999xzBEHs2rXrH//xH7Ozsxdv9OIiaoFTn9gQy/ZVgaIon88nlUrFYvEiDh4EER8fn5OT873vfW/btm1Hjhx57733jh07BkskEQRBRw1BonGMpGna7XZ3dnZ2dXVJpdKkpKS0tLQQ66wXxEsL3AgLN6tezubHwTCMUChcgnRLgiBiY2OTkpJSUlIsFsvg4KDJZCJJEpsDQRYKnPpEkIXE4/H09fX9v//3/2w2W2Fh4S233LJt2zYQcV08/wkiakKhkCAICKhgQyxbaJqGkKpMJuMpATNP2yssLJTL5Q6H49VXX+3t7U1KStqxY4der8e2QBB01KL0pXbOV96IT+dfcgTl8EkFCjdtKqzUwmlJXguYP8tVzqKmfLIsa7fbP//882effTYmJiY/P/+VV16Ji4uDNf7BTb8YiZkw1UWSJMMwIU6MLOWTj5lFlvI5z3S8yMws2gx4zvaareRp37rdbhDtk8vlIpGIZ4Q1dMmz/Zf7JC0t7e6776Yoqr6+/sEHH4yJiSkuLi4sLARV53n2k1GV9blszSx0yYFNhisU0VGLduYvXjWfRKR5Kg9Flo7H53EWSYYqLKkq/sphwUfyeWq/33/s2LGmpiav17tjx46UlBSdTieVSkEybdpZYRkDn3vmcj8h6W/OpolYR21OM5uzzAXP+ozYzEz/pu4AAHV3SURBVKLNgOevo8ayLEmSEFLldNQiM/vQdTXNGIRCoVwur6qq8vv9/f39J0+e7O3tjYuLS0xMDN4TLCz5wGjL+lyeZha65Mh0GRF01KI3onaN6ajxj2ktxptiuEo/EdzGnKEj+IMkyfHx8ffee+/y5cvx8fHf/e53ExMTFQpFCMk0no8ZVlNClh/Ic8z59hxxOCHadNQiM7MoNOA5w41zRtRAFwaWiIGjxl+KL4KIWuCHIpGourpaqVT29PQcO3ZMKBRWVlaWl5cnJSUFJ58uNx21a8DM+ByMOmroqF0jEbVrTEcteoTdQ1dLWO984eqowVahzz77bHNz88qVK3/4wx/m5OTIZLLg1dwRKBXx7/hgE26BQEBRVOh9sqN/Z4IIImqRCVxdYzsTgKPm9/sFAoFCoeCvoxZZRC3wGDC/oqKihx566Gc/+1lfX98zzzxz5513fvvb346NjeXfvtekjtrVbmahS0YdtcUGsz4RZL4x1K6urhMnTjQ1NVVWVm7ZsgXWVi9Bzt1sETWapjHxc9ni9/sDI2pL/JqqUChSU1N3T2G1Wuvr6z/66CO/348GiSDoqCHIFXPUuru7Gxsbu7q6qqurN27cmJCQcEW8NJC2QkdtmUNRFE3TEN9aJMHbEI4aQRAKhWL79u27d+8WCoXnzp375JNPuLl4BEHQUUOQJXXRfD5fU1PTp59+2tTUdPvtt69bty4zM3PxJNPmBCIoKM+xnOHWqEml0iWOqHG+ml6vz8zM/MEPfpCent7W1rZv377x8XFsGgRBRw1BltRLczqdJpOpvr6+o6MD9onKy8ubthxnicfIaVmfyDI0S8j6FAgESz/1ydmhQqHQ6/U33HBDYWEhQRBHjhy5fPmyzWbDuBqCRPIGjlWAIBFAkmRra+vw8PDLL79cWlq6ffv2nTt3ymSyK7uclouo4Yi4bIFkgpiYGJlMdkUcNfDVRCJRbm7uzTffnJGR8eijjyYkJDidzm3btl3BeDOCoKOGIMsCiKUNDw+/9NJLo6OjeXl5u3fvvu666664lwbJBJD1iY7acnbUKIqCvV+voFcEvlp+fr5Go/nmN7/Z1NRkMpl0Ol1iYmJmZiamByIIf/DlBkHCgGEYn883MjLS1NR06dKlsbGxtWvXVlRUZGdnBwrbXkFHDZIJsKWW7VsESZI0TYOXdmUNUiAQqNXq9PT0zZs3EwTR29t77NixCxcuOJ1OfJFAEP5gRA1BwhgFaZqemJg4efLk008/nZaWlpSUdO+99yYlJUXDhA6nowaOGsoaLU98Ph/DMHK5PEpsUiKR3HHHHUaj8fjx488991xtbW1aWtrKlSu5XRMQBEFHDUEWxkujKGpycvI//uM/WltbVSrVo48+mpWVlZiYGD1DDqxJgj25scmWJx6Ph6ZpuVweJTYJvtr3v//9goKC5557rqen56GHHnr99df1er1cLsf2QpA5walPBOELzHtarVa32y2RSOKmiKrAAIYokP/q2aNgIh4MEpKR1Wq1TqdTKBQ0TVutVq/Xi2p/CIKOGoIsGDDp2dzc/OCDD7a0tBQUFPzud7/Lzc1VKpVR5RvB1CcKwS9nQ422iBoglUpXr1790ksv3XXXXV6v9//8n//z2Wef+Xw+NFQEmROc+kQQXhw+fPjkyZMXL16sra3dsGFDTk6OVCqFZUCwz1003KRQKGQYBmMVyxlw06VSabQFehUKRUpKyrp16ywWyzvvvPPFF1/ExMTs2rULJ0ARJDQYUUOQUDAMY7PZxsbGDh061NzcLJfLa2trN23apNVqr9Q+USGGQ8z6REiSZBhGIpFE1V2Bccpksry8vBtvvFGr1XZ1dX3++edDQ0MulwtbDUHQUUOQSIAEguPHj+/Zs+ejjz7yer3/9//+35qamvT09Gjz0gCY+kQdteUMl/UZbfYJu0tpNJrCwsLHHnssISGhrq7ujTfe6OjoYBgGLRZBZgOnPhFkVi/N5XIdP3587969zc3N119//fr166urq7VabdSu2YeIGmz1iCxPo4V1+tEgvzybuyaVSquqqlwuV0JCwnvvvUcQhNlsXrVqlV6vx2wYBEFHDUH44na7h4eHjx8/bjQaBQJBZWVlRUWFTqeL2j1wAvf6xPjEsgXiqRKJJGodNaFQGBsbW1xc7HA46uvr29vbGYaJj4+XSCQqlQpbEEHQUUMQXkxMTDQ3N//pT3+qqqrauXPnN77xjaysLFA9iFo3CHTUcI3acsbv9zMME1XJBMEQBLFixQq1Wt3e3n7o0KFjx46lpaXJZLIVK1ZgUA1B0FFDkDlgWdZut1+4cKGxsTEpKam8vLysrEyr1UaJNlXo8Q8SILARl63pQkQNVitG7X3CejW1Wl1VVdXf3+/1es+ePSuTyRITE7Va7ZXaSx5B0FFDkKtjqKNpuru7+8iRI1988cWmTZt27ty5du3aKB/5/uv3PKW+i8kEyxmIqMlksui/VY1Gs2vXLrPZLBKJvvrqq9HR0cLCwuLiYrVaje2IIP/9Bo5VgCCciwZ7Wk9MTDz55JMNDQ2FhYU//elPy8rKrgovjZv6REdtOeP1eqMz63MasGmBRCL51re+9dBDD5WWlo6Ojv7yl7/s6OjweDzYjgjy3x07VsGCD/ZzfsvnmMiuy507n0JCfxh8zPwfObgc/hXF/5g5j2cYhqIoo9G4f//+/v7+3NzcrVu3pqamcgl0wXcYDc8YeCQkE1AUNWfT8C85XDObs8zIzCysGwvr6tFjwLMdH7rkwOaANw3QUQs0Wv73H/p+5m/20z4RCAR6vV6hUGzbtk2lUtXX19fV1VEUVVVVxWXthGUMYfWuC9hPXvNmxr93xVWG6KhFOyFslGVZWIc+5zERdByBJc+nkNAfBh/D53H43E/gMfwriv8xcx4Pi3vsdntfX9+ePXsYhlm9evVNN90kk8mCl6aFe7eL94zTbA8iatwatRAPG1bJ/M1szjIjM7Owbiysq0ePAc92fOiSg8+a5qiFdf+hS56/2c/4iVgsFgqFO3bsAEft8OHDYrG4tLQU9mcLyxjC6l0XsJ+85s1snr0rgo7aVR9+CzGa8vH/llXJi9QRgJc2PDz8xBNPWCyW8fHx559/PgrFOGarBAilcGvUSJIMfjlGM1tsM4uScALs9TkfHbX5xJnmdNNnfMEgCCI+Pr66uvo//uM/Hn/88YMHD7pcrocffhgixBGXjAaMoKOGLGL4bZ4/Niw53L7v7NmzjVOoVKrvfve75eXliYmJ4PdEz3qv2SqB+xwEb6etUUNjiIaSlwzYmWA+8hzBE/0L9fizlQzianq9vqKi4sYbb2xubv7oo482bdokkUg2bNgAVr3094z9JBIlYDIBstyBNM/Ozs7m5ubh4WGapnfu3JmUlBT9y7GDgSFtseU5WJZl/g7aT7QZ81UhzzGjhyGTyZKSktavX28wGNra2lpbWy9cuBCFmTFo/8gSgxE1ZLkPbF6v9/jx459//nlnZ+f3v//9tLS0goKCaNvTmudQx0XUFq+6PB6Pw+Ho6+uzWCwCgWD79u1Ru1XD8sTv94vFYqlUelVGDgiipKTEOsXevXvlcnlZWVlxcXFsbGz0dBdut7u7u9tiscjl8i1btmAQC0FHDUFiFtXtMBqN9fX1PT09NptNr9dLJJKBgYGxsTGCIFiW9fl8sEgW5pJYlgWdKpFIlJ2drVAoomp3dk7wlmEYu93udDrNZjNN0xRFCQQCGL85vwoOI0mSpmmVSgXS8LN5XbAMzuv1TkxMDAwMnD592mw2K5XKrVu3oqMWDZbMtRFFUaIpXC6X0Wg0m82wCEwsFhMEwTCM1+uFvBMu9QRMWqvVpqenB1rIFTHgpKSkkpKSiYmJ+vp6gUDQ3Nys0+nkcjl/1xNqw26322w2q9XKxeTEYnHg0j3YCd7v91MUpdVqA/O7Z7N/n89nNptHR0fr6+vNZnNycvLmzZvRUUPQUUOQxRrbGIbp7u5ubGx87bXXioqKSktLn3rqKZFIpNfrDQaDTCYjSfL8+fMwpVhYWCiTybxe78jIiNPpFAgE+/fvz8/Pj4uLi56HggkvSCaAnRVeffVV8K4IgkhLSysqKoIBD3QcXC7X8PDwxMTEmjVrfvvb36alpYUYDhmGGRwcbGpqOnbs2Pvvv69Wq4uLix988EG0peiBpmm/3y+TycRi8fnz59977729e/cqFAqNRpOYmCiVSj0eT2trq0QiMRgMqampNE17PJ6BgQGXy1VTU/Pyyy8nJSVd2WlTgiAKCwszMjLa2tr8fv/TTz8NaaF5eXlheZBNTU1Hjx7dt2+f2Wz2+XwEQWRkZBQWFkokEvDbfD4fRVHwVrZ+/frnn38+MzMzxIMzDDM6OtrS0nLixIk333xTq9XW1NTce++9aHUIOmpX5avtnC++EZfAs+Ql01Hj+Sxh6QOFVUthKf0EnkWSZHt7+1/+8pcPP/xwy5YtlZWVMplsdHQ0NTX1oYceUiqVQqGwr6/vW9/6lkqlUiqVjz766IoVKxiGsVqtJ06ceP3110mSBHFRiL2FW708H5NnU3JZnyDQEBMTU1ZWlpOTU1lZOTIyctdddyUkJGzZsuXBBx8Ui8UQI4SImtPpfPnll2UyGQQeQlyOIIjMzEydTpecnLx//34IxQWfsvQ6apGZWRQa8JwCVzOWzH3IMIzb7WZZVigUwktFbGxsaWnpP/3TP1VXV6tUKoFA0NnZuWvXLp1Ot2vXrnvuuUcoFFIUZTabH3/8cY1G4/V6aZoGC+H521+Q5p6GQCCQy+U/+9nPPB5Pb2/v3r17L1269PDDD8fHx8+ZWMCVvGHDhoKCgpqamscee+zrr79OTk6ura29//77uRIgoubxeF588UV4K5vT/lNTU7VabXFx8d69e2ez/2vVzPgcjDmn6KhdHSw3HTU+WUgRKA9xElDzKXk2jR+WZR0Oh81mO3DgQHt7u1qt/sY3vqHRaDwez8aNG1NSUoqLiyHf0+/3C6eQSCQpKSnZ2dkxMTFut9tms61atUokEoFLxOdup9VVWMbAvzVhEIJN2ZVKpUKhEIlEsCGPWCzW6XRpaWkQUeCyWX0+X3V1NUVRoLwV+lpSqTQ2NjYhISFwvAxLm2oxdNQiNrOoMmA+AlfBJU8zcpjEhIlOr9ebkpJSU1NTUVHBRZKcTicYg16vz8zMFIvFDMOkpKSsWrUqcHXjbE8dgY5acD3wMXuCIJKTk30+3ze/+c2PP/744sWLH3744S233KLRaEL4aoElq1QqWK6g0Whg3l+n06Wnp087naKo9evXc8pzIW4M9lHQarUMw3CFzHjKtWdmoUtGHTV01BBkgUOeJEn29fUNDQ29++678fHxGzdu3L1798DAwOjo6LZt2zQaDZdJMK3nAhQKRVZW1vXXX69QKKLtJQH8S3DU4G7j4uJsNhvEA7hHmCZnsGbNGpqmlUrlnFNLkK+Ae2ZHrW17vV4uokZRVH5+fklJSWZmpkQigQVqnElzxkAQhFKprKqq8vv9USJGAzcpEomEQuE//uM/9vX1NTY2vv7666tXr87Ozo6NjeXpHYI/Cj9nYopAvwqelGGYNWvWMAwD+rp87P+qy6hF0FFDkKsJkiTHx8effPLJzs5OlUp166233nnnnSqVSi6X5+XlwYLr0MOVQCDIzMxMTk4mCALibVH0e/771GfgFj0hBhWXy9Xf35+RkQGjFM/xD0epqHXUPB4PwzBisVir1ZaWlkokEnB35nTBa2trWZYlCCJ60kW5N40f/ehHxcXFv/jFLx5//PGbbrrpzjvv5B9mDn0YSZJdXV3p6ekwL7wgZSIIOmoIEvkwBlM/Q0NDDoeDoqjMzMy4uDiY8oDkTZ4pnOCigbKoz+eDNLqkpCSLxQKr1tRqNcuyk5OTsD02TLiQJGm3230+n91uj4mJ0ev1SUlJcFcMwzgcDljd7Pf7uZlK8RT8BwY+sp/cqhq/3+9wOMbHx5OSklQqFYxbFEVZrVYItFAUBSuWdDodlyQ4W5mQmmCz2WQyGXzicrmEQiE32URRlMPhgEvA+h6hUAgJfWKxGO1zQSwc1l3BJDjnovFZgw+L1Twej91up2na7Xar1WqNRjMxMQEGqVaraZq2WCwxMTFxcXEJCQmwC4LP57NarbBIIC0tTalUctqEdrud/DsgkxYbGxvakGb8rclkMp1Ol5KS4nQ6TSaT0WhUTRFxLcG/fr/f4/GMjIwkJSXBD8fn87lcLqfTyUWmYUlAbGxs6IRo7lyXywUBPOhqxGJxSkoKrPmD5a2QZw32TxBEQkKCVCrFEDWCjhqC/Bder/fMmTP/+Z//OTo6qlKpfv7zn2dnZ4NjEZZwGrh0nZ2dk5OTR48ebWlpoWn6pZdeeuaZZzo6OpxO57e//W2fz/fiiy9SFFVRUXHw4EGJRGIymQ4cOHDx4sW33347Jibm/vvv//nPfw5hLZIkDxw4MDAwMD4+fvny5ZiYGJ1O96//+q/Jyck5OTk8k91grgc2ZZ9xT2iKonw+Hz0FwzAjIyPnzp3bs2fPr371q7i4OJZlh4eHzWbzH//4R7FYHBcXNzIyMjExkZaWdtddd8XFxWVkZMy2uoVhmP7+/vr6+g8++GDt2rUwwn3++edJSUl79+5VqVQkSdpstoMHD5pMptHR0ZGREavVqlQq77zzztWrV2dmZkZVYPIqhWEYj8fDsqxIJFIoFDKZjL92jFAotNlskCk8NjZ24sSJm2666bbbbnvyyScvX75MUdRtt91ms9l++9vfxsTEfP/733/66ae9Xm9TU1NXV9frr7/e2dmpUCjee++96upqMGmXy7V///7BwUGr1drR0SGXy4uLi++44474+PjU1FT+zS0QCAwGw5YtWxQKxb/927+BP3TDDTds2LAheBPe0P4Z2D9BEGCfvb29Fovl+eef/9WvfqXX61mW7enp+fLLL0+cOJGcnKxUKo1G48TEREpKyj//8z8XFhbCWs8ZoWm6u7u7rq7u5MmTxcXFBEGQJPnJJ58YDIY///nPOp2OYRiXy7V3716/3z84ODg0NGS32+Vy+QMPPJCdnZ2eno5ROgQdNQRjaf+/M/HWW281NjYODQ3dddddOTk5WVlZ8F4e7tIcCBhAtsEXX3zR39+vVquPHDmydu1ag8HQ29t7ww03OJ3Ot956y2g0wmyURCLR6/U7d+5UKpUffvihxWIBhbaYmJiDBw8ODg6WlJTk5+crlUqXy3XixIkjR44888wz2dnZjz32WFxcHM937hCCtxMTEx988EFra6tQKITrer1eh8PhngIGmz/+8Y/t7e3Dw8O7d+++6aabnE7nv//7vx89etRoNG7cuPHee++dzWWkafqtt95qaGjo6+t76qmnIBrncDj8fr/P51MoFG1tbUeOHCkqKsrLy9NqtX6/32Qyvfjii3/6058uXLhw//33y6ZAW52nnYOxwRq1sCapOan9+vr6zs7OsbGx1tbWzMzMmpqahIQEq9VaW1s7Pj7+2muvmc1mmFuXy+UVFRV5eXmHDh3q7e31eDzwOU3TIIqxcuXKsrIyqVTqcDj27Nlz9uzZtra266+//l/+5V/UajX/eyMIIjY2ds2aNd/73vdaW1vffvtt0MdZu3Ytz/crlmXHxsbefffdM2fOwI8dnFq/3280GsH+SZL893//95GREbPZfN11123atAns/+TJk1ar9ZFHHikpKQnhqD377LM9PT0kST7wwANarZYkSavVCtJrNE339/f/7W9/gwyk2tpan8/X39//xz/+8emnn77uuuv+9V//FRRV0IYRdNSQ5Yvf7x8YGKivrx8aGsrJyamqqsrNzYUMsuA0Oj5v+QKBQKvVulwuq9Vqt9vFYrFIJMrPz09JSUlOTs7Ly7NYLCqVymq1chE4yELo7OxUKpWTk5MwWtjt9jNnzrS3twsEgvT0dL1eD1qdRqMRwk7j4+NKpZLnRA88DqgGzDYYBzqvEGaADxmGsU2hVqvT09MLCgo8Ho9UKjUajQ6Hw2Aw0DQ9m79I03RHR0d7e7vb7ZZKpSDZVVlZCZO8Doejq6vr+PHjMNeZmJhIEITD4TCbzcPDwwqFYmJiAmaX0FDn6aj5/X5IJoDsAf4vIZDSqFarYXrR7XZTFCWTyQoLC2NjY202W25urlQqVSqVnEmLxeL4KXQ6nUwmg3xSkiQnJyebmppGRkYgV1qtVlMUZbPZBgYGjEZjYmKiyWSCNWH8g2oSiSQ+Pr6mpsblcp07d66rq+urr77KysqKj4/nv6iOYRh4v+KMP3BjXLB/lmX1en1GRgZn/xMTEy0tLWDJIRy1c+fOjY2NxcbGisVig8Egl8tXrVrldruFQqHD4ejv7z9y5IhGo5FKpcnJyQKBwOFwWK3WgYGBhISEiYkJvV4fJbsvIOioLYu+cs7QTsSn8y85gnLmFNfh898Zzw1LCSwsFR+exzAMY7FY3njjjfr6+oKCgh//+MeVlZUajQZGshDqUIGKJ4E1DKNUTk6OUqlMSEgwmUyg0Z+QkCASiWCkdLvdsNJl2kjJrYSDdV1tbW0nTpy4cOHC8ePH4Xjo92FEmZyc7OjoiIuLg6U/cz4sOFLTFNHgKeLj47/zne88+uijoMjAsuz4+PiZM2deeuklEG4gCOK6664rKioSCoWgGBcTEwPO0/DwsMViYQOYthiOZVm32w3xuf3792/bti03N3fjxo0kSYpEos7OzjNnzhw+fPjIkSPcdBWMmizLTkxMXLp0KT09PT4+PjIDjszMos2AQxw/p44afALqtSDPwYWaZuwZApuSc/G1Wm1BQYHBYBgcHHQ6ndnZ2bW1tbGxsatXr4Y1i7BOi3N0Al8PuM/tdjuYdE9Pz9GjR2GFHLwhQDKy0Wjs6uqabRo9xD0LhcKamhqYVTx16tTrr7+en5+/evXq1NTUadouwVUHS0hvv/32hx9+mLufgYEBk8n08MMPwxoyoVC4e/duSH3NyMiAE0HgY3R0FNJpg+UYORwOh91u9/v9H3/88fbt20tLS2tqamialkgk/f39LS0tR44caWho4MKc3K6sRqPx0qVLubm5Wq02ms0sdMnTukf0BNBRi2rmL4s1Hwm0+eiozXjpBdFR4/NQkan48Cz50qVLX3311b59+3bu3FlVVVVeXq5SqUIscAmUMOA6+kBtC+4YboiCcQ6235l2Cjwad7eBf9M03dXVpVQq09PTf/zjH+fm5k67E7lcnpubq9freeZjgqvHhc24C4EfJhaLYeU+3GFqaqrX6925c2d8fDw8xaZNm3w+H2yr9fHHH9tstqGhIW5N22wPBQ7i//gf/0MqlX788cevvvrqV199lZKSsmXLlpKSErlc3tfX53K5cnNzH3zwQW7hNodWq83MzAzcAj8yHbUIzCzaDDhiHTXuW5/Px+0VFnjktJ4h2J7hQ/CrYAJdKpVqtdrA+bgZzZj7LxiVy+W6fPmyRqPJz89/+OGHYd+OwKvAYscQv74QvZlQKFy5cmVcXJxOp6urq/v973//z//8z1u3buWMKkR/Bc6rXC6HXyjLstnZ2Tqd7sYbb4QQr1gs3rFjh9frJUlyZGSkvb3dZrMNDw9DSs20biHwweF39/3vfx9csbfeeuv06dOg4FNYWCiXy0dHRy0WS1pa2rPPPhv8xqXX69PT0xUKBZ+p6itlZqFLjkDxEUFHDUH+C6fT6XA4WltbGxoaYmJiqqqqVq1apdfr57+bYaCzwnXWgT0Xn0Ig1Ad6CqunCLwxbv8A/nfLTX1CzGzGfpP7UCqVGgyGNWvWcK/yMpmMZdnOzk6TyeR0OgOjX6H1SoRCYWVlpcvlslgs58+fb25uvnjxIiQSyuVys9nsdrtlMtm6detycnKmzZ8GhuiQeYbzISAkEonmVJmZrSkDvSIu45h/OX6/n0t2rq6uhmXywRGviH+AOp1OrVavXbvWZDJ99tlnzc3NsbGx27ZtA2GdsHx68I2qqqq4OUe5XG4ymYaGhqxWq8/n4+5zzscXiUQbN26EiGZnZ+fZs2e7u7tFIpHH45FIJGazGTJJN2/erNVqpzmpYP+4YS6CjhqyTMet/v7+S5cu/e1vf2tsbLznnnu2b98eHNFZwGBqBCXDNs/j4+NOpxPW3Qe6cbA0m8sSmPv3PKXIELjyJvRwFRcXt3XrVm6+tbu7e3Bw8Iknnli/fv2uXbs2bdrU2Nh46dKlOZ+LIIjy8vLs7OytW7f+5Cc/OX/+/OXLl19++eW6urr77rtvcnISVt25XC6v1xuorMutYeepIoGENnifzycWi0FxZkFMmud1A43W6/WazWaapl0uF7fjRWBOz7RwbLj3IxaLr7/++oyMjPb29iNHjrS2tq5Zs0av1/NfjM/dj0Kh2L59O3xIUdS5c+fef//9gwcP3nnnnTt37iwrK2tsbIQ87tAvKgRBVFdXFxYWXn/99c8991xLS0t3d/eLL76Yn59/7733wuvi2NgYiHcEKuty9j8f5xW55kHLQK7NEYthmK6urr/85S+PPfaYyWS6+eab77333rA2UOe/zyaf4ZPbFpCiKJfLBf8lCALUN1wu14EDB44cOcLNWpIk2d/ff+7cuX379vX19fF98ZoKpXCKaNPWIYUeiSmKevnll5966imLxZKRkbFhwwahUMitJAv9gBRFHTx48PTp0zk5OX/4wx9+85vfPPnkk8XFxf39/a+88op+CpvN9te//nXfvn1er5cbpUZGRs6cOfPOO++cPHkS7XaewF6fEolkRpdlTmPg7+LA1u9cgV6v1+PxwAGQMRMTE2O1Wt95553W1lYwadAVu3z5ckNDw9/+9rcZE5PD8tUyMzOffPLJNWvWDA0N/fSnP+3o6JhWZljrCyEW+Pjjj3/55ZcMw+Tn55eXl4P9B+bfzGb/JEm+8cYbnZ2d5eXlv/3tb1944YXHH3+8oKBgcHDw1VdfJUkyKSnJ4/G8+eabb7zxBiSZQtX19/c3Nja+/fbbLS0t0bAnBIIRNQRZUkfNbrdPTk5aLJbk5OT4+HiY8Qz3PT7iffThPRvmLv1+P0mSoHkLS164QU4ul0P+gc1ms1qtXq8XZgb9fr/T6QT5TQiq8XrxCprw4sbm2R4hcLWT1Wo1mUwURUHaILc0javSaXOggUuJJycnYQRNTk5OSUnxer1yuRxUT8F1gHlek8nk8XjgGUFcyu12g5Ic2u2CWD6f2CT/9IjgRWwwt869CTAMA4nD8DcI28KCfbPZDArPIpEI5DAg3cTlcs3fWRSLxUlJSZASNDY25nQ6wW6Dp1lDb3keGO2DOUoQohOJRLBxKmf8IFE74ysc2DakPCclJaWkpFgsFs7+hUKhVCplWdZkMoHKLswpMwzjdDpBHydizxVBRw2JpKNcjFE/XH9iPoWE/nBGJdV5PnJwOfNJ/IRX/LGxsUcffdTpdJaXl9922227d+/mv9oG+mWfzwfvvn6/H5YYQ08duGwLNhKAThyEyMEFgb4+JyfHZDKZzebXX3998+bNer3+zJkz58+fh5AS6M1WV1cXFBQ4nc5PP/304sWLbW1t5eXlbrd7YmKis7MzLi7uf/7P/5mSkjLnbXOZcYERNUg+hXERdlAI9L2C69zlctntdrfb3dXV1dLS0tfX19/fD+vTrVbrhQsXUlJSZDKZ2+2GKALszQBD9eeff56QkFBdXa3X60tKSrKzsw8ePNjf35+amgqbvh8+fPjAgQMqlWp4eLiwsDAuLm5oaOjy5cupqan/9E//pFQq55O2HJmZRZsB88m8nu0sMFqIqHHi+NO+9Xg8nDFAlJfb/pLLG/X5fLAVAbwqwDw1fCsWi/Py8sbGxi5evPjnP/95586dfX19Y2NjAwMDoKDW1tam1WrXr1+fn59P0/T777/f09NTWVm5evXqsbExo9HY19dXWVl56623cmVG3JuJRKLExMS7/j/23ju4revaFyZw0DvRWcBOihQ7KUqymi1ZxYqt4ibHyYs9sZM3iR2/l8nLe5mb+N7x5PpOEpdkxo7jNDu2Y8e9xpasbjVKpCixiQ0kRRIgCRCFJDpwABx8M1xfzuCi8QAEaZb9+4MDAufss8/ea6+99tpr/fbDD9fV1f385z9/+eWX9+zZ88ADD5ChojA8YZ0DDHPwytHHfZKf7XY7RKf19/cD4aJOpwNn4fDwsEwmk0qlPB4PXhbkHxZRwWDw3XffdbvdNTU1EomktLRUpVJ9/PHHBoMhOzt7w4YNLpcrPz//zTffZDKZs7Oz69evF4lEBoOht7e3srISDptf5mKWuOTwvyjeNO3AnnrqKdQKaQQtPsLjWBNfkywiSl5IIYm/jL5m4a8cLyMytZJhEhobG/v73/9+/fr1+vr6AwcONDU1kdz3VGoCWxI9PT2XL18+ffo0GD0ajQZMFohB9vl8bW1tPT09n332mc1mYzKZhYWFPB6P5BqF8DLHHIxGIziTNBqN0+kcHR3NysoqKyvTaDSlpaU0Gq24uNhms7lcrsnJyYmJCZPJRBBETU1NRUVFVVUVj8cLP1I9QbWNRmN3d3d/fz/MWBaL5dy5c93d3SdPngyFQnAoEFnJiNYIBoOjo6N8Pt9oNNLpdKfTqdFo4PAfOLSHxWLl5OSMjo62tbWdOXMGPCV1dXUOh4PD4bzxxhs3b9602WwEQQwPD9+8eXNoaEgqlR4+fHjz5s1cLlcgEFitVqAFgSnQ7/eXlpbW1NSUl5fzeDySzSRZAU5NzJabAMe7PnHJ4d+4XK4rV67o9frCwsKdO3eSPGpAbjw6Otre3t7S0nLmzBlItmUymcAcJhaLA4GA2Wy+cuXK0aNHx8fHcRxXKBRwBi5YfuABCgaDExMTbrfbYDCAr0gmk2m1WoIgNBpNZWWlSqXKzc1lMBiFhYUWi8Vut0/OweVy8Xi8urq6ysrKkpISKHCB2oxOp3O5XJFINDMzMzg4aLfbMzMz/X4/RDhYLJbR0dELFy6cOXPGbDbDwW58Ph8O14qQf5ILEMfxmZkZDofj9/uzsrJgtWMymcRisc1my8zMNJlM7e3tX3zxhc/n4/P569ats9vtbDb7t7/9rcPhsNlsHo9nbGxseHh4aGhIJpMdPHhw8+bNUqlUIBDo9XoOh2MymSYmJsbHx/1+f11dXXV1dWlpKXmMxPIUs8QlR3cZAjLUVrBHbW16EBfoHUyqZIIgjEZjR0fHH/7wB5VKtX///sOHD6vVatLRRfHpQ0NDAwMDPT09ZrOZz+dzudzMzEw6nZ6ZmQnnBPh8vubmZp1ONzAwAGcRSiSSnJwcgUAAR83AHAbbl8DDRKfT77jjjlAoND09vW7dupKSEpVKVVBQkJOTU1FRMTs76/f7LRaLzWbjcrkFBQWHDx+Gg2uoRBmDy2Rqaqqrq6uvr+/+++/HMMxqtV68eNFgMMBbCIVCDocDBzLyeLyI1gBbTaVSGQwGyF/bs2ePTCaDVDihUMhgMKqrq3U6XX9/v9Fo5HK5QqGwuLg4FAoplcozZ84YjUaz2SyTyfR6vcFgoNPp69evv//+++VyuUQiyc/Ph2OjzGYz7PgUFhbu27evpqYGps+vZdAtNwFOuWQIAmtubjaZTAUFBdu3bw/3G3m93ps3b3Z1dQ0NDU1PT/P5fJFIBBcIhcKsrCy/3280GltaWgYGBoLBoFgslkqlbDY7JydHKBQCeQqGYUql0mAwuFwuk8nk9/vLysqqq6uNRqNAIKioqCgsLFQoFNnZ2Xl5eSUlJZDtOzs763A4VCrV+vXrDxw4kJeXB0udtOgfNpsNI+78+fNTU1PwZWFhIZPJBAfe1atXDQYDg8GAV2axWEqlEo4Kja4DhCW43W7g8ti6dSsYWBaLhcVi4TheWlpqsVh6e3vB5JJIJLm5uQRBKJXKjz76yOv1QtsajUaDwYBhWEVFxb333puVlSUWi0tKSsbHx5VK5dTUFHnW8H333VdaWgprpxUhZlRKRrZa+h1AKIBxKW2acMqZBNcssOSFFJL4y+hrqLwOlfqEX0O9oSLugoyzp59++quvvjIaje+//35JSQk5ISVVk/DQrggitAhVBXE5ZIJ9uH8rOpyF3PGJZh6KyRhJnZ0INnq6u7tfe+21d99998MPP6yqqoreTwlf+Ea3BhmRE/NNY57fEH1ZRJnhO2sRrRHNS5faKEhNzJahAM9LcBXvLmhVo9H4m9/8ZmhoaNu2bf/3//5fOCssvPFj9h3ZQdGhVxFin1ikY0pIxPChItIpaLNgMPjOO+8cPXr0448/3rp16//6X//rrrvuimlwJJD/iGjOeKIe3qTx5D/8FRLEzEW08HIWs8QlUx8mCKkBxaghrB47WK/Xv/baa2fOnGGxWL///e/h6MzUFzFxFGg4C254/H60gRKhqcPvig6Yi941SIEEi2STgoi6ZDcj4k2i0VZUPIa2BORtiBVzCYaA2+0Geo4EPZiY53ne3okn0hSHz6L4G2i0/fv3S6VSgiAsFssvfvGLoqKinJwcIAik+PSYa4Z4wyExQ2HicYTkHwEZaghrcX7y+/1arXZoaOjq1atSqXTdunXV1dXkhkIKzJ/zzm1UWLwTfEP9mIqkag4ZfxAel8CimjcDNPFqPrGrg8p5DxTrg5DsQAgEApCxmGznznvmQWoCHPPRae9uOp0Oe4u7du3q7OwcGRk5ceLEzp07161bBwGjiZ1J1JuI4mUpOG6R9CIgQw1h9TsSvvzyy8HBwZaWlieeeGLPnj25ubnR52yu/vH8Lx61ecnPEFblQADCW+rUr6sGdDo9Pz//wQcfVKlUfX19L7zwglAoVM0BebAQVrx4oyZAWOmTk8ViGRgYuHbt2sTERGNjIxwsvTa1M8mhFUHDgbBGxgLQ9S0kM2PlAs680mg0O3fupNFo3d3dra2tJBcaAsIKXoGjJki7rpz3V8SjNu/TKTYUzEwDAwPnzp376quv1Gr1E088sW3bttzc3Ohykq1JYuahZGub8jsmVXK0Ry0xZ9IC6cqoCEy6xCzZLqP+9NXBo0Z61AQCAXjUlqfYp9DmFIUBDlYvLy9Xq9XHjh27dOnS9PR0XV2dSqVis9lpETPqd60+MUtcMuJRQ4baSsICM8hQ1if1hgLKtLa2tldfffXo0aNHjhwpKys7cuQImfyfWl4SlTypZGub8jsmFYsNp3FDrh8QDcQTyNSytKiI2bxlpiZmyXYZ9aevpqxPoLRlsVhglyxDsU+hzZMVBg6Ho1Ao/vKXvzz99NNtbW1PPvnkT3/606qqKjIHNi3Kdq2JWeKSUdYnMtQQEGLD6XTqdLq33nrLYDDU1dXdeeedarWazWavZWVBHqGDYtTWIMCjFi+ZYO2ATqdnZWXt3buXx+Ndv3799OnTk5OTt912G5DcIiAgQw0BYSkmJL/fPzU1df369TNnzhQXF2/btm3r1q1w3M1abhmIT4KsTxSaswbHBY7jDAYDjpJcm40ALy6RSIDy98KFC5cvXx4ZGSkvL1epVDweD8kJAjLUEBAWfTYiCMJkMh07duyvf/1rdnb23Xfffd9996WR7nzlTlEkjxqck42kZU0BCJ/XZtZntK0Gp8bNzs6+8cYbZ86cKSoq2rx586ZNm9b4Wg4BGWoICItrokFcGo7jr7/++rVr1xgMxsMPP7xp0yaxWIz0L3koO8SoIUNtDQ4QZKiFjwWlUrl79+6xsTG1Wv3ZZ5/NzMxIpdKCggIytwABYUUAzW0IKww4jns8nubm5pGREZFItGXLlvz8fPLM8rU+nv9Fz0EQBIpRW4OGGhwivjbpOSJAo9G4XG5xcXFlZeX69ev7+vp6enoMBoPf70dDA2FlAXnUEFbMJASbnq+++qrRaNTr9VVVVffff79arQ4nH1/r4zmMngN51NbgGIFkAuRRI8FkMm+//fbGxsbh4eHZ2dkXX3zx5z//ORwBjBoHARlqCAhpnoS8Xq9er7948eLU1JRMJqupqdm0aZNAIED+AxKw9Ukaaihhfu2sYcCNCskEazzrkwSNRqPT6Xl5eVlZWVu2bLly5UpPT8/169fZbHZZWRkyZxGQoYaAkObZaGpq6vnnn79y5Yrf73/11Verq6vVajUKTQuflsJj1ND+zlobIGCosdns6EPZ1/KgyMjIYLFYjz32WG5ursFgePHFF00m0/e//325XI6WMQjIUENASA+CwWBLS8vp06c//fTTxx9/PCsra8OGDRKJBOnZmC4EDMNIwluENWKleTwer9cbCoWQoRYTbDb71ltvlUqlTz311Jdffjk6Ovrss8/y+XzkV0NY/kDeCITlPgMFAoHBwcFz585duXKlurp66xwkEgmajSJMNAAYaihGba0NE6/Xi+M4RGUh4yN6aNDpdKlUWllZuXfvXrFYfO3atVOnTl28eBGtZxCWP5BHDWG5W2kej+fSpUvnz5/X6/VPPPFEXV1dZmYmeUIOaqXItdecoUbMAbXG2hkpvjnANh+KUYtprrFYLIVCceTIEYIgBgcHP/jgA7lcXl1dLZFIUIshIEMNASHF6cdisfT19T3zzDP5+fkPPvjgQw89xGKxIAwLtU9MYBjGZDIRj9paGylut9vr9WZkZHC53DV+kFoCMJnMsrKyBx54oLKy8oc//CGHwyksLLz33nvz8/NRiyEs3+U3agKE5TnxgDvN7XbPzMwQBMHlcsViMVhpqH2oNCBqhDXV3eE+VGRzxAPsgXK5XN4c4OgCt9uN4zgaMgjLFsijhrBM4Xa7dTrdZ5999vvf/76xsfF73/ve/v37ERPH/GsvOp3JZAbngFpj7Rhqbrfb4/GQHjXUJgkGSGFhYXZ29s9+9jODwfC73/2OwWDs3bt306ZNyMBFQIbaWtGYiX+d94KUnxt+bwrlxLsl4vvE/8a8l2JlyMtCoZDD4Whvb3/22WedTqdGo/nxj39cWVkZvuNJpeTwi6nXJPrK6Luif6VecrLCkFRXhkIhMusTeNRi3p5CyRTFbN4yUxOzZLssqV5YDAFOoeQE10eX7PP5IF+Ey+XS6XSCIGDrk0ajcTgcJpMZLfwptOG8/6Yg9inoyRSEYd5fmUzmvffea7FYhoeHv/zyS51OJxQKKyoq5nXYrykxo15yeJchexcZassdCWSUZB9NLMcpSHlEySnTnEbfFVFUzJKpvE5EIaFQyO/3Dw8P8/l8pVLJ4XDI5IBQKITjeHd3d0tLy+DgYF5e3qZNmyoqKjIzMyMOiaLYmBGNQ6Vloq9M/NbJlpysMMTsFziZfmxszOl0wr+hUCgYDPb29no8noGBAYFAMDExQW6HYRim0WjWr18PBzlQr3OyYjZvmamJWbJdlvgVFiLAVEpOrXNjXh9dZxzHr1y5YjKZfD4fm80Gu3x0dNRsNvv9/q6uLhzHBQIBk8mE46TEYnFmZqZCoUhshUTUJ3FbURTgmO+VuH8Xos0olgzDQaVS8fn8nTt3vvPOO6Ojo+fPn8/NzQ0n7IBcWpvNNjExkZ+fLxQKmUwmlaPqVoGYJVVyUsKAkMrUjDbml9LZFi7TKSgaiiUvpJBkZ1AqrxNdiN/vn5mZef7550tKSm699db8/HwmkwkOM7/fb7Van3766WvXrgWDwX379j3++OMKhYLBYETXhPrTqVwfr+TEb51syanVP/onHMdPnz79+uuvDw4OBoNBHMeB79Q1B5L8FgLMgUfqyJEjTz/9tEKhiFCvaRSzectMTcwWPrLSKMCL1Lnxro+4JiMjw+FwPPLII1euXLFaraFQCMMwOI0gGAwGAoGsrCyhUMhms+Evl8ttaGior6/fuXNnAkabpRH7FNp8kQw1crXj8Xh+/etfNzc3T01N/eMf/8jOzpbJZFABv9+v0+lu3Ljx8ccff/e73123bl20IlqtYrZI2hUBedQQVgymp6dPnjz54YcfMhiMzz///Oc//7lCocjPzw+FQiMjI3/84x/b2tqkUulPfvKTnJwcmUxGRTmuQbvf5/PpdLqBgQFyl5M8EZW8DD4DNwGTyeTxeKjpVgEUCoVIJDIYDARBRDgz9Ho9PQwwdqRSKcoCjgYkFjz88MOFhYUvvfTSL3/5y3vuuefgwYNsNtvr9fb19YEuMpvNWVlZOp3uwIEDwA2EgIAMNYRVDpvNdvXqVaPRCHmdn332WW5u7h133GG322/cuHHt2jW1Wl1fX19TU8PlchF7Z7w5JicnB5g4gOk0HBEkc3CxUqmEaRv50Vc0YBdbrVZrtdroaCFIYCQ9HBiGQYABWupEA5JAc3Nza2pqtm3bdv78+dbWVrFYrFKpfD7fsWPHWltbb968GQgEurq6PB7P7bffjg5EQUCGGsKawOzs7IULF3AcDwaDRqPxxRdfhDwsrVbb1dXV39//s5/9bPfu3TC7ILUYe+gyGNXV1XK5nMViRRtqEbMRg8FYv359YWEhSptdHTZ6WVnZ8PDwvMT6kFxSVlZWX1+POF3jjQ4Oh7Nu3bpHHnnkiy++uHTp0ujoaGNjYyAQePHFFz0eTzAYpNFonZ2dFovF7XajFkNAhhrCKkcoFDKbzXq9fmpqiox/93q9BoPhzTffdDgcBEHs2bOnpqYmOzsbmWiJwWQyS0tLR0ZGuru7E0zYsBlaVFSUk5ODmnQVAMOw/Pz8eQcIjUaTSCQqlSorK0ssFiMCwgRgs9kqlergwYP9/f1arXZ2djYYDIKVBiPIbrezWKyxsTGpVApBbKjREJChhrBqDbXx8fHh4WGr1QpBM0Bsa7VaP/roIy6XW1JScujQobKyMoVCgbRhgjkYJuzKysqJiYm+vj6wehPcUlpaqtFo0Gy9agy13NxcFovl9/vj9TuNRlOpVNXV1bm5uUKhEI2mBKOJyWRKJJItW7ZMTk6Ojo4ODg5GDCiXy4Vh2MDAQFZWllQqRY2JgAy1lW2IzPvrYlCpRbPapKvyC+dRC/9AEERLS8ulS5di5nL7fL7p6emBgYEdO3YEg8EE+3QU3zS8WZKlfUqKSi01HrUFEu+FQqGmpqbp6ekPPvgguj3Jf+l0ukgkWrdunUajIQPUKNY5BTFLjUpt4TxqKbPZpb3kZEn+5q1M+MUQDCCRSNRqdV5e3tDQkN/vj2nHh0KhdevWHTp0CM5HSkE1Ufk3Ld2dRm2WlHYlH4Tj+MzMzPvvv9/d3e33+8kUnPAmDQaD586dUyqV5eXlVNIzV7SYJVty+F9kxSJDbWW4OuJJ9uqj56DOZAaWgdvt7plDIBCIVgQEQczMzJw/f14oFN5yyy379u2DtLXEJVNplmRpn5LlKUiNRy0pQqmYv2ZnZxcUFCiVyqmpqfBINXJixjCMw+HU1dVJpVJggUq2zkmJ2ddCz0GdbWQhApxUycmS/FHkTQh3psrl8tra2snJSZvNFj6UoFjIZywsLNy4ceO8DGox60yFR41iTy1beg54kMPh6O/v//TTT9vb2y0WS7w1DI7jnZ2dDQ0NHo9HIBAkq8ZXophR1+2IngMZagirBMFg0OFw6PX68fHxmGQBYMn19vZyOBy/39/U1MTlcgUCAZ1ORyogpt4XiUQKhUKpVM7OzsbcBSNjpXk8Htr3XE29LxKJiouL450WRaPRhEKhSqXKz89HGSTxQBBEMBg0m809PT0ff/yxXq8n3WnRqikQCOj1eoPB4HQ6uVwuSs5AWDIgxY2wdPB6vZ9//nk8K41UiMFg8Pr166+//vo3v/nNl19+2eVyoaZLgJycnAcffFCtVse0wwKBAIvFuvPOO+FoB9RcqwZqtfr222/ncrkxrXM+n3/kyJHGxkYGg4EM9ASGmtlsfvLJJ3/xi1/cvHkTWKMTqKZAIKDVao8ePRq93YyAgAw1hNUAj8dz7NixiYmJec8LDwaDbrd7cnLSarV6PB7E1ZkAMpns1ltvjRfgzOPxxGJxfX09n89HhtqqATjMSktLJRJJzPMGMAzbvXv3unXrUKcnBoZhIpFIKBTGDMaINuzgbNDEhDgICMhQQ1h5IM/3nJyc9Hg888vl3F4nHDuNrLTEYLPZCoWCw+FgGBadT8BkMtlsdmZmJuINXmVgMplwSFT0ziYw56lUKpFIhAy1xPYunU7nzYHBYESPoGg95nA4gKkbsUYjLBnQLvvXbL4kCNiMCBBeoSXDN8FgsL+/f3x8fGRkxOVyxdysIfUmh8O54447Nm7cuGvXLukc4BhQlE8UsxEwDJNIJLW1tQRBtLW1+Xw+MmeNw+Fs2bIlJyeHwWDEa8DVIWbpLTk1MVtiEQVrrKGhwWazabVacj1Dp9PlcnldXV1WVhafz085t3cxXn+5lUyj0cRi8Y9//OO77777+vXrL7zwgtVqdTqdZGnhSgw+TE9Pa7XaoaGh8vJysVi8mgQYARlqCLHVRMq/rpSSIRsoGAx2dnaOj4+73e7ofU+4i06nazSanJycioqKHTt2VFRUVFdXw2yEVE+C5qXT6Ww2u6KigkajdXV1kaeww+kFNTU1KpUKPJQx23B1iNnyL3kxJAHDsLKyst7e3oGBgfBf5XJ5Y2OjUChM7cSwCOskja+/3Eqm0+lMJlOj0YjnYDabR0ZGdDrd8PCwxWKJyU0YDAZdLldPT49KpUpgqK1EAUZAhtra8nkk/nU18ahRZALz+/0XLlyYnJyEM6Qjln0cDofBYPD5/K1bt27evPnw4cNSqZTFYoXv6cR7blI8akkxFSXFo5YCiVey9U8ADMPq6urkcvnbb78d3rAMBmPjxo1kGkFqdU5WzJaeRy3lLkjXmE1X585LcBVBCkin09evX9/S0hLOlUCj0bKysrZv3w4JoctN7FNo88XmUaPT6WKxuKqqqqSkpKOjo7u7+4svvrh+/brD4fB6veTCkqSfIAji8uXL69evz8/PX/ViloJ2RcYiMtRWsJNsVfKozfs6kOw5PT19/Pjxqakpn88Xvq1Ao9G4XO7GjRs1Gs3jjz+en58vFouxOaSrMZNl+om+kgqPWrIcSMnWP3GxYKgVFhaq1WrXHCA6TSAQbN++PTqNIDXeo2XLo5ZaF1AU4CXrXCoEVxF30en0DRs2nD17FsOwQCAA18hksvLy8h07doChtqzEPoU2X2wetXBdxOPxNm/e3NTUdODAgYGBgVdeeeXixYtGoxFYPEiF5vP5/vnPf95222319fUx6VFWmZilUbsiIEMNYZm6GI1G4/Xr191uN47jpJVGp9MVCkVFRcXmzZs3bdqUmZlZVFQkFAqZTCaK0k1hbcBkMrlc7oYNGyAcEOgbKioqOBxOzKxAhFUACOhUq9UFBQXDw8PgQ21oaCgvL2cymWRkJwL1cQSrRLlcjmHYo48+WlNTc+PGjXPnzpnNZlJ9EQThdDqH5wAhB6j1EJChhrCyYTQa29ravF4vueRis9lKpbKmpmbLli179+6tqqoiSfPJv2iOSWqOgWibhoYGo9EIEUtZWVkVFRVMJhPxna5uA12pVBYXF4+MjBAEgWFYTU1NWVkZ4k5LuUlBQanVaoVCkZOTU1RU5PP5enp6ZmdnLRYLuNZwHB8ZGdFqtVSOk0JAQIYawrJGKBQaGRk5evSox+OBTToGg5GXl/etb33r0UcflUgkwCuBIhsWDiaTuWPHjqGhoWPHjtFotIKCgltuuQXCyVHjrGLbIi8vr7Gx8eTJk7C22bJlS01NDTLUFm6xYRhWWlpaUFCwa9euTz75RKvVvvXWW5BkQBBEZ2enUqk8ePAgai4EZKitbBsF/ORWqxVIE6I38uf9l4oFEzOqg0r02LyBQfFOx0scyEKWTBCE1+vV6/V2uz0YDELQrkwmy8/P5/F4s7OzOI4DdxGViAfY6MnMzFwaF5Hf7/d6vbOzs9Bx8ZplOcSXwE8EQdhstkAgwGazgefJ5/Pp9XoMwxL3YxrFbF4BnlfMWCwWh8MRi8VLaV8SBOHz+ZxOJywnUu5c6iE76QoeCgaDNpuNHCB8Pt/pdJpMJq/Xm3JoZry75m2ZeTs3OsaOw+EIBAIOh7ME2jgQCPh8PpvNRgacUekmOLIdwzChUFhYWMhisWw2m91un52dHR8fHx4eBgK2ZDs3fGgsZTelK0aNwWBkZmay2Wy0DkSG2ooHQRBut/vixYsmk8nv9681Qy0YDE5NTbW2to6Pj4dCIQaDUVBQ0NDQkJuby2AwTp8+TSo4KgqIyWTm5ubu2LFDKBQuQd/ZbDadTtfS0hIIBJa/oUZOKtPT02KxeGZmxul0Tk5Ofv755/GkbnkaanK5PC8vb+PGjYnZRxdIeBZRpUAgMD4+3t/fPzY2trIMtVAo5HK57HY7eIBUKlVfX5/Vao0+M3sZGmowomtqajQaTVJdluwFIC0Oh2NiYuLq1atutzspPQmqjMfj7dq1a3BwsLe3t6enZ2xsLCMj45133mGxWDwebyF6ciUaaiKRaPPmzfn5+SgEFhlqKx4+n+/KlSsvv/zyyMjIqnzBeYPJcByHJEQIbR4aGjIYDBHUGzHLjC4ZGFw//fRTgUCwBK/W0dHx8ccfnzx5ksrRCFSC6lILvEv2LqfTabPZQqFQa2trX19fgi2wZRgIGAqFWCxWQ0NDY2PjUobWOZ3Of/zjH5cvXx4cHAyfnBbSZYnvTWPJBEHgOA7jS6fTvfHGGymcQrHYdY73K5/Pf+qpp+Y11NKC/v7+99577+zZs06nM7W8+GAw6PV63W433D41NfXKK6/Q57CQRlgRYhbRFBKJpK+v7yc/+YlcLkcTPTLUVrxHbXp6WqfT0Wi0hoaGtRzWvZDk7VAoNDMzMzU11dPT4/P5lsbCsNvtRqMxGAwWFRXJ5XLk4V8CCYG9JL1eH73dHD2XLGR1EfFNIBAwGAw2mw2IToBjGWFR+3pmZsZkMg0ODs7OzqbQZUldABoDfMw4jqvV6ry8PDSiU57UtFqtx+PR6/XocHpkqK0SfQT01lu3bn3hhRdYLNZi8Kgt/N70sq9F/LpwWiw42ODs2bPd3d1L7N1pamr6/ve/v2XLlnhbPMuBxGtp+oV6ycneTrJlfvLJJ3/+85+DweDSu/oIgsjNza2urv7Vr37F5/PTK8BUrkmN7WzpS05WacS8iyCIrq6uc+fOPfPMM0vW11CT6urqO++887777ktt2byc9eTSCEMgEPj973/f1tYWfcYMAjLUVjYwDGOxWCQFZfj8lMACoLheDKeQpXJXzGsSzKDRvPbxYptiHuJJZfKOuD7iKcFgkMViLb2fA2gw4Vzz8N2NmIbavAy90V1PkdQ3QYMnFobEYhbvxNWFiNm8ApxAzAiCAPavr2sCoNFoGIax5xDe8gsU4ATCMO8MOq/YxLwgeuuKytycuHOTrUliHUIQBDmil9IohxENqpg01BauJxPftTR6Ml5rp0XMwq/EMIxkU0JAhtqqAu1foG5+JTUSkppXki05niqJGUYWT7PMW/l4Jcc7pHIZdjGVDkrwDZUuSEoY5r0r2YZdPDFL+ZZFGqrJdtC8QyPlrp9XbOYdksk+K+aRAPOWTEXMUjuR82scs6mV+bXoSSrCsHDthOyzrwWIawcBAQEBAQEBARlqCAgICAgICAgIyFBDWN1Yyuhj1NoICAgICF8jUIzaos/x4R8iJv7EseHUo9miH5feksMjS9JYcsRd8RIXYr7aKrC0UqgbdWbaFSdm0WMk8TEMaRGzeM2VQv5dAgFOr5DE/IYKZWtqKot6yUlluqRRzKjUOaY+WTJttjR6MikVkYKYUWlJBGSorTBEZwKuvmSCBZYcUfkEyQThH6KbkUqzpNyJSyAhaa/PShSz8DEy7+3pErOYpaWQvJJsMsFChGTeyPSUxSxxMsECxSz8GurU0NRJKxLXOV6O5NJos6XRkwsvmYrYxGu9ZcievZqAtj4REBAQEBAQEJChhoCAgICAgICAgAw1BAQEBAQEBARkqCEgICAgICAgICBDDQEBAQEBAQEBGWoICAgICAgICAjIUENAQEBAQEBAQECGGgICAgICAgICMtQQEBAQEBAQEBCQoYaAgICAgICAgAw1BAQEBAQEBAQEZKghICAgICAgICAgQw0BAQEBAQEBYVmDgZogvQiFQhGfyb+AiGsSl5Dsc8l7F1JI4i+jr6HyOlTqE6/pYrYkxZKjr6RYE/JiGo02bzuk5R0X2HrJ3pWWkqkITFJiRrZ8snVLrQtiPjq8DkvcufGuD28TAJ1Op/JGKdQ/cX0W3jJULliINkvchvNqs4U84mvXk+kSM+olx1TRpM5EQIbaMkW0jMI3tH8hfO6PKfopSDncRd67kEISfxl9DYxMgiCcTmcgEJBKpdHXU6lPhEkUcRfZhmRLUik5/JrUahKvZxPXNrV3nLdbUxOGxSuZisAkJWbwN6LT0/XKCQQ4XK7CPyxx58a7HoYYjuNer3d6etrlchEEUVxczOfzE7xRzL/BYDAUCjGZzNTqs3Cxj2coJFAaSUnpvBdH/JouPUldzNIowGkXs2Q7N2K0pjbvICBDbfV46QAEQZBLFhqNRqfTyaFCzIFc4pAXhK+8F6Ni8Fyfzzc+Pu7z+cRiMYPBWMVmN8XOCu+LiHJIk31lNQV0NNQfwzA0KiO6GxonfMYi7c5wpNz4Lpdramqqq6trYmIiEAh861vf4vF4VAqEGgaDQYIgPB4PQRCZmZnz3gImHSgQNPumPOpJWzOiMVGTIiBDbbWpAJPJdOPGjddff72jo2NoaCgjIyM7O/vw4cN33nlnWVmZSqWamJjo6uo6ffp0e3t7W1sbjUbbuHFjU1PTwYMHN2zYwGazF6NWfr/f4XAMDQ19+umnr776qtPprK2tPXny5Goy1FKYUM1mc1dX19/+9jeTydTS0kIQhFAorKmpycjICAQC8G9hYeHDDz9cXFwsFotXhARmZGScOnXq+eefb2ho2L9///bt29FMA16u9vZ2g8Hw7rvvdnZ2joyM0On0srIyuVwO3e3xeBQKRXl5eUNDw1133cXlcpMdHaFQyOfz3bx58/Tp083NzV988UVmZmZWVta+fftycnKolBAMBk+dOnVlDv39/SqVqqWlJfET7Xb7o48+ymKxqqqqHnvsMYlEgvo6cYvhOP6f//mfHR0dXV1d09PTGRkZGIbV1NRIpdJAIOB0Omk0mlgs/uY3v8nn8/fs2cPhcNAIQkCG2qqCSCQqLy8/cuSI2+3u6+vjcDhqtfree+8tKCgQiUR0Ol0qldbW1srl8mAw2NnZ6fF4brnlljvuuKOkpGTxzCYMw/h8fmFh4eHDh19//XX/HNZ4T9FoNJFIVFFR8c1vflOn0zU3N7NYrKKioh/96EdcLjcQCNjtdr1ef+nSpd/85jfbt2/fv39/cXHxilDZGIZxOBw2m43caeT0jGFYUVGRSqWi0Wg+n29gYEAmkx06dOiWW26h0+kEQeA4fvPmTa1W+/7771++fPmuu+4qKyvLzs5msVhJ6GgGIysr67bbbmOz2UePHg0EAuDuong7nU4vLy93Op0ffPCB1Wqlsjag0WgsFos9B2RPUOyje++9d8uWLb29vU8//XQoFMrMzDx8+HBdXV1GRobH45mYmGhpafnjH//IYDB8Pt+mTZvy8vJQuyEgQ231zP0cDkelUjU1NZ04cYJOp/N4PIVCUVNTw+VywbvO5/N5PJ5Sqbx06RKfz/f5fKWlpTU1NUKhcJG2PmFflc1my2QykUjE4/HQ/E12llqt3rx5s1KpBONGqVRu27ZNJBIFAgGbzdbX19ff33/8+PFQKKTRaIqKilbEXCiTyerq6oqLi5F/hexrDMNkMplEIuFyuadPn6bRaAKBoKam5rbbbsMwDPbC2tvbfT7f2NjYiRMnhEKhxWLZu3dvRCjnvE8Ri8VcLnd6ehpGWVIh8DQaTa1W5+bm4jgeCASo3IthWHV1NYvFys/PX8sO8qSUYU1NTWlpqUqleuaZZ0KhkFAorK2t3bFjB41G8/v9o6Ojbrf7ww8/DAQClZWVGo0GGWoIyFBbSevyxKGg4cqaw+FgGCYUCgUCQXiAGnxgMBgcDkcoFM7MzPD5/MRW2kLSc8KDvul0OoZhIpHIbDaTARkLLJnKZcuhdxLP37Ozs6DBsTkwGAw6nS6Xy6urqx999NHz5893dXWJRKIDBw4san2SErN4b5SRkVFVVVVRUUFGRqal5MWr8wKbkXo7Q2vIZDI+n0+j0ZhMJoPBgO6GyKQNGzaUlJQ0NTU9+uijb7/9NovFqqioEAgESQUk0Ol0JpPJYrGot3yEe4zH44lEIiaTOe/YodFoPB7v//yf/wNhVUkZamls2PSWnOCt0yJmMOq5XC5scRAEARFpGIbBh+Li4kceeeSZZ55xOBwnTpzYtm3bpk2bFm9oLN7ab8l0L8J/0wCoCVbZ2o5K2PJiDLYlcwutCE0RswvgSyaTyePx6HR6IBDwer1L8PppoYPBMIw5h3DXadr7IoIaY6VIVAIbF7yqIpEoLy+PTqfbbLbx8XGLxfK1iDH1QQp9jdxp6Wp2MLXBbvP7/YFAYJHEdSnlChltSwY0DpdOmlNj1glf1UUnD1JUyuEsbuGrLvAHwPeBQIB0kpGZpHAXmUNKVoZMCotXZ7gXVpbhZS5k2K8gvZDAXOZwOAqFgsFguFwut9sdTbMX4bMM/5XstfDrya4Jv55MQiS7I3rmgD4KF4OIB2EYRn5PFkKKQTjVHFlaeIGLt8SPaKj0zi4piFm8voYv+Xx+QUHBt7/97T/96U8jIyNHjx71+XyHDx8Ob8mYjBUxi40YxdApEDBHJudGDOToEsj88XD5mVfY4BZyVzdCjXxdK42kLkuKRy1ZMUugk6GVOByOz+fzer2koRbOQkIOUnhuRIoomVgaQaIR/kSyU+BeEIbFzv1HQIbaKllOxVvOJmVphZdDJdU/fPzfvHnzq6++amlpyc3NdTgcdrvdbDYXFRU99NBDJSUlLperr6/voYceAo6lxx57bPfu3RqN5rnnnrt+/Xp3d3dVVVVubu5jjz1WVFQkEAj6+vqee+652dnZu+++u6CgYPv27dEP/fvf/37x4sVTp07t37+/vr6+urq6oaEhcQw1xTciedSWc48noH+02WxdXV0+ny8nJ6e+vj4jI8Ptdvv9/k8//XRkZGRqamp4eBjDMLlc/sMf/lCpVObm5vb19Q0NDV28eLG1tXXnzp2PPfZYc3PzRx99dOXKlezs7IaGhh/84AcFBQU8Hg8eAdEwWq3WbDYLBAKXy/XZZ5/hOE76xu68885t27a98cYbPT09XC73zTff3Lx5s8vlOn78uE6n+8tf/jIzMyMQCHp7e1kslslkunr1qsFg6OrqMhgM3/72t/fs2dPa2trV1TU0NHT58uXGxsZ///d/f+WVV1pbW7VabUlJyXe+850NGzbk5uaKRKKULZ4E8rAQs2/eYZgsj0a4NMa7USgU7t+///PPP+/s7Lx+/Xp2dvahQ4cgW9DpdL7++us2m41OpweDQY/HMzY2VlhYuGHDht27d3PmEEHzBlOy1WodHh4+e/ZsR0eHzWb705/+ND09/dxzz3V2djIYjPz8/Mcee6yiooKMhYJ6BgIBvV7/7LPPdnZ2jo+PSySSwsLCp556qrCwkMfj4Tje2tpqMpmam5vNZnNGRsZzzz1nsVgGBwcvXLjgdDpbWlpeeukls9n83nvvtba2SqVSsVj8gx/8YMOGDXl5edSVUtodgYlLJvsoKR61Ba4uwi2qqampS5cumUwmn8/33e9+l0whgvR5j8fT1dV16dKlyclJg8EwMzMjEokeeOCBqqqqvLw8IMwbHR398ssv29vbc3JyZmZmvF7v1NRUVVXVAw88UFBQYLfbh4aGzp07Nzs729zc/KMf/aigoODZZ5+dnJz8xje+8cQTT/D5fBCkNDplUaIJMtQQYiMYDM7Ozvb19b300kvkxgRpFly6dGl6ejpCW+E4fvTo0e7ubovFsnv3buD7+Nvf/uZ0Oo8fP56ZmSmRSJRKpVqt1uv1TqeTTqcLhUI2m11XV2c2m69evQoxyEKhEKJkRCIRhmE8Hg9S3iLW4jiOB4NBg8HA4XB27dq1cePGwsJChUKxEld1C9dE4VRzXq/XZDKNjo6eOXPG5/NlZ2dXVlbSaLSOjg6r1cpms0tLS4uKikpKSoaGhsbGxj7//HONRnPkyBE2m81kMq9fvz46Ojo0NNTd3R0IBGpraz0ez/DwcHd399mzZw8fPgyGmslk0mq1X331lVKprK+vl0gkdru9r6+vvb0dUlA3bdpUX19fWlrK4XC8Xq/P58NxHCKZCgsLmUwmnU53Op3BOdBoNDabrVQqx8bGOjo6QqEQcA0IhUKj0djR0aHX6zMzM3t6enJycmpra1ksVnd3d3Nzs91u37dvX7KG2moFpEjz+XwulzszMzM7Ows5oUNDQ5cuXZqZmcEwrLKyksFgeL1ehULR1dXlcrnMZnNdXV19fT2Xy42WKxzHbTZbR0dHT0+P3+9vbW0NBALFxcXBYNBoNA4NDX3yySdOp1MgEITf7vV6u7u7i4uLmUymSqUyGAz9/f2nT5++9957ITkpMzMTx/Genp7p6WmZTBYIBCDbt6ury+Fw6PX63t5eYJzxeDw6nQ5sOAzDcnJy0FYpqXIdDkdbWxusjpxOp9Fo7Ozs3LRpE4ZhO3bsyMnJIZW2wWDo7OzEcVyj0eTm5tpsNqvVevny5QsXLgwODt5zzz0lJSV0Ov3YsWNXr151OBz79u3zer1+v/+VV15pb2/PzMy8//77QR46OjrMZvPo6KhWq2UymSUlJR6PJy32GQIy1BCSNtT6+/t/97vfkaYPuV50OBxOpzMiATMQCHz44Ycul0uj0ezevVsoFOp0umeeeWZqaspsNu/cuRMWbTt37jxx4sTw8DCXyxWLxTwe76677nK73WfPnuVwOFwuVy6X83i8UCgklUqBw2nTpk0sFivcY+/3++12u8fjsdvtpaWlu3btKiwsBNKgtbn8CgaDbrd7cnISwzCHw9HT06PVar/44gs+n19dXd3U1ITj+IkTJwYHBw8ePFhaWqpUKkOhELhe3njjjeLi4ttvv10sFstkMpi8Jycne3t7y8rK7rvvvuLi4l//+tc3btyg0WhbtmzJzs6m0WhjY2OnTp06evToD37wg8OHD8tkMsccxsbGeDzebbfd9h//8R+gu/Pz87u7ux0OBxkKvWHDhoKCgqysLJPJRO7XCASCsrKyrq6uzs7OgoICHMeZTGZOTo7NZuvp6XG5XCaTqb+/f+fOnRs2bNBqtSdOnDh9+nRvb29lZWVpaSkas9CMPB6Pz+cLBIKZmRmbzUYQhN1uBwfVgQMHlErl3r17+Xx+IBAAh1ZnZ+exY8f+x//4H3l5ednZ2THXAH6/v7Ozc3R0lMvlXr9+XSAQ7Nmzp66u7vLly2+99dbrr79OEERhYWFubi55l8/n6+vr27NnD9hzH3zwwdtvv/3ee+9t374dLC2NRsPlcnt6erxeL4fDgfGuUChu3LgBm/VarXbr1q333HNPYWHha6+91t3dffz48YyMjG984xuor8MNtStXruh0OmjnqakpvV7/yCOPCIXC7du3A9NeRkaG3+/XarVvv/12dXX11q1bNRoNnU6fnp6+dOnSsWPHcBxfv359dnY2n8//5JNPLBZLcXHxHXfcwWAwCIL4wx/+0N7ebjKZdu7cqVQqWSwW+Ly9Xu/o6GhOTs7+/fv5fH5RURGLxUK7n8hQQ1g6wDq4trb2v/7rv8idRDKE6N133/373/9uMBj+Wx8zGPfcc4/P55NKpRwOBzK5BAKBw+GYmJjw+XwQD3H48GFgjuju7i4sLNy7dy9EUxUWFvb09FgsFrvdLhAICIK4du1afn6+TCZjMBjh5heO4+Pj4+fPn9fr9XfffbdarVYoFEDFtGad5DMzM83NzXfffTeLxYK4coFAsHHjxkOHDlVWVspkshs3bpw9e7a7u/vChQtsNht8ErA9HQgEhEJhb29vY2OjUqmUSqVer7e0tPTBBx8UCAQsFksul7/zzjtjY2ODg4MulwueODU11dnZ6fV6mUwmn88HC2zr1q2vvfba9PT00NAQJKOBmyfcpodoJBAPDMOCwSApP0KhEGw7kDQmk6lQKICZwuVyZWVlPfDAAzKZLBQK5eXlZWZmWiwWm81mt9vRgA1HeMv7/f4vv/zy1KlTExMTO3bsKCoq4nK5EBQol8sPHTp0/PjxTz755NKlSyqV6nvf+16EswoyiDdu3JiVlTU1NSUQCB599FE2m52ZmRkIBFQqFUEQf/3rX7u7u99///3Dhw+TbhWxWPzQQw8JhUKCIPLz8zs6Othsdn9/P8gPcP14vd7wvUKhUKhQKKRSKYPBcLvd+/fvb2xshGc1Nzdfu3bNYDDo9XoUWk6Cw+FIpdK9e/fW19fjOG4ymXQ6XVtb2xtvvEGj0Ww226FDh2pra+l0+sDAQEtLy/Hjx8+cOfPKK6/A6V7BYNBkMuE4jmGYVqstLCysrq4+cOCA2+1WKBSQkQBcMMFgcGJiIhQKyeVyFoulVCphS7S2tnbv3r0ymay6uprNZnO5XGSoIUMNYUlX50wmUyQSFRcXh2f4wxabQqGIyOGHaXXbtm04jhMEAbskRqMRNrZ8Ph95LlBRUVFBQUFOTo5er+/q6tq9e7fL5cJxHLTz9PR0X18fm83m8XjXrl0rKysrLi6GeYV8kNVqff/9900mEygUsNJg+l/LKjsnJ+fAgQNANQdulaysrPr6eplMlpGRMTIyArtL+/btU6vVEbdnZmYWFhYKhULoCHIOABudwWDw+Xwmk+l2u0m/JtDs0el0q9U6NjZWUVFBp9P5fD6dTudyuUqlMiLYMVrAIr6EWSHcfQtcMGDPwZ5pZmYmeF+A3AGi7khTb40DQgICgYDP53O73Wq1WiwWB4PB4eHhsbExHMclEolUKiUzQphMZllZGWxwG43GwcHBiFwQclzzeDxYADAYDLVaDRQeBEFoNJqGhgYmk2m1WgcHB+12OxnoxmAwZDIZjEqQH2BoI8PbSWsy3B1I0o4Awz7QA2VkZAgEAh6P53K5vF4vMtRIQIp0VlZWYWEhQRDZ2dn5c4CGunDhgkQiodPptbW1er0ewh4qKys3btwYYU7R6fSmpiaZTEaj0bZu3er1egmCgH1ScNWDGoeu5HA4LBaLyWRCH8nlcthtR5FkyFBD+NrMtfBcHvJswZhXYhhWX1/v8XjMZvPJkydtNpvFYoF5lMztysjIUCgUubm5+fn5ZrN5YGCAIAibzQZpiQRBeL3evr4+jUbDZDJ7e3s3b95cUFAQoQJmZmY+/PDD/Px8CHFbPFrz5cyjFgGBQFBeXv7//t//E4lEZJ4smQ7icrkMBgOXy1WpVP/zf/7P2traiKeTRpLVao3oVvgVVLPH4yHbRCKRFBQUwCR98+bNdevWkdlhYrE4Pz8/qbV19FnpEb9GmHeQ2gYZZ2tw5k7wynDUpsvlypwDBJjDcUOsOYQ3ZnZ2NtjxdrvdaDQmyAklMwzAHUt2dHFxMSyxTCaTx+OJmP5JHQIUayaTKTzWPqaEROd5gAEHkW3ISovWunw+H5iNFQpFXl5eVVWVwWBwOBzPPvusbA41NTVTU1Mej0cul99+++3/+3//72jacPq/ADGpRqPxxIkTDofD7/dDIGl4cijZR3CwBPk9Oi4dGWoI86jsmPwL4T/FG0LRFycoKkHmOUEQw8PDLS0tvb2969evLy4uhhxDHMfDNTiNRisvL/d4PCdPntTpdCMjI5cvX/b5fAcPHqTRaE6n89q1a7m5uXQ6XSwW8/n86BROiUSyf//+lpYWrVZ76tSpurq6qqoq6gS24a0RwUEQfdlyM+liPpSkNQFWqohEMIDH45mdnZ2ZmYGIfnI3Oby7kzIr8/Lydu/ebTAYzGbzW2+95XK5QqHQyMhIdXV1SUnJnj17IojQoh9HdkRSj46W1XjH0s/rfJrXSg5/XLLEENGDLmblU+CbSFCmz+fTarU2my0YDObl5ZGuU7gFBIA8/xF2tSADAMMwGGgR8hDNthNeARaLJZFIYGsbTv2K7ovwdo5ugXmviaea0sLgGHPIUyw5Zh1i6pOkNDB1eYhYvYDzEpyRDQ0NDocDwzCdTqfVauEgV6fTOTMzA0ti8IdFtzlBEKOjo5BeUFlZuX79eoFAcPz4cZPJFLEiisnllIKejNdTiVsSARlqK29RFa4FyOUO9cEfrfejV07xrg9Xx36/v6ur68yZM729vVu3bi0vLycIAnZMIkooKiqi0+mQRt7X19fR0VFSUrJ169bJycnx8fEbcxAKhVlZWQKBAEyK8NcRiUTbt2/v7u622+2XLl2i0WgFBQUCgYBK0n6Eeo1JeZACPccC1/oLXIZG9FpETeB7DMPcbje4OW02G/hRALDB4fF4ID8/Zq2iT4OQyWQcDqexsfH8+fNarXZsbAwC1xobG2tra2tqaoA0P7x94plZ1OUz5ucUYhMXlZ4jnmshXfQcERw64aaD2+3u7e0FDo6ioqKcnBzYiYadSrPZLBKJVCoV2TWwzwg73SKRKMJ5lphVEdw5YN6x2WyxWAzuusQ+0XimRuJ+Ca8SdYYdKqcjhK8WkqLniPdGMe3pxaDniKm4oGLAjgS8x8B+AsTXNpttenraYrFkZ2eTwYiw6eH1eiGhp7u7+/Tp06Ojozt37oTwVoFAgGEYGbuy8KFBRXMmGPXIVkOG2lp3ziVYTEdcSS6wSJ3l8/meffZZq9WanZ29YcMGuVw+OTkZDAZJdkSSlra0tFSj0Rw9elSv17/66qtisbimpqasrOwb3/jG0NDQ0aNHP/zww6GhoX/7t3/LysqK1ggCgWDr1q0Wi6W2tvaNN94YHx9XKpW33HILFVttlXlSKTLsMxiMoqIi2KL64osv/H4/yYMK5wPabLbu7u7t27eDQ47KUhioQPR6/a5du3784x+XlpaS+6QR2QPk7IvPgcVihUIhiH2BQOZw9tTUvCNrbc8lZndAVOhf//pXq9WqVqv3799fVVXFYDDKy8tHR0cHBwfb2tosFktZWRnpPLNarXa7nUajaTSa2trapA7SBaYGu90eCoWAZo+0/ik6TqifD4Hm5qRgsVgcDgdBEAKBAM7M1Wg0MpnM5/N1dHR88MEH3/ve9wQCAYiNwWCw2+29vb18Pn/fvn2//e1vJyYmioqKmpqa+Hw+DNWktA0CMtQQFh0ejycQCASDQZvN5nA4YJRGkNFD1D940fx+P8zuoPetViuTyRyaw+joqMPhgNDU8fHx0dFRkUgkk8ng+rq6OoPB0Nra+stf/rK+vp7NZpeXl3M4nKysLCD0ysnJgcAUsm6BQABmdCaTefvttzc1NV2/ft1kMr3wwgscDmf9+vVyuXztTNgEQczOAULISabZaDCZzKampvz8/Onp6dOnT4+Pj09OTsIGtMVi6e/vF4lEd955p1KpnJ6exnE8Wi/jOA55u4E5MBgMrVZ76dKl5uZml8vF5/NxHAfnDUQWi8ViMgJJLpcrFAqz2fzVV18FAoHq6urBwcHJycmZmRlgUOvq6oJNFr/fD08PJ1UPBoN+vz96ane73XANiOvq5taCF/f5fPDKfr8/PPCfIIixsbHLly+fP3/earUePHiwvLy8pKQEGO927tzp8Xhu3Lhx7ty5/v7+ffv2MRgMNptNEMSFCxf0ev26deu2bNmyc+dOOHcIuiAQCPj9/mgnKJwsAiYdpP7IZLKmpqZDhw4BRaLX6wWl4Xa7yW1WYFsF2w6IV3Ach8wAOOKMFDkcx6G7w72tfr8fQtrhenLJtzaX0zDYwYQCd3h469lstldeecVms/n9/sbGxl27dtFotNra2rGxMaVSqdfr33zzTa/XW1xcLJPJDAbD8PCww+HYs2dPeXk59On09LRAIIAUb1ARkJ+r0+kgGcXn84FsgFpAtHbIUENYuvHv8/kcDsfw8LDZbAaHx/T09PDwMPDrsFgsr9frcDgsFovRaHS5XARB6PV6rVabnZ0N5LR5eXmBQMDlcrW1tWVmZnq93ry8vOnpab1ePzQ0pFarKysryaSw0tLSycnJvr6+iooK2KMRi8VKpbKiooLNZhcVFQHpA0EQgUDA7XZPTU1BcKvX69Xr9UqlUiwWV1RUtLe3X7t27auvvnK5XBUVFWq1msFgxPMMrabOstlsvb29Op0OEv1mZmYGBgZyc3MFAkEEASyGYSqVasOGDTwer6OjY3R09OzZswaDAYLxIYUzNzfX6/VOTExAaufs7OzIyEhmZqZYLDYajcBRHgwGx8fHh4aGCgoK3G631WoF5jYcxyHFj8Ph8Pl8kUikVCrLysokEolAICgqKqqoqIBNbUgBhmh3YF7gcDhmsxkClicnJyFTGFhYR0dHCYKwWCwwx7tcrtHRUY1GQxCEyWRyuVxgNBiNRr1er9FoIrKDVw2CwaDT6fT5fOPj42azmSAIl8s1MDAAm5gwoCAayW6319fXb9++ff369WKxGHiwNBpNXV3djh07BgcHnU5nR0fH9PQ0OEsmJyeFQuHtt9/e0NCQnZ3t8XgMBsPY2BgYQ0CsAwsn8vy3sbExDoejUqlCoZDD4Zient68eXNjY2NBQYHNZpuYmHA4HGB7DQwMlJSU4Dg+PT0NOdoZGRm6OWRnZwM5Pqz0gOEWGB+cTid0t16vz87OFovFBoPBYrFAdzudzps3bxYUFIByWGsqGhbDMNLJpgNnGIPBgGafmZkZGhry+/11dXVNTU1lZWVAxVJWVrZt2zadTjc+Pn7hwgWdTqdUKn0+H4SsqdVqlUoFsad2ux14dHk8HuT5Op1Os9nc09MTCoX4fL7NZoM+Gh8fHx4ezs/PhwqgaXSlA3vqqadQKywecBwHmvj8/Pw777yTVN8Jbon+1Waz9fX1vfvuuzdu3JidnQXHFYZhIpEIJuCpqamenp4TJ050dHRMTk5CRKrT6ZRIJCqVCva8fD4f0B1B/lFWVpZCoRgbG/N4PGw2e+PGjSR9uVQqlcvloVDowIEDMM2T0VQNDQ2NjY05OTk0Gg2089jY2Jdffnn69GmCIHg8nkgkyszMhIQjj8fT0dFx48aNyclJHMeBXzuaPSTmi0fEvoRCIaPRODIycubMmccee0yhUERfk6DM6L+JAdf09fX19vbSaLSYx+PErG0oFJqZmenr63vzzTfb2tomJiYIggAbCDgUwg9yIFu1tLR027Zts7OzcJaXVqv1eDxqtfqRRx655ZZbJBJJe3v75cuXz549C5RmsFKXSqX//Oc/wVUDTA0mk6mqqgqMxQsXLmi12mvXrl25cqW5ufnChQunTp06efLk2bNnc3Jy+Hy+XC5XKpUymUyn0w0NDWm12pGRkVtvvbWgoODmzZtZWVmVlZUFBQVyudxisXzxxRfd3d1gKEgkEr/f39vbe/nyZb1eD2mDbDY7NzcXnHMnTpyAGCmYs8vLy8NDpBPHbvf391+9epUgiO985ztJ2fTJdm4E3G73mTNnvF4vj8fbu3dveKJMvJLBhw3+6U8++QTMrEAgYLFY2tvbW1pampub4UwtgUCwZcuWH/3oRxUVFXK5HFoDFkVZWVnbt293Op2ZmZkXL14cGhoaHBwEHpympqbvfve7ZWVldDp9amrq7NmzFy5cgJkeeLOAaOPTTz81GAyBQCAnJ8dgMOTn5+M4PjU1NTk5+f3vf7+mpobNZre2tp4/f761tTUUCrHZbBaLtW7dOp1O99VXX7W1tQ0PDzOZTKFQmJGRkZeXd/Lkyba2ts7OTvARqlSq0dHRnp6eCxcuBAIBJpMJQZBSqfTo0aOXL18eGxtjMBhAAldQUCASiaItg5itZzQaIUB+7969DQ0NCXoz2ZDBeD8NDw93dHRkZGSUl5dXVlYmdUTpvK9zZQ6nT58eHh4G9/bExMS1a9daWlpOz+Hs2bN5eXkymeynP/3pli1bsrKyQDPLZLKNGzfKZDJgMr85B7VafeDAgbvuuis3NxeoVeh0utvtNhqNY2NjkBOmUql4PJ5Op5uZmZmYmDCZTG1tbS6XC1KXnE6nSqWSy+VgN1MZgAk0cMSOQUtLy/j4OJ1O37dvH0gO9QGIkIrIob3ttK+uwj+7XK5//vOfTz311Pbt21966aVw5rOkFu7gVCc5NSCZC8iN4DxsuAAUBAQ/AakSk8kk9zVgFwzS+IGAh/wm/PAAsC1wHOdwOOTiGAoBwwIUMckOBdmjZK0gTQGcSeCZhw0d4FSjmAQaEUQcDAY7OjpOnTr15JNPdnV1VVRUpBb8ROUu8ukfffTRhx9+mJGR8cMf/nDbtm3zJp2Rref3+30+H/QaSaLBYrGAeyym4gNjzu/3kxtYTCYT2InBXwLuLtgtBTAYDGh52KaEb9hs9uDg4NWrV41GIxyxStZqenp6cnKyp6fnj3/8489+9rOHH34YFhLkbiZQMdFoNK/XS5IvgACA8JCXgSOH3O+Db8C4wXEc8tegSiwWi3wLKm6Jjz766A9/+EMgEDh+/Hj0uUkL6dbEA9ZsNj/55JOzs7NyufzZZ58lszcSlwybXLAFHN4+JHswjCkYMnA2V8SJ2lAC9DtQLZDcGXALXANCBb0ANwJplt/vv++++65duyYQCLq6usjkYrie5KOHe4E0EQYph8OBa+AnktAB3D8gb7CPCUEOMMyhhuRYhsvAcGQwGGQJES0Wsw2DwWBnZ+eZM2d+9atfPfPMM48++ugSaOaTJ0+++uqrGRkZhw4dOnLkSBo9fxBtArvSsP0dzaBEUkyDKgj/CXqfHIkw9ML5VuDsL7gASmAymaTgkdR3UA5oCdA5wI6bmp6MJ/x+v/+FF15oaWnBMOz555+PjldG5hra+lz2lm+cnLLwrM/Eqj/6VzLNPt4TyTyvmE8PhULk0c5UKg/6hZwkwomaIt6RnIwhADaizmw2WygURrxyAm/KvNlkEfluFBszQulQd7okWNZHRAeGX0nOZInFI7xWZIPHaxPQubByDQd3DtE2XygU4vF4mZmZ5BGrMOl6PB4ulwvTCTRjTMGIrjwcchBRq4hc1P9focxxqCYYFPHYE6IJ21JIvaRohccbRPESKhPfBXYqxXkuWshJ8z3BU+C4CC6XG1Ey2OggdVwulywHTMNwtg4YjBElhzsOyZJBDqMvjq4hrCXmzaKN/iZiyEQ0eMQ7JkuVQt3FnppJEa9bYZBSvyv8XzDK4xFPwpfRQzUUCpEiQX1oxLs+sQaOFvvoUYPY2pChtlI9ajF51BJ7MZP1cSamqloI61i82ibLMJKAX4pK08VsSYq0atFXUsxVpE5Tl2zJ1O9KlgkJx/H333//6NGjV65cee+998rLy0mfAZ1Oh1Mr4OAggUCQslZNgdEgQdNFt0ZEpyclusl2QXh3RzPJJVsylUkuAfVUskuIeCol+unJlpzsKpRKCyclEjGHf2pKLIEqSDlrNYW7ElO7JW78eI+juPKMlhDqHGkJhmoEjw91xjsEZKitTo9asp7qNG4LRnwZfQ11nxb1p0ffFb3+plJytEdtgU4XirVN7R0X0nqAYDB448aNkZERm83W2trK5XLLyspIR53RaBwYGOjs7HzggQeqqqrILbb0ihkVytO0e9QW0rnkQ2N61Jayc6m4OqLdw7DlClEWLBYLPKwpi33i+ixc7Km4l1aiRy2FV14MPblIYhZPEyKPGjLUEBCWo9m9zGsL2QZCobCtrY3FYjkcDqFQCCEsZFLwgQMHFAoFIqhcoQAfBmSYGo1GSLj2+/2Dg4NcLjcvLw9SAlFDISAgQw0BAWF5gc1mP/744/X19SdPnoR8z2AwWFJSwmAwpFJpXV1ddXX1gQMHuFzumiW7WjXwer1arfaTTz4xmUwQ3/3nP/9ZLBbff//91dXVyFBDQECGGgICwvIChJzLZLLt27dXVFTYbDbYEQOzjMlkiuYANAqouVZ0R4NRXlxc/J3vfGf37t1+vx/DMLlczmKxVCpVgpB2BAQEZKghICB8nVM4i8VSzCFByiHa9FwFwDBMIpGIxeKSkpKFH/WIgICADLU1hIjEmYhUsnkPZUt5Bo2ZqpZyzRN8TyWDL+LXZM8NjJmmFN2S1PNnKV4f8fSIDMR4zZtyviFFYUi2K6kwoaRWMhUxm7fMeZPyUsjIS03M4nV3dB0WLsBU6kwlITriGN+YR61HJzYmJfZJjf3U0mzj5XGnRZstdtbnQsRssfVk2sVsXgUSnvWZmH8AARlqy8urEfFvTMoZ6iVQHLoReftpZNyelwQrWYaOxK8Q866YSXkUGzOatIliOySgeqLO4h2vrSjyuqXA971kJVNJj01KzBbIo5aCmEWM03g8agsXYIp1ToHgal7XaWpiP+9gT6HkeIIUk0ctNW22BFmfKYvZEujJxRMzipMaMtEWCSimGAEhnUYzAgICAgICMtQQEBAQEBAQEJChhoCAgICAgICAgAw1BAQEBAQEBAQEZKghICAgICAgICBDDQEBAQEBAQEBARlqCAgICAgICAjIUENAQEBAQEBAQECGGgICAgICAgICMtQQEBAQEBAQEBCQoYaAgICAgICAgIAMNQQEBAQEBAQEZKghICAgICAgICAgQw0BISMUCq2yByEgICAgIMQEAzXBYs/x8CH0L0RfQ6PR5rUS4l2T4HFpLBmuiS452o5JzbJJXHLMV0vZ0iJfJ+2WWbIlU39WRBdQF4Z5xSziyq9RzMhbwh9BpeSFi1l0c8Gjk+qgeYdGyl2flEgvUMyiP1AvObGYUWmW1MQsQZ1jVjX6cxoF+GvUk9FvlF4xo9KSCIsE5FFbLJADGz7Q/oWIaxKMf1oYUnvcYpccfTvtvyOptopXclKvFq/yFBVudAel0ONpqUm8Lkiqy+a9K9n+Wjwxi64qxZIXLmbxmitdApysqCQrNjEHS1rELKmSE4tZagJMfcgn7rV4L5J2Af4a9WRSIyhl7ZSgJdGkjzxqq8HBFtOpli6PTkTJKZRDZQk1778JloCpLaNT9qWlq9diehRSq1tMz026Wu9rKTkFV0FiMZu35ks2VNMrwFS6IMH1iUuO+W/4LdSFM6nBnlTJ6VJ0ae/rRbrla9GTiypmyHmGDLXVD4/HYzQaWSzWvBtkKSxNyJ0a0uOdciGJv4y+hsrrUKlPhEkUcVcwGDSbzQ6HY4l1RCgU8nq9VqvVYDDEa4d0veNCWi/Zu9JSMhWBoS5m8HdmZgbHcTr96/H0+/1+t9ttNBp5PN7Sd2686xOXHG9IRv9NVmwSD/bUWob8hiAIi8Vit9sJgljiEe3z+WZmZgwGA51OT5eepPLKS6AnF0/MwhEIBOx2u8/nYzCQ/YAMtVUBUtD1ev3Ro0dBshOYPtH/JhU5FD6DUgmZSmyExavevNo8qZrEnF0iWo8gCJ1O19/fv8TdFwgEDAZDc3Oz2WxOu6EW8Y4LUbIJhIFKP6ZRzOYV4MQhRNevX7darXK5/GtxrjgcjpmZmS+//JLFYqVXgNM4g0aUPK+hNm9NokuO99bzCvC8OoQsORQKjY+P9/f3B4PBpexlgiBMJlN7ezt9DunSk6lZvWnXk6lZ9slqp2Aw2Nvba7Va+Xw+muKRobYaQKfTZTIZi8UaGBh4+eWX0UZ+yvB6vR6PR6FQYBi2NE/kcrkCgWB4eNhisZAuFoRFhd1ux3G8uLh4iUcKjNMbN24MDQ1ZrVY0TpdmRHu9XrFYzOVyl+aJHA5HIpG0trZOTEy0tLSgLkgZVquVw+E0NjYumTZGhhrCIgLDMLVafcstt+h0uiV28q9CYWUwpFLpki3jlEpldXX11NRUIBBAjb80UKlUQqGwurp6iScAFotVXl7ucDgEAgHqhaUc0TKZLDs7e2keJ5PJqqurrVar0+lEgVYLgVqtFovFVVVVbDYbtcYSgIbkdbERHVWa9hi1hd+b3si2iF/THmVFMfhmgcE6Cd4xjcE6aW+95VDywsUs7WF583ZBvJj3JQsTTG1PbelLTrY3qVyTeF8+KWqMRSLfWYl6cmmEISntioAMteVoliEgICAgIKwhqwKZa+kG2vpcOhlNbc2awtJq9WV9Lnw1udzS31DWZ1JitvBXXv4CvKayPqm3THo9agsRs2Q9UqtJzNKlXRFSAyK8RUBAQEBAQEBYrg4gtFWXdqAmRUBAQEBYiyYFcqotAtDWZzrh9/u9Xu9as0oXeyc37SUv/JrlVvJi9N2qEcLVJ8Crb9AhPblqhIHP539dhNWrGP9fAAAA//+ioDw0elssWQAAAABJRU5ErkJggg==)\n",
        "\n",
        "\n",
        "Documentation at https://scikit-learn.org/stable/modules/generated/sklearn.tree.DecisionTreeClassifier.html"
      ]
    },
    {
      "cell_type": "code",
      "metadata": {
        "colab": {
          "base_uri": "https://localhost:8080/"
        },
        "id": "ml8yduIQy1-p",
        "outputId": "20271176-74a3-41ef-bbc8-cc8c577c455c"
      },
      "source": [
        "from sklearn.tree import DecisionTreeClassifier\n",
        "\n",
        "# create the model object\n",
        "dt = DecisionTreeClassifier(max_depth=3) # max-depth controls the maximum depth of the tree\n",
        "\n",
        "# fit the model on train data\n",
        "dt.fit(iris_train_features, iris_train_label)"
      ],
      "execution_count": null,
      "outputs": [
        {
          "output_type": "execute_result",
          "data": {
            "text/plain": [
              "DecisionTreeClassifier(ccp_alpha=0.0, class_weight=None, criterion='gini',\n",
              "                       max_depth=3, max_features=None, max_leaf_nodes=None,\n",
              "                       min_impurity_decrease=0.0, min_impurity_split=None,\n",
              "                       min_samples_leaf=1, min_samples_split=2,\n",
              "                       min_weight_fraction_leaf=0.0, presort='deprecated',\n",
              "                       random_state=None, splitter='best')"
            ]
          },
          "metadata": {
            "tags": []
          },
          "execution_count": 47
        }
      ]
    },
    {
      "cell_type": "code",
      "metadata": {
        "colab": {
          "base_uri": "https://localhost:8080/",
          "height": 197
        },
        "id": "lcx_kxRzu7Rn",
        "outputId": "586b854c-c085-4d6f-c1d3-460ed6a3f3b9"
      },
      "source": [
        "#Predictions on the Test data\n",
        "predictions_dt = dt.predict(iris_test_features)\n",
        "\n",
        "#Putting the above predictions and probabilities together to create a readable df\n",
        "iris_pred_label = pd.DataFrame(predictions_dt.reshape(len(predictions_dt),1))\n",
        "iris_pred_label.rename(columns={0:'dt_prediction'}, inplace=True)\n",
        "iris_pred_label.head(5)"
      ],
      "execution_count": null,
      "outputs": [
        {
          "output_type": "execute_result",
          "data": {
            "text/html": [
              "<div>\n",
              "<style scoped>\n",
              "    .dataframe tbody tr th:only-of-type {\n",
              "        vertical-align: middle;\n",
              "    }\n",
              "\n",
              "    .dataframe tbody tr th {\n",
              "        vertical-align: top;\n",
              "    }\n",
              "\n",
              "    .dataframe thead th {\n",
              "        text-align: right;\n",
              "    }\n",
              "</style>\n",
              "<table border=\"1\" class=\"dataframe\">\n",
              "  <thead>\n",
              "    <tr style=\"text-align: right;\">\n",
              "      <th></th>\n",
              "      <th>dt_prediction</th>\n",
              "    </tr>\n",
              "  </thead>\n",
              "  <tbody>\n",
              "    <tr>\n",
              "      <th>0</th>\n",
              "      <td>Versicolor</td>\n",
              "    </tr>\n",
              "    <tr>\n",
              "      <th>1</th>\n",
              "      <td>Virginica</td>\n",
              "    </tr>\n",
              "    <tr>\n",
              "      <th>2</th>\n",
              "      <td>Versicolor</td>\n",
              "    </tr>\n",
              "    <tr>\n",
              "      <th>3</th>\n",
              "      <td>Versicolor</td>\n",
              "    </tr>\n",
              "    <tr>\n",
              "      <th>4</th>\n",
              "      <td>Versicolor</td>\n",
              "    </tr>\n",
              "  </tbody>\n",
              "</table>\n",
              "</div>"
            ],
            "text/plain": [
              "  dt_prediction\n",
              "0    Versicolor\n",
              "1     Virginica\n",
              "2    Versicolor\n",
              "3    Versicolor\n",
              "4    Versicolor"
            ]
          },
          "metadata": {
            "tags": []
          },
          "execution_count": 58
        }
      ]
    },
    {
      "cell_type": "code",
      "metadata": {
        "colab": {
          "base_uri": "https://localhost:8080/",
          "height": 197
        },
        "id": "TwxfNWO4v7UW",
        "outputId": "2bfae94e-8849-4c11-8d78-db3398e84604"
      },
      "source": [
        "#Concat the predictions of linear regression to the test dataset\n",
        "iris_test_pred = pd.concat([iris_test_label, iris_pred_label], axis=1)\n",
        "iris_test_pred.head()"
      ],
      "execution_count": null,
      "outputs": [
        {
          "output_type": "execute_result",
          "data": {
            "text/html": [
              "<div>\n",
              "<style scoped>\n",
              "    .dataframe tbody tr th:only-of-type {\n",
              "        vertical-align: middle;\n",
              "    }\n",
              "\n",
              "    .dataframe tbody tr th {\n",
              "        vertical-align: top;\n",
              "    }\n",
              "\n",
              "    .dataframe thead th {\n",
              "        text-align: right;\n",
              "    }\n",
              "</style>\n",
              "<table border=\"1\" class=\"dataframe\">\n",
              "  <thead>\n",
              "    <tr style=\"text-align: right;\">\n",
              "      <th></th>\n",
              "      <th>variety</th>\n",
              "      <th>dt_prediction</th>\n",
              "    </tr>\n",
              "  </thead>\n",
              "  <tbody>\n",
              "    <tr>\n",
              "      <th>0</th>\n",
              "      <td>Virginica</td>\n",
              "      <td>Versicolor</td>\n",
              "    </tr>\n",
              "    <tr>\n",
              "      <th>1</th>\n",
              "      <td>Virginica</td>\n",
              "      <td>Virginica</td>\n",
              "    </tr>\n",
              "    <tr>\n",
              "      <th>2</th>\n",
              "      <td>Virginica</td>\n",
              "      <td>Versicolor</td>\n",
              "    </tr>\n",
              "    <tr>\n",
              "      <th>3</th>\n",
              "      <td>Versicolor</td>\n",
              "      <td>Versicolor</td>\n",
              "    </tr>\n",
              "    <tr>\n",
              "      <th>4</th>\n",
              "      <td>Versicolor</td>\n",
              "      <td>Versicolor</td>\n",
              "    </tr>\n",
              "  </tbody>\n",
              "</table>\n",
              "</div>"
            ],
            "text/plain": [
              "      variety dt_prediction\n",
              "0   Virginica    Versicolor\n",
              "1   Virginica     Virginica\n",
              "2   Virginica    Versicolor\n",
              "3  Versicolor    Versicolor\n",
              "4  Versicolor    Versicolor"
            ]
          },
          "metadata": {
            "tags": []
          },
          "execution_count": 61
        }
      ]
    },
    {
      "cell_type": "markdown",
      "metadata": {
        "id": "7izWZWA3RPVP"
      },
      "source": [
        "#### Model Evaluation"
      ]
    },
    {
      "cell_type": "code",
      "metadata": {
        "colab": {
          "base_uri": "https://localhost:8080/"
        },
        "id": "MkC_0lypy1-p",
        "outputId": "1e636d91-4018-4b62-b125-be7bb873919e"
      },
      "source": [
        "# Accuracy score\n",
        "from sklearn.metrics import accuracy_score\n",
        "print('accuracy is',accuracy_score(iris_test_label, iris_pred_label)*100.0, \"%\")"
      ],
      "execution_count": null,
      "outputs": [
        {
          "output_type": "stream",
          "text": [
            "accuracy is 90.0 %\n"
          ],
          "name": "stdout"
        }
      ]
    },
    {
      "cell_type": "markdown",
      "metadata": {
        "id": "BKXyE3hQRcZP"
      },
      "source": [
        "Confusion Matrix: A table used to describe the performance of a classification model (or \"classifier\") on a set of test data for which the true values are known."
      ]
    },
    {
      "cell_type": "code",
      "metadata": {
        "colab": {
          "base_uri": "https://localhost:8080/",
          "height": 310
        },
        "id": "c55aVlJ9Qd8k",
        "outputId": "1111d329-5151-40cb-8bfe-8ca172298175"
      },
      "source": [
        "# Creates a confusion matrix\n",
        "cm = metrics.confusion_matrix(iris_test_label, iris_pred_label) \n",
        "\n",
        "# Transform to df for easier plotting\n",
        "cm_df = pd.DataFrame(cm,\n",
        "                     index = ['setosa','versicolor','virginica'], \n",
        "                     columns = ['setosa','versicolor','virginica'])\n",
        "\n",
        "plt.figure(figsize=(5.5,4))\n",
        "sns.heatmap(cm_df, annot=True)\n",
        "plt.title('Decision Tree \\nAccuracy:{0:.3f}'.format(accuracy_score(iris_test_label, iris_pred_label)))\n",
        "plt.ylabel('True label')\n",
        "plt.xlabel('Predicted label')\n",
        "plt.show()"
      ],
      "execution_count": null,
      "outputs": [
        {
          "output_type": "display_data",
          "data": {
            "image/png": "[encoded data removed]",
            "text/plain": [
              "<Figure size 396x288 with 2 Axes>"
            ]
          },
          "metadata": {
            "tags": [],
            "needs_background": "light"
          }
        }
      ]
    },
    {
      "cell_type": "code",
      "metadata": {
        "colab": {
          "base_uri": "https://localhost:8080/",
          "height": 597
        },
        "id": "NOfGAr8My1-p",
        "outputId": "3afc590b-1a76-48f8-bccf-3d7e67baa393"
      },
      "source": [
        "from sklearn import tree\n",
        "import graphviz\n",
        "# DOT data\n",
        "dot_data = tree.export_graphviz(dt, out_file=None, \n",
        "                                feature_names=iris_features,  \n",
        "                                class_names=['setosa', 'versicolor', 'verginica'],\n",
        "                                filled=True)\n",
        "\n",
        "# Draw graph\n",
        "graph = graphviz.Source(dot_data, format=\"png\") \n",
        "graph"
      ],
      "execution_count": null,
      "outputs": [
        {
          "output_type": "execute_result",
          "data": {
            "text/plain": [
              "<graphviz.files.Source at 0x7f22980ef748>"
            ],
            "image/svg+xml": "<?xml version=\"1.0\" encoding=\"UTF-8\" standalone=\"no\"?>\n<!DOCTYPE svg PUBLIC \"-//W3C//DTD SVG 1.1//EN\"\n \"http://www.w3.org/Graphics/SVG/1.1/DTD/svg11.dtd\">\n<!-- Generated by graphviz version 2.40.1 (20161225.0304)\n -->\n<!-- Title: Tree Pages: 1 -->\n<svg width=\"535pt\" height=\"433pt\"\n viewBox=\"0.00 0.00 535.00 433.00\" xmlns=\"http://www.w3.org/2000/svg\" xmlns:xlink=\"http://www.w3.org/1999/xlink\">\n<g id=\"graph0\" class=\"graph\" transform=\"scale(1 1) rotate(0) translate(4 429)\">\n<title>Tree</title>\n<polygon fill=\"#ffffff\" stroke=\"transparent\" points=\"-4,4 -4,-429 531,-429 531,4 -4,4\"/>\n<!-- 0 -->\n<g id=\"node1\" class=\"node\">\n<title>0</title>\n<polygon fill=\"#faf8fe\" stroke=\"#000000\" points=\"259.5,-425 125.5,-425 125.5,-342 259.5,-342 259.5,-425\"/>\n<text text-anchor=\"middle\" x=\"192.5\" y=\"-409.8\" font-family=\"Times,serif\" font-size=\"14.00\" fill=\"#000000\">petal.length &lt;= 2.45</text>\n<text text-anchor=\"middle\" x=\"192.5\" y=\"-394.8\" font-family=\"Times,serif\" font-size=\"14.00\" fill=\"#000000\">gini = 0.666</text>\n<text text-anchor=\"middle\" x=\"192.5\" y=\"-379.8\" font-family=\"Times,serif\" font-size=\"14.00\" fill=\"#000000\">samples = 120</text>\n<text text-anchor=\"middle\" x=\"192.5\" y=\"-364.8\" font-family=\"Times,serif\" font-size=\"14.00\" fill=\"#000000\">value = [39, 39, 42]</text>\n<text text-anchor=\"middle\" x=\"192.5\" y=\"-349.8\" font-family=\"Times,serif\" font-size=\"14.00\" fill=\"#000000\">class = verginica</text>\n</g>\n<!-- 1 -->\n<g id=\"node2\" class=\"node\">\n<title>1</title>\n<polygon fill=\"#e58139\" stroke=\"#000000\" points=\"180,-298.5 63,-298.5 63,-230.5 180,-230.5 180,-298.5\"/>\n<text text-anchor=\"middle\" x=\"121.5\" y=\"-283.3\" font-family=\"Times,serif\" font-size=\"14.00\" fill=\"#000000\">gini = 0.0</text>\n<text text-anchor=\"middle\" x=\"121.5\" y=\"-268.3\" font-family=\"Times,serif\" font-size=\"14.00\" fill=\"#000000\">samples = 39</text>\n<text text-anchor=\"middle\" x=\"121.5\" y=\"-253.3\" font-family=\"Times,serif\" font-size=\"14.00\" fill=\"#000000\">value = [39, 0, 0]</text>\n<text text-anchor=\"middle\" x=\"121.5\" y=\"-238.3\" font-family=\"Times,serif\" font-size=\"14.00\" fill=\"#000000\">class = setosa</text>\n</g>\n<!-- 0&#45;&gt;1 -->\n<g id=\"edge1\" class=\"edge\">\n<title>0&#45;&gt;1</title>\n<path fill=\"none\" stroke=\"#000000\" d=\"M167.6676,-341.8796C161.0413,-330.7735 153.8684,-318.7513 147.1967,-307.5691\"/>\n<polygon fill=\"#000000\" stroke=\"#000000\" points=\"150.1031,-305.6093 141.9736,-298.8149 144.0917,-309.1959 150.1031,-305.6093\"/>\n<text text-anchor=\"middle\" x=\"135.8502\" y=\"-319.3534\" font-family=\"Times,serif\" font-size=\"14.00\" fill=\"#000000\">True</text>\n</g>\n<!-- 2 -->\n<g id=\"node3\" class=\"node\">\n<title>2</title>\n<polygon fill=\"#f6f1fd\" stroke=\"#000000\" points=\"329,-306 198,-306 198,-223 329,-223 329,-306\"/>\n<text text-anchor=\"middle\" x=\"263.5\" y=\"-290.8\" font-family=\"Times,serif\" font-size=\"14.00\" fill=\"#000000\">petal.width &lt;= 1.75</text>\n<text text-anchor=\"middle\" x=\"263.5\" y=\"-275.8\" font-family=\"Times,serif\" font-size=\"14.00\" fill=\"#000000\">gini = 0.499</text>\n<text text-anchor=\"middle\" x=\"263.5\" y=\"-260.8\" font-family=\"Times,serif\" font-size=\"14.00\" fill=\"#000000\">samples = 81</text>\n<text text-anchor=\"middle\" x=\"263.5\" y=\"-245.8\" font-family=\"Times,serif\" font-size=\"14.00\" fill=\"#000000\">value = [0, 39, 42]</text>\n<text text-anchor=\"middle\" x=\"263.5\" y=\"-230.8\" font-family=\"Times,serif\" font-size=\"14.00\" fill=\"#000000\">class = verginica</text>\n</g>\n<!-- 0&#45;&gt;2 -->\n<g id=\"edge2\" class=\"edge\">\n<title>0&#45;&gt;2</title>\n<path fill=\"none\" stroke=\"#000000\" d=\"M217.3324,-341.8796C222.4909,-333.2335 227.9808,-324.0322 233.3076,-315.1042\"/>\n<polygon fill=\"#000000\" stroke=\"#000000\" points=\"236.4436,-316.679 238.5617,-306.2981 230.4322,-313.0924 236.4436,-316.679\"/>\n<text text-anchor=\"middle\" x=\"244.6851\" y=\"-326.8366\" font-family=\"Times,serif\" font-size=\"14.00\" fill=\"#000000\">False</text>\n</g>\n<!-- 3 -->\n<g id=\"node4\" class=\"node\">\n<title>3</title>\n<polygon fill=\"#49e78b\" stroke=\"#000000\" points=\"254.5,-187 120.5,-187 120.5,-104 254.5,-104 254.5,-187\"/>\n<text text-anchor=\"middle\" x=\"187.5\" y=\"-171.8\" font-family=\"Times,serif\" font-size=\"14.00\" fill=\"#000000\">petal.length &lt;= 4.95</text>\n<text text-anchor=\"middle\" x=\"187.5\" y=\"-156.8\" font-family=\"Times,serif\" font-size=\"14.00\" fill=\"#000000\">gini = 0.136</text>\n<text text-anchor=\"middle\" x=\"187.5\" y=\"-141.8\" font-family=\"Times,serif\" font-size=\"14.00\" fill=\"#000000\">samples = 41</text>\n<text text-anchor=\"middle\" x=\"187.5\" y=\"-126.8\" font-family=\"Times,serif\" font-size=\"14.00\" fill=\"#000000\">value = [0, 38, 3]</text>\n<text text-anchor=\"middle\" x=\"187.5\" y=\"-111.8\" font-family=\"Times,serif\" font-size=\"14.00\" fill=\"#000000\">class = versicolor</text>\n</g>\n<!-- 2&#45;&gt;3 -->\n<g id=\"edge3\" class=\"edge\">\n<title>2&#45;&gt;3</title>\n<path fill=\"none\" stroke=\"#000000\" d=\"M236.9189,-222.8796C231.3395,-214.1434 225.3981,-204.8404 219.6405,-195.8253\"/>\n<polygon fill=\"#000000\" stroke=\"#000000\" points=\"222.5269,-193.8421 214.1946,-187.2981 216.6274,-197.6098 222.5269,-193.8421\"/>\n</g>\n<!-- 6 -->\n<g id=\"node7\" class=\"node\">\n<title>6</title>\n<polygon fill=\"#843ee6\" stroke=\"#000000\" points=\"406.5,-187 272.5,-187 272.5,-104 406.5,-104 406.5,-187\"/>\n<text text-anchor=\"middle\" x=\"339.5\" y=\"-171.8\" font-family=\"Times,serif\" font-size=\"14.00\" fill=\"#000000\">petal.length &lt;= 4.85</text>\n<text text-anchor=\"middle\" x=\"339.5\" y=\"-156.8\" font-family=\"Times,serif\" font-size=\"14.00\" fill=\"#000000\">gini = 0.049</text>\n<text text-anchor=\"middle\" x=\"339.5\" y=\"-141.8\" font-family=\"Times,serif\" font-size=\"14.00\" fill=\"#000000\">samples = 40</text>\n<text text-anchor=\"middle\" x=\"339.5\" y=\"-126.8\" font-family=\"Times,serif\" font-size=\"14.00\" fill=\"#000000\">value = [0, 1, 39]</text>\n<text text-anchor=\"middle\" x=\"339.5\" y=\"-111.8\" font-family=\"Times,serif\" font-size=\"14.00\" fill=\"#000000\">class = verginica</text>\n</g>\n<!-- 2&#45;&gt;6 -->\n<g id=\"edge6\" class=\"edge\">\n<title>2&#45;&gt;6</title>\n<path fill=\"none\" stroke=\"#000000\" d=\"M290.0811,-222.8796C295.6605,-214.1434 301.6019,-204.8404 307.3595,-195.8253\"/>\n<polygon fill=\"#000000\" stroke=\"#000000\" points=\"310.3726,-197.6098 312.8054,-187.2981 304.4731,-193.8421 310.3726,-197.6098\"/>\n</g>\n<!-- 4 -->\n<g id=\"node5\" class=\"node\">\n<title>4</title>\n<polygon fill=\"#3ee684\" stroke=\"#000000\" points=\"117,-68 0,-68 0,0 117,0 117,-68\"/>\n<text text-anchor=\"middle\" x=\"58.5\" y=\"-52.8\" font-family=\"Times,serif\" font-size=\"14.00\" fill=\"#000000\">gini = 0.053</text>\n<text text-anchor=\"middle\" x=\"58.5\" y=\"-37.8\" font-family=\"Times,serif\" font-size=\"14.00\" fill=\"#000000\">samples = 37</text>\n<text text-anchor=\"middle\" x=\"58.5\" y=\"-22.8\" font-family=\"Times,serif\" font-size=\"14.00\" fill=\"#000000\">value = [0, 36, 1]</text>\n<text text-anchor=\"middle\" x=\"58.5\" y=\"-7.8\" font-family=\"Times,serif\" font-size=\"14.00\" fill=\"#000000\">class = versicolor</text>\n</g>\n<!-- 3&#45;&gt;4 -->\n<g id=\"edge4\" class=\"edge\">\n<title>3&#45;&gt;4</title>\n<path fill=\"none\" stroke=\"#000000\" d=\"M139.4652,-103.9815C128.513,-94.5151 116.8821,-84.462 105.9544,-75.0168\"/>\n<polygon fill=\"#000000\" stroke=\"#000000\" points=\"107.9957,-72.155 98.1414,-68.2637 103.4182,-77.4509 107.9957,-72.155\"/>\n</g>\n<!-- 5 -->\n<g id=\"node6\" class=\"node\">\n<title>5</title>\n<polygon fill=\"#ffffff\" stroke=\"#000000\" points=\"250,-68 135,-68 135,0 250,0 250,-68\"/>\n<text text-anchor=\"middle\" x=\"192.5\" y=\"-52.8\" font-family=\"Times,serif\" font-size=\"14.00\" fill=\"#000000\">gini = 0.5</text>\n<text text-anchor=\"middle\" x=\"192.5\" y=\"-37.8\" font-family=\"Times,serif\" font-size=\"14.00\" fill=\"#000000\">samples = 4</text>\n<text text-anchor=\"middle\" x=\"192.5\" y=\"-22.8\" font-family=\"Times,serif\" font-size=\"14.00\" fill=\"#000000\">value = [0, 2, 2]</text>\n<text text-anchor=\"middle\" x=\"192.5\" y=\"-7.8\" font-family=\"Times,serif\" font-size=\"14.00\" fill=\"#000000\">class = versicolor</text>\n</g>\n<!-- 3&#45;&gt;5 -->\n<g id=\"edge5\" class=\"edge\">\n<title>3&#45;&gt;5</title>\n<path fill=\"none\" stroke=\"#000000\" d=\"M189.3618,-103.9815C189.7369,-95.618 190.1324,-86.7965 190.5116,-78.3409\"/>\n<polygon fill=\"#000000\" stroke=\"#000000\" points=\"194.0119,-78.4105 190.9635,-68.2637 187.019,-78.0968 194.0119,-78.4105\"/>\n</g>\n<!-- 7 -->\n<g id=\"node8\" class=\"node\">\n<title>7</title>\n<polygon fill=\"#ffffff\" stroke=\"#000000\" points=\"392,-68 277,-68 277,0 392,0 392,-68\"/>\n<text text-anchor=\"middle\" x=\"334.5\" y=\"-52.8\" font-family=\"Times,serif\" font-size=\"14.00\" fill=\"#000000\">gini = 0.5</text>\n<text text-anchor=\"middle\" x=\"334.5\" y=\"-37.8\" font-family=\"Times,serif\" font-size=\"14.00\" fill=\"#000000\">samples = 2</text>\n<text text-anchor=\"middle\" x=\"334.5\" y=\"-22.8\" font-family=\"Times,serif\" font-size=\"14.00\" fill=\"#000000\">value = [0, 1, 1]</text>\n<text text-anchor=\"middle\" x=\"334.5\" y=\"-7.8\" font-family=\"Times,serif\" font-size=\"14.00\" fill=\"#000000\">class = versicolor</text>\n</g>\n<!-- 6&#45;&gt;7 -->\n<g id=\"edge7\" class=\"edge\">\n<title>6&#45;&gt;7</title>\n<path fill=\"none\" stroke=\"#000000\" d=\"M337.6382,-103.9815C337.2631,-95.618 336.8676,-86.7965 336.4884,-78.3409\"/>\n<polygon fill=\"#000000\" stroke=\"#000000\" points=\"339.981,-78.0968 336.0365,-68.2637 332.9881,-78.4105 339.981,-78.0968\"/>\n</g>\n<!-- 8 -->\n<g id=\"node9\" class=\"node\">\n<title>8</title>\n<polygon fill=\"#8139e5\" stroke=\"#000000\" points=\"527,-68 410,-68 410,0 527,0 527,-68\"/>\n<text text-anchor=\"middle\" x=\"468.5\" y=\"-52.8\" font-family=\"Times,serif\" font-size=\"14.00\" fill=\"#000000\">gini = 0.0</text>\n<text text-anchor=\"middle\" x=\"468.5\" y=\"-37.8\" font-family=\"Times,serif\" font-size=\"14.00\" fill=\"#000000\">samples = 38</text>\n<text text-anchor=\"middle\" x=\"468.5\" y=\"-22.8\" font-family=\"Times,serif\" font-size=\"14.00\" fill=\"#000000\">value = [0, 0, 38]</text>\n<text text-anchor=\"middle\" x=\"468.5\" y=\"-7.8\" font-family=\"Times,serif\" font-size=\"14.00\" fill=\"#000000\">class = verginica</text>\n</g>\n<!-- 6&#45;&gt;8 -->\n<g id=\"edge8\" class=\"edge\">\n<title>6&#45;&gt;8</title>\n<path fill=\"none\" stroke=\"#000000\" d=\"M387.5348,-103.9815C398.487,-94.5151 410.1179,-84.462 421.0456,-75.0168\"/>\n<polygon fill=\"#000000\" stroke=\"#000000\" points=\"423.5818,-77.4509 428.8586,-68.2637 419.0043,-72.155 423.5818,-77.4509\"/>\n</g>\n</g>\n</svg>\n"
          },
          "metadata": {
            "tags": []
          },
          "execution_count": 65
        }
      ]
    },
    {
      "cell_type": "markdown",
      "metadata": {
        "id": "rwJAOJ6Ey1-p"
      },
      "source": [
        "### Regression Model Walkthrough"
      ]
    },
    {
      "cell_type": "markdown",
      "metadata": {
        "id": "Zi6T0fRSy1-p"
      },
      "source": [
        "Data: The Boston Housing Dataset is a derived from information collected by the U.S. Census Service concerning housing in the area of Boston MA. \n",
        "\n",
        "The following describes the dataset columns:\n",
        "\n",
        "CRIM - per capita crime rate by town\n",
        "\n",
        "ZN - proportion of residential land zoned for lots over 25,000 sq.ft.\n",
        "\n",
        "INDUS - proportion of non-retail business acres per town.\n",
        "\n",
        "CHAS - Charles River dummy variable (1 if tract bounds river; 0 otherwise)\n",
        "\n",
        "NOX - nitric oxides concentration (parts per 10 million)\n",
        "\n",
        "RM - average number of rooms per dwelling\n",
        "\n",
        "AGE - proportion of owner-occupied units built prior to 1940\n",
        "\n",
        "DIS - weighted distances to five Boston employment centres\n",
        "\n",
        "RAD - index of accessibility to radial highways\n",
        "\n",
        "TAX - full-value property-tax rate per $10,000\n",
        "\n",
        "PTRATIO - pupil-teacher ratio by town\n",
        "\n",
        "B - 1000(Bk - 0.63)^2 where Bk is the proportion of blacks by town\n",
        "\n",
        "LSTAT - % lower status of the population\n",
        "\n",
        "MEDV - Median value of owner-occupied homes in $1000's"
      ]
    },
    {
      "cell_type": "markdown",
      "metadata": {
        "id": "dV1kUsBYE7jB"
      },
      "source": [
        "**Getting the Data**"
      ]
    },
    {
      "cell_type": "code",
      "metadata": {
        "colab": {
          "base_uri": "https://localhost:8080/",
          "height": 215
        },
        "id": "KP5i6c4yBsgC",
        "outputId": "be210b50-0ef4-4675-d1c5-5ea656c81d36"
      },
      "source": [
        "#BOSTON DATASET\n",
        "import pandas as pd\n",
        "from sklearn import datasets\n",
        "\n",
        "boston_raw = datasets.load_boston()\n",
        "\n",
        "#boston_raw is of sklearn internal datatype. Converting it to pandas dataframe so we can analyze the data easier\n",
        "boston = pd.DataFrame(boston_raw.data, columns=boston_raw.feature_names)\n",
        "#target is the predict_to column, in this case it is medv and numerical in nature.\n",
        "boston['MEDV'] = boston_raw.target\n",
        "\n",
        "print(boston.shape)\n",
        "boston.head(5)"
      ],
      "execution_count": null,
      "outputs": [
        {
          "output_type": "stream",
          "text": [
            "(506, 14)\n"
          ],
          "name": "stdout"
        },
        {
          "output_type": "execute_result",
          "data": {
            "text/html": [
              "<div>\n",
              "<style scoped>\n",
              "    .dataframe tbody tr th:only-of-type {\n",
              "        vertical-align: middle;\n",
              "    }\n",
              "\n",
              "    .dataframe tbody tr th {\n",
              "        vertical-align: top;\n",
              "    }\n",
              "\n",
              "    .dataframe thead th {\n",
              "        text-align: right;\n",
              "    }\n",
              "</style>\n",
              "<table border=\"1\" class=\"dataframe\">\n",
              "  <thead>\n",
              "    <tr style=\"text-align: right;\">\n",
              "      <th></th>\n",
              "      <th>CRIM</th>\n",
              "      <th>ZN</th>\n",
              "      <th>INDUS</th>\n",
              "      <th>CHAS</th>\n",
              "      <th>NOX</th>\n",
              "      <th>RM</th>\n",
              "      <th>AGE</th>\n",
              "      <th>DIS</th>\n",
              "      <th>RAD</th>\n",
              "      <th>TAX</th>\n",
              "      <th>PTRATIO</th>\n",
              "      <th>B</th>\n",
              "      <th>LSTAT</th>\n",
              "      <th>MEDV</th>\n",
              "    </tr>\n",
              "  </thead>\n",
              "  <tbody>\n",
              "    <tr>\n",
              "      <th>0</th>\n",
              "      <td>0.00632</td>\n",
              "      <td>18.0</td>\n",
              "      <td>2.31</td>\n",
              "      <td>0.0</td>\n",
              "      <td>0.538</td>\n",
              "      <td>6.575</td>\n",
              "      <td>65.2</td>\n",
              "      <td>4.0900</td>\n",
              "      <td>1.0</td>\n",
              "      <td>296.0</td>\n",
              "      <td>15.3</td>\n",
              "      <td>396.90</td>\n",
              "      <td>4.98</td>\n",
              "      <td>24.0</td>\n",
              "    </tr>\n",
              "    <tr>\n",
              "      <th>1</th>\n",
              "      <td>0.02731</td>\n",
              "      <td>0.0</td>\n",
              "      <td>7.07</td>\n",
              "      <td>0.0</td>\n",
              "      <td>0.469</td>\n",
              "      <td>6.421</td>\n",
              "      <td>78.9</td>\n",
              "      <td>4.9671</td>\n",
              "      <td>2.0</td>\n",
              "      <td>242.0</td>\n",
              "      <td>17.8</td>\n",
              "      <td>396.90</td>\n",
              "      <td>9.14</td>\n",
              "      <td>21.6</td>\n",
              "    </tr>\n",
              "    <tr>\n",
              "      <th>2</th>\n",
              "      <td>0.02729</td>\n",
              "      <td>0.0</td>\n",
              "      <td>7.07</td>\n",
              "      <td>0.0</td>\n",
              "      <td>0.469</td>\n",
              "      <td>7.185</td>\n",
              "      <td>61.1</td>\n",
              "      <td>4.9671</td>\n",
              "      <td>2.0</td>\n",
              "      <td>242.0</td>\n",
              "      <td>17.8</td>\n",
              "      <td>392.83</td>\n",
              "      <td>4.03</td>\n",
              "      <td>34.7</td>\n",
              "    </tr>\n",
              "    <tr>\n",
              "      <th>3</th>\n",
              "      <td>0.03237</td>\n",
              "      <td>0.0</td>\n",
              "      <td>2.18</td>\n",
              "      <td>0.0</td>\n",
              "      <td>0.458</td>\n",
              "      <td>6.998</td>\n",
              "      <td>45.8</td>\n",
              "      <td>6.0622</td>\n",
              "      <td>3.0</td>\n",
              "      <td>222.0</td>\n",
              "      <td>18.7</td>\n",
              "      <td>394.63</td>\n",
              "      <td>2.94</td>\n",
              "      <td>33.4</td>\n",
              "    </tr>\n",
              "    <tr>\n",
              "      <th>4</th>\n",
              "      <td>0.06905</td>\n",
              "      <td>0.0</td>\n",
              "      <td>2.18</td>\n",
              "      <td>0.0</td>\n",
              "      <td>0.458</td>\n",
              "      <td>7.147</td>\n",
              "      <td>54.2</td>\n",
              "      <td>6.0622</td>\n",
              "      <td>3.0</td>\n",
              "      <td>222.0</td>\n",
              "      <td>18.7</td>\n",
              "      <td>396.90</td>\n",
              "      <td>5.33</td>\n",
              "      <td>36.2</td>\n",
              "    </tr>\n",
              "  </tbody>\n",
              "</table>\n",
              "</div>"
            ],
            "text/plain": [
              "      CRIM    ZN  INDUS  CHAS    NOX  ...    TAX  PTRATIO       B  LSTAT  MEDV\n",
              "0  0.00632  18.0   2.31   0.0  0.538  ...  296.0     15.3  396.90   4.98  24.0\n",
              "1  0.02731   0.0   7.07   0.0  0.469  ...  242.0     17.8  396.90   9.14  21.6\n",
              "2  0.02729   0.0   7.07   0.0  0.469  ...  242.0     17.8  392.83   4.03  34.7\n",
              "3  0.03237   0.0   2.18   0.0  0.458  ...  222.0     18.7  394.63   2.94  33.4\n",
              "4  0.06905   0.0   2.18   0.0  0.458  ...  222.0     18.7  396.90   5.33  36.2\n",
              "\n",
              "[5 rows x 14 columns]"
            ]
          },
          "metadata": {
            "tags": []
          },
          "execution_count": 66
        }
      ]
    },
    {
      "cell_type": "markdown",
      "metadata": {
        "id": "mBtOZsTUy1-p"
      },
      "source": [
        "**Data Types and Missing Values**"
      ]
    },
    {
      "cell_type": "code",
      "metadata": {
        "colab": {
          "base_uri": "https://localhost:8080/"
        },
        "id": "88Nb2I5k-air",
        "outputId": "fac4c94a-3a58-42b0-c755-7abd59465e6c"
      },
      "source": [
        "# check data summary\n",
        "boston.info()"
      ],
      "execution_count": null,
      "outputs": [
        {
          "output_type": "stream",
          "text": [
            "<class 'pandas.core.frame.DataFrame'>\n",
            "RangeIndex: 506 entries, 0 to 505\n",
            "Data columns (total 14 columns):\n",
            " #   Column   Non-Null Count  Dtype  \n",
            "---  ------   --------------  -----  \n",
            " 0   CRIM     506 non-null    float64\n",
            " 1   ZN       506 non-null    float64\n",
            " 2   INDUS    506 non-null    float64\n",
            " 3   CHAS     506 non-null    float64\n",
            " 4   NOX      506 non-null    float64\n",
            " 5   RM       506 non-null    float64\n",
            " 6   AGE      506 non-null    float64\n",
            " 7   DIS      506 non-null    float64\n",
            " 8   RAD      506 non-null    float64\n",
            " 9   TAX      506 non-null    float64\n",
            " 10  PTRATIO  506 non-null    float64\n",
            " 11  B        506 non-null    float64\n",
            " 12  LSTAT    506 non-null    float64\n",
            " 13  MEDV     506 non-null    float64\n",
            "dtypes: float64(14)\n",
            "memory usage: 55.5 KB\n"
          ],
          "name": "stdout"
        }
      ]
    },
    {
      "cell_type": "code",
      "metadata": {
        "colab": {
          "base_uri": "https://localhost:8080/"
        },
        "id": "l7HuUOWg-xrE",
        "outputId": "f3d84fbf-945f-487d-f3c4-a40796d0ca28"
      },
      "source": [
        "# check null value counts\n",
        "boston.isnull().sum()"
      ],
      "execution_count": null,
      "outputs": [
        {
          "output_type": "execute_result",
          "data": {
            "text/plain": [
              "CRIM       0\n",
              "ZN         0\n",
              "INDUS      0\n",
              "CHAS       0\n",
              "NOX        0\n",
              "RM         0\n",
              "AGE        0\n",
              "DIS        0\n",
              "RAD        0\n",
              "TAX        0\n",
              "PTRATIO    0\n",
              "B          0\n",
              "LSTAT      0\n",
              "MEDV       0\n",
              "dtype: int64"
            ]
          },
          "metadata": {
            "tags": []
          },
          "execution_count": 68
        }
      ]
    },
    {
      "cell_type": "markdown",
      "metadata": {
        "id": "UZHhg0h7-_FW"
      },
      "source": [
        "There are no null values in the Boston housing dataset"
      ]
    },
    {
      "cell_type": "markdown",
      "metadata": {
        "id": "5HV6Ccw4y1-p"
      },
      "source": [
        "**Descriptive Statistics**"
      ]
    },
    {
      "cell_type": "code",
      "metadata": {
        "colab": {
          "base_uri": "https://localhost:8080/",
          "height": 307
        },
        "id": "KrYDhjhhB-93",
        "outputId": "1654fb2d-4dc6-4ca8-9b86-ea747c88cbdb"
      },
      "source": [
        "boston.describe()"
      ],
      "execution_count": null,
      "outputs": [
        {
          "output_type": "execute_result",
          "data": {
            "text/html": [
              "<div>\n",
              "<style scoped>\n",
              "    .dataframe tbody tr th:only-of-type {\n",
              "        vertical-align: middle;\n",
              "    }\n",
              "\n",
              "    .dataframe tbody tr th {\n",
              "        vertical-align: top;\n",
              "    }\n",
              "\n",
              "    .dataframe thead th {\n",
              "        text-align: right;\n",
              "    }\n",
              "</style>\n",
              "<table border=\"1\" class=\"dataframe\">\n",
              "  <thead>\n",
              "    <tr style=\"text-align: right;\">\n",
              "      <th></th>\n",
              "      <th>CRIM</th>\n",
              "      <th>ZN</th>\n",
              "      <th>INDUS</th>\n",
              "      <th>CHAS</th>\n",
              "      <th>NOX</th>\n",
              "      <th>RM</th>\n",
              "      <th>AGE</th>\n",
              "      <th>DIS</th>\n",
              "      <th>RAD</th>\n",
              "      <th>TAX</th>\n",
              "      <th>PTRATIO</th>\n",
              "      <th>B</th>\n",
              "      <th>LSTAT</th>\n",
              "      <th>MEDV</th>\n",
              "    </tr>\n",
              "  </thead>\n",
              "  <tbody>\n",
              "    <tr>\n",
              "      <th>count</th>\n",
              "      <td>506.000000</td>\n",
              "      <td>506.000000</td>\n",
              "      <td>506.000000</td>\n",
              "      <td>506.000000</td>\n",
              "      <td>506.000000</td>\n",
              "      <td>506.000000</td>\n",
              "      <td>506.000000</td>\n",
              "      <td>506.000000</td>\n",
              "      <td>506.000000</td>\n",
              "      <td>506.000000</td>\n",
              "      <td>506.000000</td>\n",
              "      <td>506.000000</td>\n",
              "      <td>506.000000</td>\n",
              "      <td>506.000000</td>\n",
              "    </tr>\n",
              "    <tr>\n",
              "      <th>mean</th>\n",
              "      <td>3.613524</td>\n",
              "      <td>11.363636</td>\n",
              "      <td>11.136779</td>\n",
              "      <td>0.069170</td>\n",
              "      <td>0.554695</td>\n",
              "      <td>6.284634</td>\n",
              "      <td>68.574901</td>\n",
              "      <td>3.795043</td>\n",
              "      <td>9.549407</td>\n",
              "      <td>408.237154</td>\n",
              "      <td>18.455534</td>\n",
              "      <td>356.674032</td>\n",
              "      <td>12.653063</td>\n",
              "      <td>22.532806</td>\n",
              "    </tr>\n",
              "    <tr>\n",
              "      <th>std</th>\n",
              "      <td>8.601545</td>\n",
              "      <td>23.322453</td>\n",
              "      <td>6.860353</td>\n",
              "      <td>0.253994</td>\n",
              "      <td>0.115878</td>\n",
              "      <td>0.702617</td>\n",
              "      <td>28.148861</td>\n",
              "      <td>2.105710</td>\n",
              "      <td>8.707259</td>\n",
              "      <td>168.537116</td>\n",
              "      <td>2.164946</td>\n",
              "      <td>91.294864</td>\n",
              "      <td>7.141062</td>\n",
              "      <td>9.197104</td>\n",
              "    </tr>\n",
              "    <tr>\n",
              "      <th>min</th>\n",
              "      <td>0.006320</td>\n",
              "      <td>0.000000</td>\n",
              "      <td>0.460000</td>\n",
              "      <td>0.000000</td>\n",
              "      <td>0.385000</td>\n",
              "      <td>3.561000</td>\n",
              "      <td>2.900000</td>\n",
              "      <td>1.129600</td>\n",
              "      <td>1.000000</td>\n",
              "      <td>187.000000</td>\n",
              "      <td>12.600000</td>\n",
              "      <td>0.320000</td>\n",
              "      <td>1.730000</td>\n",
              "      <td>5.000000</td>\n",
              "    </tr>\n",
              "    <tr>\n",
              "      <th>25%</th>\n",
              "      <td>0.082045</td>\n",
              "      <td>0.000000</td>\n",
              "      <td>5.190000</td>\n",
              "      <td>0.000000</td>\n",
              "      <td>0.449000</td>\n",
              "      <td>5.885500</td>\n",
              "      <td>45.025000</td>\n",
              "      <td>2.100175</td>\n",
              "      <td>4.000000</td>\n",
              "      <td>279.000000</td>\n",
              "      <td>17.400000</td>\n",
              "      <td>375.377500</td>\n",
              "      <td>6.950000</td>\n",
              "      <td>17.025000</td>\n",
              "    </tr>\n",
              "    <tr>\n",
              "      <th>50%</th>\n",
              "      <td>0.256510</td>\n",
              "      <td>0.000000</td>\n",
              "      <td>9.690000</td>\n",
              "      <td>0.000000</td>\n",
              "      <td>0.538000</td>\n",
              "      <td>6.208500</td>\n",
              "      <td>77.500000</td>\n",
              "      <td>3.207450</td>\n",
              "      <td>5.000000</td>\n",
              "      <td>330.000000</td>\n",
              "      <td>19.050000</td>\n",
              "      <td>391.440000</td>\n",
              "      <td>11.360000</td>\n",
              "      <td>21.200000</td>\n",
              "    </tr>\n",
              "    <tr>\n",
              "      <th>75%</th>\n",
              "      <td>3.677083</td>\n",
              "      <td>12.500000</td>\n",
              "      <td>18.100000</td>\n",
              "      <td>0.000000</td>\n",
              "      <td>0.624000</td>\n",
              "      <td>6.623500</td>\n",
              "      <td>94.075000</td>\n",
              "      <td>5.188425</td>\n",
              "      <td>24.000000</td>\n",
              "      <td>666.000000</td>\n",
              "      <td>20.200000</td>\n",
              "      <td>396.225000</td>\n",
              "      <td>16.955000</td>\n",
              "      <td>25.000000</td>\n",
              "    </tr>\n",
              "    <tr>\n",
              "      <th>max</th>\n",
              "      <td>88.976200</td>\n",
              "      <td>100.000000</td>\n",
              "      <td>27.740000</td>\n",
              "      <td>1.000000</td>\n",
              "      <td>0.871000</td>\n",
              "      <td>8.780000</td>\n",
              "      <td>100.000000</td>\n",
              "      <td>12.126500</td>\n",
              "      <td>24.000000</td>\n",
              "      <td>711.000000</td>\n",
              "      <td>22.000000</td>\n",
              "      <td>396.900000</td>\n",
              "      <td>37.970000</td>\n",
              "      <td>50.000000</td>\n",
              "    </tr>\n",
              "  </tbody>\n",
              "</table>\n",
              "</div>"
            ],
            "text/plain": [
              "             CRIM          ZN       INDUS  ...           B       LSTAT        MEDV\n",
              "count  506.000000  506.000000  506.000000  ...  506.000000  506.000000  506.000000\n",
              "mean     3.613524   11.363636   11.136779  ...  356.674032   12.653063   22.532806\n",
              "std      8.601545   23.322453    6.860353  ...   91.294864    7.141062    9.197104\n",
              "min      0.006320    0.000000    0.460000  ...    0.320000    1.730000    5.000000\n",
              "25%      0.082045    0.000000    5.190000  ...  375.377500    6.950000   17.025000\n",
              "50%      0.256510    0.000000    9.690000  ...  391.440000   11.360000   21.200000\n",
              "75%      3.677083   12.500000   18.100000  ...  396.225000   16.955000   25.000000\n",
              "max     88.976200  100.000000   27.740000  ...  396.900000   37.970000   50.000000\n",
              "\n",
              "[8 rows x 14 columns]"
            ]
          },
          "metadata": {
            "tags": []
          },
          "execution_count": 69
        }
      ]
    },
    {
      "cell_type": "code",
      "metadata": {
        "colab": {
          "base_uri": "https://localhost:8080/"
        },
        "id": "yQp2jk8gDCzm",
        "outputId": "df0f68a6-e2de-44dc-8736-a15c2d6c5dfe"
      },
      "source": [
        "boston.groupby('MEDV').size()"
      ],
      "execution_count": null,
      "outputs": [
        {
          "output_type": "execute_result",
          "data": {
            "text/plain": [
              "MEDV\n",
              "5.0      2\n",
              "5.6      1\n",
              "6.3      1\n",
              "7.0      2\n",
              "7.2      3\n",
              "        ..\n",
              "46.7     1\n",
              "48.3     1\n",
              "48.5     1\n",
              "48.8     1\n",
              "50.0    16\n",
              "Length: 229, dtype: int64"
            ]
          },
          "metadata": {
            "tags": []
          },
          "execution_count": 70
        }
      ]
    },
    {
      "cell_type": "markdown",
      "metadata": {
        "id": "YOYMPnUPE9MT"
      },
      "source": [
        "### Split Data into Training and Testing sets"
      ]
    },
    {
      "cell_type": "code",
      "metadata": {
        "colab": {
          "base_uri": "https://localhost:8080/"
        },
        "id": "sXvBVBuNhTid",
        "outputId": "9cd7e694-32c0-4c75-c8f5-18e16fc144cc"
      },
      "source": [
        "from sklearn import model_selection\n",
        "\n",
        "#create train and test split\n",
        "boston_train, boston_test = model_selection.train_test_split(boston,test_size=0.2,random_state=1)\n",
        "print(\"Shape of the original boston data: \", boston.shape)\n",
        "print(\"Shape of the boston train data = \", boston_train.shape)\n",
        "print(\"Shape of the boston test data = \", boston_test.shape)\n",
        "\n",
        "#Resetting index for prediction time\n",
        "boston_train = boston_train.reset_index(drop=True)\n",
        "boston_test = boston_test.reset_index(drop=True)"
      ],
      "execution_count": null,
      "outputs": [
        {
          "output_type": "stream",
          "text": [
            "Shape of the original boston data:  (506, 14)\n",
            "Shape of the boston train data =  (404, 14)\n",
            "Shape of the boston test data =  (102, 14)\n"
          ],
          "name": "stdout"
        }
      ]
    },
    {
      "cell_type": "markdown",
      "metadata": {
        "id": "9RyPaVPxy1-p"
      },
      "source": [
        "### Feature Selection\n"
      ]
    },
    {
      "cell_type": "markdown",
      "metadata": {
        "id": "YellBFt2uRlr"
      },
      "source": [
        "In the boston dataset, are there any columns that are not useful or have very low correlation?\n",
        "\n",
        "- A correlation value can range between -1 to 1. \n",
        "- Value closer to -1 means high negative correlation between two variables\n",
        "- Value closer to +1 means high positive correlation between two variables\n",
        "- Value closer to 0 means no or very low correlation between two variables"
      ]
    },
    {
      "cell_type": "code",
      "metadata": {
        "colab": {
          "base_uri": "https://localhost:8080/",
          "height": 318
        },
        "id": "sheloUKDtU7Z",
        "outputId": "73c75e44-8c2e-4046-8821-6b61779831bd"
      },
      "source": [
        "import seaborn as sns\n",
        "\n",
        "boston_corr_matrix = boston_train.corr()\n",
        "sns.heatmap(data=boston_corr_matrix, annot=False)"
      ],
      "execution_count": null,
      "outputs": [
        {
          "output_type": "execute_result",
          "data": {
            "text/plain": [
              "<matplotlib.axes._subplots.AxesSubplot at 0x7f22980efef0>"
            ]
          },
          "metadata": {
            "tags": []
          },
          "execution_count": 72
        },
        {
          "output_type": "display_data",
          "data": {
            "image/png": "[encoded data removed]",
            "text/plain": [
              "<Figure size 432x288 with 2 Axes>"
            ]
          },
          "metadata": {
            "tags": [],
            "needs_background": "light"
          }
        }
      ]
    },
    {
      "cell_type": "markdown",
      "metadata": {
        "id": "IPkByFEvyr4a"
      },
      "source": [
        "Since MEDV is our predict column, we want to pick features which have a positive and negative correlation with MEDV. Adding in columns which have a low or non-existent correlation would add to our 'Curse of Dimensionality' issue.\n",
        "\n",
        "For this, let us pick only the top 4 most correlated features to MEDV for training our model."
      ]
    },
    {
      "cell_type": "code",
      "metadata": {
        "colab": {
          "base_uri": "https://localhost:8080/"
        },
        "id": "7Rf6w5Dhyh9z",
        "outputId": "23b47e41-caa7-45c1-b667-2b799d261649"
      },
      "source": [
        "#printing all the correlations to MEDV in descending order\n",
        "boston_corr_matrix['MEDV'].sort_values(ascending=False)"
      ],
      "execution_count": null,
      "outputs": [
        {
          "output_type": "execute_result",
          "data": {
            "text/plain": [
              "MEDV       1.000000\n",
              "RM         0.670963\n",
              "ZN         0.387510\n",
              "B          0.329432\n",
              "DIS        0.280202\n",
              "CHAS       0.156214\n",
              "CRIM      -0.392849\n",
              "RAD       -0.393258\n",
              "AGE       -0.413612\n",
              "NOX       -0.449965\n",
              "TAX       -0.464379\n",
              "INDUS     -0.498042\n",
              "PTRATIO   -0.524866\n",
              "LSTAT     -0.741302\n",
              "Name: MEDV, dtype: float64"
            ]
          },
          "metadata": {
            "tags": []
          },
          "execution_count": 73
        }
      ]
    },
    {
      "cell_type": "markdown",
      "metadata": {
        "id": "MLoJDOsdz04S"
      },
      "source": [
        "For this, let us pick 2 variables with high positive correlation (RM,ZN) and 2 with high negative correlation (PTRATIO, LSSTAT).\n",
        "\n",
        "We will do this in the data pipeline section to ensure the same processes are done over the train and test datasets."
      ]
    },
    {
      "cell_type": "markdown",
      "metadata": {
        "id": "a04lcHfzLxu7"
      },
      "source": [
        "## Split Data into Features and Labels"
      ]
    },
    {
      "cell_type": "markdown",
      "metadata": {
        "id": "k9Qk_D6AMd0b"
      },
      "source": [
        "For the Boston dataset, we are going to use only input columns we selected from the Feature Selection process (RM, ZN, PTRATIO, INDUS) and the output column would be 'MEDV'"
      ]
    },
    {
      "cell_type": "code",
      "metadata": {
        "colab": {
          "base_uri": "https://localhost:8080/"
        },
        "id": "ddLpWtflMuEx",
        "scrolled": true,
        "outputId": "872fcc9c-f782-4ad2-853c-bf64c66a0de2"
      },
      "source": [
        "#define input and predict to ccolumns\n",
        "boston_features = ['RM', 'ZN', 'PTRATIO', 'LSTAT']\n",
        "boston_labels = ['MEDV']\n",
        "\n",
        "print('BOSTON DATASET')\n",
        "print(\"Features - \" + str(boston_features))\n",
        "print(\"Labels - \" + str(boston_labels))\n",
        "\n",
        "boston_train_features = boston_train[boston_features]\n",
        "boston_train_labels = boston_train[boston_labels]\n",
        "print('✔ Train data split into features and labels')\n",
        "\n",
        "boston_test_features = boston_test[boston_features]\n",
        "boston_test_labels = boston_test[boston_labels]\n",
        "print('✔ Test data split into features and labels')"
      ],
      "execution_count": null,
      "outputs": [
        {
          "output_type": "stream",
          "text": [
            "BOSTON DATASET\n",
            "Features - ['RM', 'ZN', 'PTRATIO', 'LSTAT']\n",
            "Labels - ['MEDV']\n",
            "✔ Train data split into features and labels\n",
            "✔ Test data split into features and labels\n"
          ],
          "name": "stdout"
        }
      ]
    },
    {
      "cell_type": "markdown",
      "metadata": {
        "id": "J8BoS1PUcVNk"
      },
      "source": [
        "## Model Creation"
      ]
    },
    {
      "cell_type": "markdown",
      "metadata": {
        "id": "8Us7ocgB6od4"
      },
      "source": [
        "#### Linear Regression Intuition\n",
        "![Screen Shot 2020-12-07 at 7.58.52 PM.png](data:image/png;base64,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)\n",
        "\n",
        "**Scenario: Simple Linear Regression**\n",
        "\n",
        "Suppose we have a dataset which contains information about relationship between 'Years of experience' and 'Salary' in a particular work field.\n",
        "\n",
        "The dependent variable could represent salary. You could assume that level of experience will impact salary. So, you would label the independent variable as experience.\n",
        "\n",
        "Representing the experience with variable x and salary with y, we can say that y ∝ x. ( y is proportional to x).\n",
        "\n",
        "However, a change in x does not usually mean an equal change in y.\n",
        "\n",
        "The coefficient can be thought of as a multiplier that connects the independent and dependent variables. It translates how much y will be affected by a unit change in x.\n",
        "\n",
        "Let's add a coefficient b1 to our example.\n",
        "\n",
        "We thus get $y = b_1*x$\n",
        "\n",
        "Now the salaries in a particular job always start with the base amount or the lowest possible salary. We thus need to take that constant in consideration.\n",
        "\n",
        "The constant b0 would be the starting salary for someone with a zero level of experience. Assuming every fresher in the company gets 30K as starting salary we can set it as the base price.\n",
        "\n",
        "Finally, we have:\n",
        "\n",
        "$Salary = b_0 + b_1* Experience$\n",
        "\n",
        "or\n",
        "\n",
        "$y = b_0 + b_1*x$\n",
        "\n",
        "This is similar to the equation of a straight line $y= m*x +c$\n",
        "\n",
        "**Our objective is to find the values of $b_0$ and $b_1$ that will best fit this data.**\n",
        "\n",
        "These 2 variables/coefficients are actually called hyperparameters. In machine learning, a hyperparameter is a parameter whose value is used to control the learning process. And we must always try to find some optimal parameters while building a machine learning model.\n",
        "\n",
        "This line is your regression model.\n",
        "\n",
        "![SLR-salary example.png](data:image/png;base64,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)\n",
        "\n",
        "Documentation at https://scikit-learn.org/stable/modules/generated/sklearn.linear_model.LinearRegression.html"
      ]
    },
    {
      "cell_type": "code",
      "metadata": {
        "colab": {
          "base_uri": "https://localhost:8080/"
        },
        "id": "kpBb4TQK7O14",
        "outputId": "b4df5d14-d40f-43e9-f157-f909f0b309b0"
      },
      "source": [
        "from sklearn.linear_model import LinearRegression\n",
        "\n",
        "# create the model object\n",
        "lr = LinearRegression()\n",
        "\n",
        "# fit the model on train data\n",
        "lr.fit(boston_train_features, boston_train_labels)"
      ],
      "execution_count": null,
      "outputs": [
        {
          "output_type": "execute_result",
          "data": {
            "text/plain": [
              "LinearRegression(copy_X=True, fit_intercept=True, n_jobs=None, normalize=False)"
            ]
          },
          "metadata": {
            "tags": []
          },
          "execution_count": 75
        }
      ]
    },
    {
      "cell_type": "markdown",
      "metadata": {
        "id": "GKUN05MoQlpW"
      },
      "source": [
        "### Predicting the Test set Results"
      ]
    },
    {
      "cell_type": "code",
      "metadata": {
        "colab": {
          "base_uri": "https://localhost:8080/",
          "height": 197
        },
        "id": "Z8gt3uS3Qkum",
        "outputId": "ae269f6e-1284-4445-c0b9-3ba6152a1920"
      },
      "source": [
        "#Predictions on the Test data\n",
        "predictions_lr = lr.predict(boston_test_features)\n",
        "\n",
        "#Putting the above predictions and probabilities together to create a readable df\n",
        "lr_df = pd.DataFrame(predictions_lr.reshape(len(predictions_lr),1))\n",
        "lr_df.rename(columns={0:'lr_prediction'}, inplace=True)\n",
        "lr_df.head(5)"
      ],
      "execution_count": null,
      "outputs": [
        {
          "output_type": "execute_result",
          "data": {
            "text/html": [
              "<div>\n",
              "<style scoped>\n",
              "    .dataframe tbody tr th:only-of-type {\n",
              "        vertical-align: middle;\n",
              "    }\n",
              "\n",
              "    .dataframe tbody tr th {\n",
              "        vertical-align: top;\n",
              "    }\n",
              "\n",
              "    .dataframe thead th {\n",
              "        text-align: right;\n",
              "    }\n",
              "</style>\n",
              "<table border=\"1\" class=\"dataframe\">\n",
              "  <thead>\n",
              "    <tr style=\"text-align: right;\">\n",
              "      <th></th>\n",
              "      <th>lr_prediction</th>\n",
              "    </tr>\n",
              "  </thead>\n",
              "  <tbody>\n",
              "    <tr>\n",
              "      <th>0</th>\n",
              "      <td>27.829478</td>\n",
              "    </tr>\n",
              "    <tr>\n",
              "      <th>1</th>\n",
              "      <td>28.173114</td>\n",
              "    </tr>\n",
              "    <tr>\n",
              "      <th>2</th>\n",
              "      <td>18.600315</td>\n",
              "    </tr>\n",
              "    <tr>\n",
              "      <th>3</th>\n",
              "      <td>23.346711</td>\n",
              "    </tr>\n",
              "    <tr>\n",
              "      <th>4</th>\n",
              "      <td>18.892405</td>\n",
              "    </tr>\n",
              "  </tbody>\n",
              "</table>\n",
              "</div>"
            ],
            "text/plain": [
              "   lr_prediction\n",
              "0      27.829478\n",
              "1      28.173114\n",
              "2      18.600315\n",
              "3      23.346711\n",
              "4      18.892405"
            ]
          },
          "metadata": {
            "tags": []
          },
          "execution_count": 76
        }
      ]
    },
    {
      "cell_type": "code",
      "metadata": {
        "colab": {
          "base_uri": "https://localhost:8080/",
          "height": 197
        },
        "id": "AzhkiGE57pCH",
        "outputId": "da143330-b9ec-4891-9215-1a46effefc01"
      },
      "source": [
        "#Concat the predictions of linear regression to the test dataset\n",
        "boston_test_prediction = pd.concat([boston_test_labels, lr_df], axis=1)\n",
        "boston_test_prediction.head(5)"
      ],
      "execution_count": null,
      "outputs": [
        {
          "output_type": "execute_result",
          "data": {
            "text/html": [
              "<div>\n",
              "<style scoped>\n",
              "    .dataframe tbody tr th:only-of-type {\n",
              "        vertical-align: middle;\n",
              "    }\n",
              "\n",
              "    .dataframe tbody tr th {\n",
              "        vertical-align: top;\n",
              "    }\n",
              "\n",
              "    .dataframe thead th {\n",
              "        text-align: right;\n",
              "    }\n",
              "</style>\n",
              "<table border=\"1\" class=\"dataframe\">\n",
              "  <thead>\n",
              "    <tr style=\"text-align: right;\">\n",
              "      <th></th>\n",
              "      <th>MEDV</th>\n",
              "      <th>lr_prediction</th>\n",
              "    </tr>\n",
              "  </thead>\n",
              "  <tbody>\n",
              "    <tr>\n",
              "      <th>0</th>\n",
              "      <td>28.2</td>\n",
              "      <td>27.829478</td>\n",
              "    </tr>\n",
              "    <tr>\n",
              "      <th>1</th>\n",
              "      <td>23.9</td>\n",
              "      <td>28.173114</td>\n",
              "    </tr>\n",
              "    <tr>\n",
              "      <th>2</th>\n",
              "      <td>16.6</td>\n",
              "      <td>18.600315</td>\n",
              "    </tr>\n",
              "    <tr>\n",
              "      <th>3</th>\n",
              "      <td>22.0</td>\n",
              "      <td>23.346711</td>\n",
              "    </tr>\n",
              "    <tr>\n",
              "      <th>4</th>\n",
              "      <td>20.8</td>\n",
              "      <td>18.892405</td>\n",
              "    </tr>\n",
              "  </tbody>\n",
              "</table>\n",
              "</div>"
            ],
            "text/plain": [
              "   MEDV  lr_prediction\n",
              "0  28.2      27.829478\n",
              "1  23.9      28.173114\n",
              "2  16.6      18.600315\n",
              "3  22.0      23.346711\n",
              "4  20.8      18.892405"
            ]
          },
          "metadata": {
            "tags": []
          },
          "execution_count": 77
        }
      ]
    },
    {
      "cell_type": "code",
      "metadata": {
        "colab": {
          "base_uri": "https://localhost:8080/"
        },
        "id": "TcO29FQnko8p",
        "outputId": "0962234e-204c-4cf5-8915-cc054d87af0a"
      },
      "source": [
        "# interpreting coefficients\n",
        "# prints y-intercept\n",
        "print(lr.intercept_)\n",
        "\n",
        "# prints the coefficient\n",
        "print(lr.coef_)"
      ],
      "execution_count": null,
      "outputs": [
        {
          "output_type": "stream",
          "text": [
            "[24.28507347]\n",
            "[[ 3.82478846e+00 -2.96289190e-03 -9.82968918e-01 -5.93249451e-01]]\n"
          ],
          "name": "stdout"
        }
      ]
    },
    {
      "cell_type": "markdown",
      "metadata": {
        "id": "bwtKpWw5jB4p"
      },
      "source": [
        "The intercept will be your $b_0$ value; and coefficient will be $b_1$."
      ]
    },
    {
      "cell_type": "markdown",
      "metadata": {
        "id": "ZnAFcXKljKZF"
      },
      "source": [
        "### Model Evaluation"
      ]
    },
    {
      "cell_type": "markdown",
      "metadata": {
        "id": "w8Ch4aN9jRR4"
      },
      "source": [
        "There are three primary metrics used to evaluate linear models. These are: Mean absolute error (MAE), Mean squared error (MSE), or Root mean squared error (RMSE).\n",
        "\n",
        "Mean Squared Error: It is simply the average of the squared difference between the target value and the value predicted by the regression model.\n",
        "\n",
        "Root Mean Squared Error: It is the square root of the averaged squared difference between the target value and the value predicted by the model.\n",
        "\n",
        "Mean Absolute Error: It is the absolute difference between the target value and the value predicted by the model. "
      ]
    },
    {
      "cell_type": "code",
      "metadata": {
        "colab": {
          "base_uri": "https://localhost:8080/"
        },
        "id": "TMS34yTHjYvI",
        "outputId": "0ce2f1b4-6d4a-469b-f119-d8c0634c49ad"
      },
      "source": [
        "# import metrics library\n",
        "from sklearn import metrics\n",
        "\n",
        "# print result of MAE\n",
        "print(metrics.mean_absolute_error(boston_test_prediction['MEDV'], boston_test_prediction['lr_prediction']))\n",
        "\n",
        "#print result of MSE\n",
        "print(metrics.mean_squared_error(boston_test_prediction['MEDV'], boston_test_prediction['lr_prediction']))\n",
        "\n",
        "#print result of RMSE\n",
        "print(np.sqrt(metrics.mean_squared_error(boston_test_prediction['MEDV'], boston_test_prediction['lr_prediction'])))"
      ],
      "execution_count": null,
      "outputs": [
        {
          "output_type": "stream",
          "text": [
            "4.28125545229612\n",
            "29.97447785621386\n",
            "5.474895237008089\n"
          ],
          "name": "stdout"
        }
      ]
    },
    {
      "cell_type": "markdown",
      "metadata": {
        "id": "2zFSz7Sfj2YA"
      },
      "source": [
        "We'll be discussing about the model evaluation metrics in detail in the next session."
      ]
    },
    {
      "cell_type": "markdown",
      "metadata": {
        "id": "7C86QEQPjrEn"
      },
      "source": [
        "Congratulations! You have successfully built your first classification and regression model."
      ]
    }
  ]
}